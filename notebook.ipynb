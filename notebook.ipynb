{
  "cells": [
    {
      "cell_type": "markdown",
      "source": "# Beyond Clustering 101: leaving Scikit Learn (just a little) behind 🌌",
      "metadata": {
        "tags": [],
        "cell_id": "00000-3e3bdbfb-f7fc-4321-871d-cc059e082278",
        "deepnote_cell_type": "markdown"
      }
    },
    {
      "cell_type": "markdown",
      "source": "Hey! how are you?\n\nI'm going to assume that you've already ran some succesfull clustering over some toy or real datasets with Scikit Learn. You've had your fair share of reading, coding and learning and you're ready to peak outside so to speak. Well, you've arrived to the right place! This a small notebook to showcase some seriously awesome libraries and take advantange of Deepnote' features.\n\nThe main idea is to roll with the flow of a clustering process and add incremental complexity without getting lost in the way. We're going to cover these topics:\n\n1. Metrics and Graphics standarization with __Scikit Plot__\n2. Dimensionality reduction with __UMap__\n3. Interpretation of clusters with __Skope Rules__\n4. For times when the dataset keeps growing and your resources stay the same you call __Faiss__\n5. Demo-ing a webpage (so to speak..you'll see!) with __Flask__ directly from Deepnote\n\nAs a bonus for enduring the trip you'll get a flashy and from now on, indispensable, tool to _draw data_ 🤯, a link to the github repo and a dockefile to install and run Faiss-CPU in Deepnote.\n\nLet's start!",
      "metadata": {
        "tags": [],
        "cell_id": "00001-d5bc098e-ab0a-4947-a4da-b634c879822e",
        "deepnote_cell_type": "markdown"
      }
    },
    {
      "cell_type": "markdown",
      "source": "## 1. Metrics and Graphics standarization with Scikit Plot",
      "metadata": {
        "tags": [],
        "cell_id": "00002-a091b4cf-ebc6-46a4-b60c-1ea2a98d3544",
        "deepnote_cell_type": "markdown"
      }
    },
    {
      "cell_type": "markdown",
      "source": "First of all, you can Pip install every library from a cell, many cells, open a terminal or be smart and hide everything in the init file as Deepnote suggest 😉.\n\n![alt text](/pics/requirements.gif)",
      "metadata": {
        "tags": [],
        "cell_id": "00003-1a1d3cfe-f944-4cad-8ccc-c9d2f217d540",
        "deepnote_cell_type": "markdown"
      }
    },
    {
      "cell_type": "markdown",
      "source": "### 1st Bonus: Drawing data!\n\nThis is an awesome library, I first tried the web [calmcode.io](https://calmcode.io/labs/drawdata.html) and It's awesome. Just check all you can draw and use. Tiny detail, the copy-paste doesn't work for me using `pd.read_clipboard()`so I've just created a new file named _data.csv_, pasted the data in it and continued \n\n![alt text](/pics/scatterdraw.gif)",
      "metadata": {
        "tags": [],
        "cell_id": "00002-9d1d365b-c137-4e3d-a3b8-e770fe0d2560",
        "deepnote_cell_type": "markdown"
      }
    },
    {
      "cell_type": "code",
      "metadata": {
        "tags": [],
        "cell_id": "00003-0631c1b4-dd65-46ff-bd33-e462056f7ff2",
        "deepnote_to_be_reexecuted": false,
        "source_hash": "89015e5c",
        "execution_millis": 37,
        "execution_start": 1619364939156,
        "deepnote_cell_type": "code"
      },
      "source": "from drawdata import draw_scatter\ndraw_scatter()",
      "execution_count": null,
      "outputs": [
        {
          "output_type": "execute_result",
          "execution_count": 1,
          "data": {
            "text/plain": "<IPython.lib.display.IFrame at 0x7f37bbe8e510>",
            "text/html": "\n        <iframe\n            width=\"800\"\n            height=\"550\"\n            src=\"https://drawdata.xyz/scatter.html\"\n            frameborder=\"0\"\n            allowfullscreen\n        ></iframe>\n        "
          },
          "metadata": {}
        }
      ]
    },
    {
      "cell_type": "code",
      "metadata": {
        "tags": [],
        "cell_id": "00007-df4f7e32-0af2-4356-be87-b380be2cb91d",
        "deepnote_to_be_reexecuted": false,
        "source_hash": "c9ead286",
        "execution_millis": 1573,
        "execution_start": 1619364939185,
        "deepnote_cell_type": "code"
      },
      "source": "# Now we import all else that matters for this section\nimport pandas as pd # Old friend 🐼\nimport matplotlib.pyplot as plt # Experienced graph friend 📊\nimport seaborn as sns # New colourfull artist 👩‍🎨\nfrom sklearn.cluster import KMeans # We are here for this guy 👏\n\nimport scikitplot as skplt # New guy in town, It's our first library!\n\ndrawn_data = pd.read_csv('data.csv')",
      "execution_count": null,
      "outputs": []
    },
    {
      "cell_type": "markdown",
      "source": "Check the _chart_ option to quickly evaluate a dataset, It's seriously cool!!",
      "metadata": {
        "tags": [],
        "cell_id": "00008-801a4552-79d6-4f20-9184-e95291f579e9",
        "deepnote_cell_type": "markdown"
      }
    },
    {
      "cell_type": "code",
      "source": "",
      "metadata": {
        "cell_id": "00008-102ff4e7-1102-44db-b125-a5331f8255a4",
        "deepnote_variable_name": "drawn_data",
        "deepnote_visualization_spec": {
          "$schema": "https://vega.github.io/schema/vega-lite/v4.json",
          "mark": {
            "type": "point",
            "tooltip": {
              "content": "data"
            }
          },
          "height": 220,
          "autosize": {
            "type": "fit"
          },
          "data": {
            "name": "placeholder"
          },
          "encoding": {
            "x": {
              "field": "x",
              "type": "quantitative",
              "sort": "ascending",
              "scale": {
                "type": "linear",
                "zero": true
              }
            },
            "y": {
              "field": "y",
              "type": "quantitative",
              "sort": "ascending",
              "scale": {
                "type": "linear",
                "zero": true
              }
            },
            "color": {
              "field": "z",
              "type": "nominal",
              "sort": "ascending",
              "scale": {
                "type": "linear",
                "zero": false
              }
            }
          }
        },
        "deepnote_to_be_reexecuted": false,
        "source_hash": "b623e53d",
        "execution_millis": 245,
        "allow_embed": "code_output",
        "execution_start": 1619364940764,
        "deepnote_cell_type": "visualization"
      },
      "execution_count": null,
      "outputs": [
        {
          "output_type": "execute_result",
          "execution_count": 3,
          "data": {
            "text/html": "\n<div id=\"altair-viz-2193bd4bf909444182abdf0f45bd8de9\"></div>\n<script type=\"text/javascript\">\n  (function(spec, embedOpt){\n    let outputDiv = document.currentScript.previousElementSibling;\n    if (outputDiv.id !== \"altair-viz-2193bd4bf909444182abdf0f45bd8de9\") {\n      outputDiv = document.getElementById(\"altair-viz-2193bd4bf909444182abdf0f45bd8de9\");\n    }\n    const paths = {\n      \"vega\": \"https://cdn.jsdelivr.net/npm//vega@5?noext\",\n      \"vega-lib\": \"https://cdn.jsdelivr.net/npm//vega-lib?noext\",\n      \"vega-lite\": \"https://cdn.jsdelivr.net/npm//vega-lite@4.8.1?noext\",\n      \"vega-embed\": \"https://cdn.jsdelivr.net/npm//vega-embed@6?noext\",\n    };\n\n    function loadScript(lib) {\n      return new Promise(function(resolve, reject) {\n        var s = document.createElement('script');\n        s.src = paths[lib];\n        s.async = true;\n        s.onload = () => resolve(paths[lib]);\n        s.onerror = () => reject(`Error loading script: ${paths[lib]}`);\n        document.getElementsByTagName(\"head\")[0].appendChild(s);\n      });\n    }\n\n    function showError(err) {\n      outputDiv.innerHTML = `<div class=\"error\" style=\"color:red;\">${err}</div>`;\n      throw err;\n    }\n\n    function displayChart(vegaEmbed) {\n      vegaEmbed(outputDiv, spec, embedOpt)\n        .catch(err => showError(`Javascript Error: ${err.message}<br>This usually means there's a typo in your chart specification. See the javascript console for the full traceback.`));\n    }\n\n    if(typeof define === \"function\" && define.amd) {\n      requirejs.config({paths});\n      require([\"vega-embed\"], displayChart, err => showError(`Error loading script: ${err.message}`));\n    } else if (typeof vegaEmbed === \"function\") {\n      displayChart(vegaEmbed);\n    } else {\n      loadScript(\"vega\")\n        .then(() => loadScript(\"vega-lite\"))\n        .then(() => loadScript(\"vega-embed\"))\n        .catch(showError)\n        .then(() => displayChart(vegaEmbed));\n    }\n  })({\"config\": {\"view\": {\"continuousWidth\": 400, \"continuousHeight\": 300}, \"area\": {\"fill\": \"#51C0E9\"}, \"axis\": {\"labelFont\": \"Inter, sans-serif\", \"labelFontSize\": 12, \"labelFontWeight\": \"normal\", \"labelLimit\": 60, \"labelOverlap\": \"greedy\", \"titleFont\": \"Inter, sans-serif\", \"titleFontSize\": 12, \"titleFontWeight\": \"bold\"}, \"background\": \"#ffffff\", \"legend\": {\"labelFont\": \"Inter, sans-serif\", \"labelFontSize\": 12, \"titleFont\": \"Inter, sans-serif\", \"titleFontSize\": 12, \"titleFontWeight\": \"bold\"}, \"line\": {\"stroke\": \"#51C0E9\", \"strokeWidth\": 2}, \"rect\": {\"fill\": \"#51C0E9\"}, \"title\": {\"anchor\": \"start\", \"color\": \"#000000\", \"font\": \"Inter, sans-serif\", \"fontSize\": 22, \"fontWeight\": \"normal\"}}, \"data\": {\"name\": \"data-cff6462e6d8046c29376f4633d023376\"}, \"mark\": {\"type\": \"point\", \"tooltip\": {\"content\": \"data\"}}, \"autosize\": {\"type\": \"fit\"}, \"encoding\": {\"color\": {\"type\": \"nominal\", \"field\": \"z\", \"scale\": {\"type\": \"linear\", \"zero\": false}, \"sort\": \"ascending\"}, \"x\": {\"type\": \"quantitative\", \"field\": \"x\", \"scale\": {\"type\": \"linear\", \"zero\": true}, \"sort\": \"ascending\"}, \"y\": {\"type\": \"quantitative\", \"field\": \"y\", \"scale\": {\"type\": \"linear\", \"zero\": true}, \"sort\": \"ascending\"}}, \"height\": 248, \"width\": \"container\", \"$schema\": \"https://vega.github.io/schema/vega-lite/v4.json\", \"datasets\": {\"data-cff6462e6d8046c29376f4633d023376\": [{\"x\": 135.22792456181594, \"y\": 436.089452770872, \"z\": \"a\"}, {\"x\": 81.85977244416227, \"y\": 401.2530043483634, \"z\": \"a\"}, {\"x\": 103.00308982130908, \"y\": 342.20984380000925, \"z\": \"a\"}, {\"x\": 104.33698341148384, \"y\": 410.2991963056349, \"z\": \"a\"}, {\"x\": 93.54446522062584, \"y\": 383.7075076919147, \"z\": \"a\"}, {\"x\": 70.64730543285383, \"y\": 402.1346703880895, \"z\": \"a\"}, {\"x\": 64.4072499652471, \"y\": 335.55988011977, \"z\": \"a\"}, {\"x\": 64.86886553164788, \"y\": 363.1444304379896, \"z\": \"a\"}, {\"x\": 206.1682541973865, \"y\": 386.72355831683006, \"z\": \"a\"}, {\"x\": 223.20545905742893, \"y\": 413.52720497391374, \"z\": \"a\"}, {\"x\": 307.0327074472896, \"y\": 472.79344907119633, \"z\": \"a\"}, {\"x\": 276.2827033447307, \"y\": 459.7467014104316, \"z\": \"a\"}, {\"x\": 307.9191820857144, \"y\": 465.2517178211525, \"z\": \"a\"}, {\"x\": 267.2262941925539, \"y\": 498.3980187191089, \"z\": \"a\"}, {\"x\": 262.97877036375286, \"y\": 504.33782698162776, \"z\": \"a\"}, {\"x\": 282.426361071374, \"y\": 452.1090432137996, \"z\": \"a\"}, {\"x\": 238.2034517125836, \"y\": 424.3513116174703, \"z\": \"a\"}, {\"x\": 204.81349952979733, \"y\": 399.6884389512222, \"z\": \"a\"}, {\"x\": 112.91721013449428, \"y\": 412.45959410638926, \"z\": \"a\"}, {\"x\": 155.2824516086697, \"y\": 370.50743337525097, \"z\": \"a\"}, {\"x\": 157.73916776889328, \"y\": 367.5908698307236, \"z\": \"a\"}, {\"x\": 228.6605612939653, \"y\": 399.5159157445536, \"z\": \"a\"}, {\"x\": 252.99063524798663, \"y\": 353.7533833628913, \"z\": \"a\"}, {\"x\": 311.23262166753483, \"y\": 389.1560351621365, \"z\": \"a\"}, {\"x\": 298.72207086511, \"y\": 409.5243767892959, \"z\": \"a\"}, {\"x\": 252.7320614613633, \"y\": 391.3996350062053, \"z\": \"a\"}, {\"x\": 232.4252521679037, \"y\": 371.70489164442864, \"z\": \"a\"}, {\"x\": 237.681347233263, \"y\": 350.75416983246174, \"z\": \"a\"}, {\"x\": 112.38428855787872, \"y\": 329.1950447850926, \"z\": \"a\"}, {\"x\": 105.74414807633136, \"y\": 320.49712646144144, \"z\": \"a\"}, {\"x\": 134.2343074970372, \"y\": 322.071684998478, \"z\": \"a\"}, {\"x\": 105.90769619121816, \"y\": 355.0222136325599, \"z\": \"a\"}, {\"x\": 150.906811856578, \"y\": 291.7373156724292, \"z\": \"a\"}, {\"x\": 197.24960875512596, \"y\": 361.51017550785593, \"z\": \"a\"}, {\"x\": 233.41046530769464, \"y\": 430.6556868188168, \"z\": \"a\"}, {\"x\": 268.23411520436446, \"y\": 430.5470818038488, \"z\": \"a\"}, {\"x\": 204.1581804419024, \"y\": 374.30357069918097, \"z\": \"a\"}, {\"x\": 241.61032477535497, \"y\": 360.3437461467095, \"z\": \"a\"}, {\"x\": 233.33330147821417, \"y\": 363.1489839164776, \"z\": \"a\"}, {\"x\": 222.18406526184845, \"y\": 346.015329409097, \"z\": \"a\"}, {\"x\": 178.24414795441905, \"y\": 359.7028734362084, \"z\": \"a\"}, {\"x\": 178.098993856566, \"y\": 371.230062717559, \"z\": \"a\"}, {\"x\": 138.792544410004, \"y\": 361.5437898599385, \"z\": \"a\"}, {\"x\": 146.5751141027206, \"y\": 372.4587377552635, \"z\": \"a\"}, {\"x\": 156.43774464107088, \"y\": 381.3051866621258, \"z\": \"a\"}, {\"x\": 164.94314559519438, \"y\": 362.6834840000485, \"z\": \"a\"}, {\"x\": 505.66061193281314, \"y\": 83.91941403489727, \"z\": \"b\"}, {\"x\": 548.5712737869995, \"y\": 142.3690942150223, \"z\": \"b\"}, {\"x\": 526.3403435615816, \"y\": 148.36951459343055, \"z\": \"b\"}, {\"x\": 510.286270656978, \"y\": 132.01256009761806, \"z\": \"b\"}, {\"x\": 540.3905145538804, \"y\": 107.14997883365226, \"z\": \"b\"}, {\"x\": 546.5316918026031, \"y\": 175.45113596181318, \"z\": \"b\"}, {\"x\": 543.1498691266379, \"y\": 181.99206172745755, \"z\": \"b\"}, {\"x\": 588.5724503638721, \"y\": 131.12924588486177, \"z\": \"b\"}, {\"x\": 518.2771950745406, \"y\": 143.9969337719832, \"z\": \"b\"}, {\"x\": 543.811272762668, \"y\": 179.18693664976456, \"z\": \"b\"}, {\"x\": 533.667495056547, \"y\": 189.1268404212467, \"z\": \"b\"}, {\"x\": 581.8936400990215, \"y\": 125.68784796908228, \"z\": \"b\"}, {\"x\": 526.8718762812346, \"y\": 174.8681274725925, \"z\": \"b\"}, {\"x\": 566.5020667720349, \"y\": 198.0913580410777, \"z\": \"b\"}, {\"x\": 577.2226381334025, \"y\": 175.35432031922966, \"z\": \"b\"}, {\"x\": 615.6096116942265, \"y\": 206.25590050059776, \"z\": \"b\"}, {\"x\": 610.2543187490588, \"y\": 188.2539742635405, \"z\": \"b\"}, {\"x\": 604.2576766746254, \"y\": 177.4344147312628, \"z\": \"b\"}, {\"x\": 590.872776153367, \"y\": 176.81802470525815, \"z\": \"b\"}, {\"x\": 596.0296427569465, \"y\": 139.5164619677903, \"z\": \"b\"}, {\"x\": 560.371498338635, \"y\": 178.80120300503307, \"z\": \"b\"}, {\"x\": 528.7086283294068, \"y\": 102.74036161206408, \"z\": \"b\"}, {\"x\": 547.8530060841979, \"y\": 119.93349684553982, \"z\": \"b\"}, {\"x\": 548.6827689610229, \"y\": 155.0509621187117, \"z\": \"b\"}, {\"x\": 579.2324244064741, \"y\": 165.3921146194724, \"z\": \"b\"}, {\"x\": 627.2648547901482, \"y\": 138.75868435205473, \"z\": \"b\"}, {\"x\": 603.4028565097033, \"y\": 116.1856654428268, \"z\": \"b\"}, {\"x\": 596.5022139663383, \"y\": 151.14448597795842, \"z\": \"b\"}, {\"x\": 584.2223079169113, \"y\": 130.03057310479358, \"z\": \"b\"}, {\"x\": 572.2888416471815, \"y\": 68.22138909605513, \"z\": \"b\"}, {\"x\": 588.8603998605548, \"y\": 85.83332788235134, \"z\": \"b\"}, {\"x\": 548.120283879589, \"y\": 72.85816566810422, \"z\": \"b\"}, {\"x\": 504.1028875026854, \"y\": 89.91698031505899, \"z\": \"b\"}, {\"x\": 506.27570000350977, \"y\": 122.03317818426666, \"z\": \"b\"}, {\"x\": 551.1446165936867, \"y\": 82.39963535255504, \"z\": \"b\"}, {\"x\": 579.9857863742658, \"y\": 113.68597919583624, \"z\": \"b\"}, {\"x\": 637.5884204788041, \"y\": 167.07995175255604, \"z\": \"b\"}, {\"x\": 700.3699723985238, \"y\": 175.0372110673071, \"z\": \"b\"}, {\"x\": 682.38824775952, \"y\": 170.44552846304242, \"z\": \"b\"}, {\"x\": 659.7227315842804, \"y\": 157.4218936164781, \"z\": \"b\"}, {\"x\": 610.3914744119236, \"y\": 62.28961120423554, \"z\": \"b\"}, {\"x\": 638.2282343571243, \"y\": 51.00805434907409, \"z\": \"b\"}, {\"x\": 526.757866661627, \"y\": 42.07832427884881, \"z\": \"b\"}, {\"x\": 600.949736117592, \"y\": 92.3579931724292, \"z\": \"b\"}, {\"x\": 566.8702743026844, \"y\": 57.33605825982755, \"z\": \"b\"}, {\"x\": 607.2635132605454, \"y\": 70.93898592330021, \"z\": \"b\"}, {\"x\": 618.0255258355459, \"y\": 121.27564050216188, \"z\": \"b\"}, {\"x\": 639.1442097292654, \"y\": 118.87486826571296, \"z\": \"b\"}, {\"x\": 606.7068705595594, \"y\": 124.54519491321162, \"z\": \"b\"}, {\"x\": 630.4027618725306, \"y\": 101.82706367236602, \"z\": \"b\"}, {\"x\": 596.9840946624902, \"y\": 50.49965847973613, \"z\": \"b\"}, {\"x\": 604.4768533226539, \"y\": 129.5532425171363, \"z\": \"b\"}, {\"x\": 601.2974286272034, \"y\": 73.94796300310179, \"z\": \"b\"}, {\"x\": 552.1570348353955, \"y\": 91.71130007179272, \"z\": \"b\"}, {\"x\": 561.1125764909126, \"y\": 80.35543711712967, \"z\": \"b\"}, {\"x\": 586.8352902180196, \"y\": 94.24246195009492, \"z\": \"b\"}, {\"x\": 632.2685306867896, \"y\": 81.29956344852644, \"z\": \"b\"}, {\"x\": 624.9911570474433, \"y\": 108.53261109047656, \"z\": \"b\"}, {\"x\": 683.5035720752492, \"y\": 121.61360328142716, \"z\": \"b\"}, {\"x\": 608.6938842876947, \"y\": 80.57847370329637, \"z\": \"b\"}, {\"x\": 583.6898423078649, \"y\": 30.10532261706692, \"z\": \"b\"}, {\"x\": 589.6738919251934, \"y\": 17.612811848082515, \"z\": \"b\"}, {\"x\": 637.4394664438671, \"y\": 31.09852958542018, \"z\": \"b\"}, {\"x\": 583.0763046815728, \"y\": 44.68869098455917, \"z\": \"b\"}, {\"x\": 669.3285529348354, \"y\": 26.952752070542942, \"z\": \"b\"}, {\"x\": 640.4712895950007, \"y\": 81.08227115010482, \"z\": \"b\"}, {\"x\": 687.3431092858336, \"y\": 96.85266938168326, \"z\": \"b\"}, {\"x\": 695.295663639649, \"y\": 126.98956920335944, \"z\": \"b\"}, {\"x\": 697.9033908187653, \"y\": 135.75583768462633, \"z\": \"b\"}, {\"x\": 720.9206422262708, \"y\": 120.78901548545603, \"z\": \"b\"}, {\"x\": 701.5994350194909, \"y\": 91.47730605377689, \"z\": \"b\"}, {\"x\": 649.0103367810889, \"y\": 113.49852518301958, \"z\": \"b\"}, {\"x\": 651.4125685863063, \"y\": 76.8135458038197, \"z\": \"b\"}, {\"x\": 565.8887520049435, \"y\": 85.9238674032419, \"z\": \"b\"}, {\"x\": 536.0253808548101, \"y\": 86.06257903724884, \"z\": \"b\"}, {\"x\": 601.3472156683791, \"y\": 125.69302394436755, \"z\": \"b\"}, {\"x\": 584.861240403247, \"y\": 92.12414914149927, \"z\": \"b\"}, {\"x\": 567.0054129136206, \"y\": 154.1401849223618, \"z\": \"b\"}, {\"x\": 624.1622760310922, \"y\": 151.89082591664754, \"z\": \"b\"}, {\"x\": 652.9954254098429, \"y\": 173.60857189427912, \"z\": \"b\"}, {\"x\": 675.5313113960297, \"y\": 186.13779283919183, \"z\": \"b\"}, {\"x\": 670.0572527891122, \"y\": 177.6651690513114, \"z\": \"b\"}, {\"x\": 640.1539782522219, \"y\": 179.30764659565608, \"z\": \"b\"}, {\"x\": 637.4404127300706, \"y\": 127.7889291732222, \"z\": \"b\"}, {\"x\": 609.1404839747157, \"y\": 97.0545358669313, \"z\": \"b\"}, {\"x\": 582.5774365938842, \"y\": 52.57412904426337, \"z\": \"b\"}, {\"x\": 578.5426041336592, \"y\": 70.2571000991149, \"z\": \"b\"}, {\"x\": 586.6428256567267, \"y\": 40.83190390426, \"z\": \"b\"}, {\"x\": 600.4229833163316, \"y\": 53.62365346897474, \"z\": \"b\"}, {\"x\": 599.3680700236163, \"y\": 71.55122591762267, \"z\": \"b\"}, {\"x\": 626.0264769466665, \"y\": 38.78058744181749, \"z\": \"b\"}, {\"x\": 633.9396404577235, \"y\": 130.47217739851078, \"z\": \"b\"}, {\"x\": 672.2776948738831, \"y\": 162.57677789577656, \"z\": \"b\"}, {\"x\": 655.3497245447294, \"y\": 199.3164265649849, \"z\": \"b\"}, {\"x\": 642.8795317305139, \"y\": 237.31063044204632, \"z\": \"b\"}, {\"x\": 689.0542897139172, \"y\": 212.677702229274, \"z\": \"b\"}, {\"x\": 649.4169109013973, \"y\": 258.00983591960426, \"z\": \"b\"}, {\"x\": 657.4004983798209, \"y\": 209.1168770518884, \"z\": \"b\"}, {\"x\": 636.3393173376139, \"y\": 152.2010873297279, \"z\": \"b\"}, {\"x\": 591.5214028980197, \"y\": 131.38360941555732, \"z\": \"b\"}, {\"x\": 569.6338113485544, \"y\": 89.05059468192098, \"z\": \"b\"}, {\"x\": 529.4323901572557, \"y\": 32.05924170334504, \"z\": \"b\"}, {\"x\": 602.6293009149786, \"y\": 91.82250349260369, \"z\": \"b\"}, {\"x\": 579.5257399638965, \"y\": 89.20257650441721, \"z\": \"b\"}, {\"x\": 590.3764336713793, \"y\": 52.67302272561045, \"z\": \"b\"}, {\"x\": 603.9594916225753, \"y\": 84.3680143383989, \"z\": \"b\"}, {\"x\": 610.7132130146463, \"y\": 163.4192376013948, \"z\": \"b\"}, {\"x\": 610.079776600573, \"y\": 128.95712317154994, \"z\": \"b\"}, {\"x\": 652.8537248339663, \"y\": 147.96893918594083, \"z\": \"b\"}, {\"x\": 658.1066385020304, \"y\": 149.28310508128902, \"z\": \"b\"}, {\"x\": 622.4334026951998, \"y\": 203.58739448144, \"z\": \"b\"}, {\"x\": 594.5126152115807, \"y\": 210.1255609850956, \"z\": \"b\"}, {\"x\": 579.2064378931252, \"y\": 167.40535078165072, \"z\": \"b\"}, {\"x\": 592.3874458613682, \"y\": 157.89260045221027, \"z\": \"b\"}, {\"x\": 543.9070181373779, \"y\": 95.84359956668698, \"z\": \"b\"}, {\"x\": 646.5104432456445, \"y\": 142.7221033591734, \"z\": \"b\"}, {\"x\": 613.7745863246199, \"y\": 151.15887953935265, \"z\": \"b\"}, {\"x\": 626.6674510921542, \"y\": 174.0515934246842, \"z\": \"b\"}, {\"x\": 597.9551050293892, \"y\": 203.85694570621783, \"z\": \"b\"}, {\"x\": 640.6053937465372, \"y\": 166.4532691563162, \"z\": \"b\"}, {\"x\": 573.8263501883389, \"y\": 177.8402156560481, \"z\": \"b\"}, {\"x\": 572.8470036445267, \"y\": 143.41879780791362, \"z\": \"b\"}, {\"x\": 495.5137771614045, \"y\": 94.19312587744788, \"z\": \"b\"}, {\"x\": 540.8032854820068, \"y\": 60.58949815770848, \"z\": \"b\"}, {\"x\": 516.5737591037422, \"y\": 62.850213112591234, \"z\": \"b\"}, {\"x\": 556.1899306275346, \"y\": 38.31933956380192, \"z\": \"b\"}, {\"x\": 555.8545220283706, \"y\": 53.79339180469265, \"z\": \"b\"}, {\"x\": 595.2248218378495, \"y\": 68.40513920835104, \"z\": \"b\"}, {\"x\": 646.8091765619456, \"y\": 47.84953271947933, \"z\": \"b\"}, {\"x\": 688.9012882100308, \"y\": 38.94684881103757, \"z\": \"b\"}, {\"x\": 700.2110651896149, \"y\": 94.45565833689516, \"z\": \"b\"}, {\"x\": 693.0272215979273, \"y\": 205.21120057160243, \"z\": \"b\"}, {\"x\": 702.3970156057466, \"y\": 210.1689822684568, \"z\": \"b\"}, {\"x\": 641.8987171698993, \"y\": 235.87618607362455, \"z\": \"b\"}, {\"x\": 600.0265341379685, \"y\": 207.533929002254, \"z\": \"b\"}, {\"x\": 592.0921999251797, \"y\": 136.31117938448847, \"z\": \"b\"}, {\"x\": 606.4986854465818, \"y\": 155.3110789898521, \"z\": \"b\"}, {\"x\": 543.4417387075215, \"y\": 104.35444741485212, \"z\": \"b\"}, {\"x\": 536.0022679863032, \"y\": 80.5461074919337, \"z\": \"b\"}, {\"x\": 517.8010701968069, \"y\": 55.17979090426837, \"z\": \"b\"}, {\"x\": 619.380830459171, \"y\": 90.26783270059536, \"z\": \"b\"}, {\"x\": 588.5349867575245, \"y\": 57.10457174081154, \"z\": \"b\"}, {\"x\": 537.6081127310098, \"y\": 22.23295057141337, \"z\": \"b\"}, {\"x\": 614.3987882592653, \"y\": 71.69665792142183, \"z\": \"b\"}, {\"x\": 649.1659436810112, \"y\": 35.765015594601095, \"z\": \"b\"}, {\"x\": 603.3144849777726, \"y\": 101.63406097417555, \"z\": \"b\"}, {\"x\": 623.3672514164244, \"y\": 84.14328372819415, \"z\": \"b\"}, {\"x\": 668.2928793791331, \"y\": 132.68778669230238, \"z\": \"b\"}, {\"x\": 619.4808046991773, \"y\": 150.68800890448188, \"z\": \"b\"}, {\"x\": 626.157245765682, \"y\": 146.1163532569521, \"z\": \"b\"}, {\"x\": 644.3511498334204, \"y\": 206.9673192038561, \"z\": \"b\"}, {\"x\": 595.4671620867659, \"y\": 170.6215941133472, \"z\": \"b\"}, {\"x\": 584.8040109179865, \"y\": 182.54824732255315, \"z\": \"b\"}, {\"x\": 536.2192625656296, \"y\": 94.1174779750658, \"z\": \"b\"}, {\"x\": 590.0747499282227, \"y\": 119.25747813261398, \"z\": \"b\"}, {\"x\": 567.0932991728578, \"y\": 32.13503458106902, \"z\": \"b\"}, {\"x\": 619.1031828629492, \"y\": 73.65220538425808, \"z\": \"b\"}, {\"x\": 652.7018662166731, \"y\": 80.4645754446916, \"z\": \"b\"}, {\"x\": 643.9344417662722, \"y\": 130.6323762037141, \"z\": \"b\"}, {\"x\": 654.8727726319232, \"y\": 103.12786055750718, \"z\": \"b\"}, {\"x\": 642.2303181222161, \"y\": 126.14782402950895, \"z\": \"b\"}, {\"x\": 689.4016444832712, \"y\": 179.59519483436492, \"z\": \"b\"}, {\"x\": 669.3099818341963, \"y\": 154.00560661732965, \"z\": \"b\"}, {\"x\": 673.1798013175579, \"y\": 193.1775236483576, \"z\": \"b\"}, {\"x\": 686.4447847844748, \"y\": 121.9282104214343, \"z\": \"b\"}, {\"x\": 607.178105421632, \"y\": 159.3985284306694, \"z\": \"b\"}, {\"x\": 608.479835977674, \"y\": 123.72498048295348, \"z\": \"b\"}, {\"x\": 589.3493316496132, \"y\": 64.41601795509996, \"z\": \"b\"}, {\"x\": 570.1754445239453, \"y\": 2.568254951175902, \"z\": \"b\"}, {\"x\": 619.8624113014578, \"y\": 5.763415392648824, \"z\": \"b\"}, {\"x\": 634.3688551408043, \"y\": -28.68064814864306, \"z\": \"b\"}, {\"x\": 689.4016802309502, \"y\": 24.178906885514323, \"z\": \"b\"}, {\"x\": 348.85653463952264, \"y\": 274.06634335861844, \"z\": \"c\"}, {\"x\": 307.5998511828976, \"y\": 242.2584427575264, \"z\": \"c\"}, {\"x\": 344.3480826837366, \"y\": 190.6785752255392, \"z\": \"c\"}, {\"x\": 262.44532636143754, \"y\": 215.17297184110203, \"z\": \"c\"}, {\"x\": 205.04709318405023, \"y\": 219.55512481298456, \"z\": \"c\"}, {\"x\": 170.05041334792574, \"y\": 137.55913771447143, \"z\": \"c\"}, {\"x\": 177.57077009469836, \"y\": 93.9071472134708, \"z\": \"c\"}, {\"x\": 130.5260122781598, \"y\": 118.37346514827044, \"z\": \"c\"}, {\"x\": 139.73853185812902, \"y\": 113.31986109797629, \"z\": \"c\"}, {\"x\": 151.59647015869203, \"y\": 80.7498708705956, \"z\": \"c\"}, {\"x\": 177.5262557749779, \"y\": 104.1372145693922, \"z\": \"c\"}, {\"x\": 280.1399214184141, \"y\": 75.35040157183181, \"z\": \"c\"}, {\"x\": 274.28778082657294, \"y\": 155.91036352928643, \"z\": \"c\"}, {\"x\": 277.17986368356225, \"y\": 171.24338785190463, \"z\": \"c\"}, {\"x\": 303.8536412063064, \"y\": 213.21395317914187, \"z\": \"c\"}, {\"x\": 346.25376590411685, \"y\": 225.02085201038176, \"z\": \"c\"}, {\"x\": 352.2815770272556, \"y\": 271.5191493825889, \"z\": \"c\"}, {\"x\": 346.7674242237216, \"y\": 256.8590200056615, \"z\": \"c\"}, {\"x\": 382.099048669401, \"y\": 269.5152348024551, \"z\": \"c\"}, {\"x\": 318.58135215426336, \"y\": 226.6163016991932, \"z\": \"c\"}, {\"x\": 211.9573279202254, \"y\": 188.1256940615268, \"z\": \"c\"}, {\"x\": 156.8682984979368, \"y\": 177.00130525820106, \"z\": \"c\"}, {\"x\": 177.336391992934, \"y\": 145.22483965085053, \"z\": \"c\"}, {\"x\": 121.32337365408446, \"y\": 164.00211406361905, \"z\": \"c\"}, {\"x\": 136.75303420527925, \"y\": 182.92693054353416, \"z\": \"c\"}, {\"x\": 180.3844539502512, \"y\": 158.98672477057175, \"z\": \"c\"}, {\"x\": 183.6990269906658, \"y\": 155.3215573751491, \"z\": \"c\"}, {\"x\": 245.27271279346468, \"y\": 195.301649244141, \"z\": \"c\"}, {\"x\": 244.70845743037484, \"y\": 132.23692352725806, \"z\": \"c\"}, {\"x\": 276.8679402433312, \"y\": 163.41797230680356, \"z\": \"c\"}, {\"x\": 266.37559612019624, \"y\": 180.9202892260219, \"z\": \"c\"}, {\"x\": 260.2612904271994, \"y\": 140.84310975430782, \"z\": \"c\"}, {\"x\": 289.80504023129384, \"y\": 203.06652866657407, \"z\": \"c\"}, {\"x\": 274.89388515009745, \"y\": 203.6980729134866, \"z\": \"c\"}, {\"x\": 246.64371771152804, \"y\": 197.10067631474487, \"z\": \"c\"}, {\"x\": 127.25339350355776, \"y\": 167.85250027402805, \"z\": \"c\"}, {\"x\": 170.94994414632328, \"y\": 189.542538097118, \"z\": \"c\"}, {\"x\": 174.43217859184583, \"y\": 131.03986447729278, \"z\": \"c\"}, {\"x\": 197.57420124562216, \"y\": 158.2228481940656, \"z\": \"c\"}, {\"x\": 141.40182187914277, \"y\": 117.34715009035529, \"z\": \"c\"}, {\"x\": 199.2633206307083, \"y\": 157.07633025758832, \"z\": \"c\"}, {\"x\": 230.32205259268625, \"y\": 166.2984901885934, \"z\": \"c\"}, {\"x\": 271.96331407029624, \"y\": 195.05641158316303, \"z\": \"c\"}, {\"x\": 284.0679246917781, \"y\": 219.8487596668511, \"z\": \"c\"}, {\"x\": 295.422274505383, \"y\": 194.61257504071543, \"z\": \"c\"}, {\"x\": 329.8242790608381, \"y\": 213.74157292833144, \"z\": \"c\"}, {\"x\": 324.46425861097174, \"y\": 233.8593166382532, \"z\": \"c\"}, {\"x\": 269.53766184727846, \"y\": 233.55428895891163, \"z\": \"c\"}, {\"x\": 287.4196510533429, \"y\": 139.456777512994, \"z\": \"c\"}, {\"x\": 244.6332921269321, \"y\": 159.25521225540655, \"z\": \"c\"}, {\"x\": 186.8473976678095, \"y\": 143.7645328365115, \"z\": \"c\"}, {\"x\": 241.9843070390897, \"y\": 114.54589854363512, \"z\": \"c\"}, {\"x\": 251.530269013587, \"y\": 156.9718721317634, \"z\": \"c\"}, {\"x\": 274.8841607332616, \"y\": 162.5178069630599, \"z\": \"c\"}, {\"x\": 322.099470835405, \"y\": 192.36407967208004, \"z\": \"c\"}, {\"x\": 239.74571815488844, \"y\": 155.350518637319, \"z\": \"d\"}, {\"x\": 217.2135183457077, \"y\": 180.6747344823496, \"z\": \"d\"}, {\"x\": 207.2476880982333, \"y\": 187.5476314146286, \"z\": \"d\"}, {\"x\": 231.5232935551462, \"y\": 211.5047042124425, \"z\": \"d\"}, {\"x\": 240.24742479006903, \"y\": 183.78281436971577, \"z\": \"d\"}, {\"x\": 268.5641031551637, \"y\": 211.60385712931924, \"z\": \"d\"}, {\"x\": 194.7355786662409, \"y\": 259.2691402243458, \"z\": \"d\"}, {\"x\": 224.4877441547873, \"y\": 143.50836682693563, \"z\": \"d\"}, {\"x\": 249.55264500508824, \"y\": 140.2901284384419, \"z\": \"d\"}, {\"x\": 231.92358470051929, \"y\": 181.41353652479376, \"z\": \"d\"}, {\"x\": 251.1259046319164, \"y\": 141.08260761307122, \"z\": \"d\"}, {\"x\": 252.39158537835564, \"y\": 177.0426734515558, \"z\": \"d\"}, {\"x\": 275.59481728717003, \"y\": 123.56932201407515, \"z\": \"d\"}, {\"x\": 286.3910650379917, \"y\": 131.84815997664992, \"z\": \"d\"}, {\"x\": 496.4294034470575, \"y\": 129.14088751500378, \"z\": \"d\"}, {\"x\": 488.9589034130164, \"y\": 153.03673536272595, \"z\": \"d\"}, {\"x\": 482.2239229460659, \"y\": 114.49115865358834, \"z\": \"d\"}, {\"x\": 549.3597519458433, \"y\": 118.41156516114928, \"z\": \"d\"}, {\"x\": 578.4449609405108, \"y\": 131.0732316310245, \"z\": \"d\"}, {\"x\": 562.3822567970719, \"y\": 111.58157644390512, \"z\": \"d\"}, {\"x\": 594.017277938458, \"y\": 161.59065475964604, \"z\": \"d\"}, {\"x\": 641.0880739430198, \"y\": 214.92993385473767, \"z\": \"d\"}, {\"x\": 624.8572537514666, \"y\": 157.39586278175454, \"z\": \"d\"}, {\"x\": 655.6769807934428, \"y\": 258.05374215148345, \"z\": \"d\"}, {\"x\": 639.8717282169897, \"y\": 207.2073885098024, \"z\": \"d\"}, {\"x\": 679.114230172193, \"y\": 296.1667354517504, \"z\": \"d\"}, {\"x\": 668.4208116695818, \"y\": 448.59312374241847, \"z\": \"d\"}, {\"x\": 667.5931171840817, \"y\": 484.1335550174522, \"z\": \"d\"}, {\"x\": 656.2573379381788, \"y\": 508.1734362667463, \"z\": \"d\"}, {\"x\": 692.9800821217211, \"y\": 478.6418025939057, \"z\": \"d\"}, {\"x\": 711.8354116734081, \"y\": 444.8556197947293, \"z\": \"d\"}, {\"x\": 661.6035574577883, \"y\": 474.84550973424086, \"z\": \"d\"}, {\"x\": 650.7864494586365, \"y\": 428.5158595050332, \"z\": \"d\"}, {\"x\": 676.0400101327714, \"y\": 489.0049271556718, \"z\": \"d\"}, {\"x\": 648.6368497273814, \"y\": 440.9218011917664, \"z\": \"d\"}, {\"x\": 686.8793078206894, \"y\": 484.61140500687327, \"z\": \"d\"}, {\"x\": 676.5589198333545, \"y\": 469.8493328760129, \"z\": \"d\"}, {\"x\": 697.7015896887702, \"y\": 414.05929588046297, \"z\": \"d\"}, {\"x\": 668.2441862025968, \"y\": 513.3088642517878, \"z\": \"d\"}, {\"x\": 719.4698054389119, \"y\": 507.5574721848608, \"z\": \"d\"}, {\"x\": 674.4035018413217, \"y\": 511.22555071183297, \"z\": \"d\"}, {\"x\": 446.82758982859, \"y\": 364.9533268872159, \"z\": \"d\"}, {\"x\": 478.4849166108201, \"y\": 447.8581911894779, \"z\": \"d\"}, {\"x\": 455.0895317387481, \"y\": 404.2529111502774, \"z\": \"d\"}, {\"x\": 431.6782878009734, \"y\": 430.3444321720677, \"z\": \"d\"}, {\"x\": 447.40554208872686, \"y\": 458.6604924230793, \"z\": \"d\"}, {\"x\": 465.5598370950945, \"y\": 513.1310987873615, \"z\": \"d\"}, {\"x\": 428.9470390491114, \"y\": 470.6117390732417, \"z\": \"d\"}, {\"x\": 433.3696323783546, \"y\": 513.4287420110115, \"z\": \"d\"}, {\"x\": 70.96817260234354, \"y\": 392.9461694469215, \"z\": \"d\"}, {\"x\": 94.43091033497308, \"y\": 423.1234312125063, \"z\": \"d\"}, {\"x\": 88.50880785072104, \"y\": 431.364575955039, \"z\": \"d\"}, {\"x\": 78.98802200701596, \"y\": 490.8396189848069, \"z\": \"d\"}, {\"x\": 35.15951138304707, \"y\": 432.44401820931336, \"z\": \"d\"}, {\"x\": 84.30881493773313, \"y\": 207.09221854661573, \"z\": \"d\"}, {\"x\": 95.6089634212585, \"y\": 218.00570914104247, \"z\": \"d\"}, {\"x\": 69.58481186469331, \"y\": 275.6496987101897, \"z\": \"d\"}, {\"x\": 44.496366185172086, \"y\": 275.1522600792167, \"z\": \"d\"}, {\"x\": 72.64145790891192, \"y\": 284.8330432349194, \"z\": \"d\"}, {\"x\": 26.116445449526218, \"y\": 223.24358465004423, \"z\": \"d\"}, {\"x\": 61.34204791425537, \"y\": 39.8770003447338, \"z\": \"d\"}, {\"x\": 45.758767942727474, \"y\": 72.60159579081142, \"z\": \"d\"}, {\"x\": 80.45477248729986, \"y\": 84.47669033111339, \"z\": \"d\"}, {\"x\": 93.85805298889946, \"y\": 114.9605665053599, \"z\": \"d\"}, {\"x\": 178.19143621278033, \"y\": 142.01937208425983, \"z\": \"d\"}, {\"x\": 446.6747892570928, \"y\": 16.866819699857388, \"z\": \"d\"}, {\"x\": 406.2643451637077, \"y\": 63.35733031511114, \"z\": \"d\"}, {\"x\": 441.57539009972106, \"y\": 30.14932516440058, \"z\": \"d\"}, {\"x\": 395.5128476862528, \"y\": 23.785113864734058, \"z\": \"d\"}, {\"x\": 408.2747887622779, \"y\": 37.97812067715961, \"z\": \"d\"}]}}, {\"actions\": false, \"mode\": \"vega-lite\"});\n</script>",
            "text/plain": "alt.Chart(...)"
          },
          "metadata": {}
        }
      ]
    },
    {
      "cell_type": "markdown",
      "source": "#### Let's get into business with our first graph\nPerhaps you're the organized and responsible person that remember the elbow method plot code, but sadly for me, I'm not wired this way. I googled every single time for the code until I stumbled with [Scikit-plot](https://scikit-plot.readthedocs.io/en/stable/index.html), an awesome library to get quick and complete plots of metrics, models and byproducts of algorithms.\n\nWe're going to try just two plots (__elbow method__ and __Silhouette score__), but seriously check it out, you'll get standarized plots and save time to focus on what matters instead of tweaking the plots arguments to show you something compelling.",
      "metadata": {
        "tags": [],
        "cell_id": "00010-9a20c375-6803-4180-9be6-d81b0b5142ae",
        "deepnote_cell_type": "markdown"
      }
    },
    {
      "cell_type": "code",
      "metadata": {
        "tags": [],
        "cell_id": "00008-e3e6d30c-237f-4dad-9a1a-c8665ff60a48",
        "deepnote_to_be_reexecuted": false,
        "source_hash": "57eaebb1",
        "execution_millis": 778,
        "execution_start": 1619366110786,
        "deepnote_cell_type": "code"
      },
      "source": "# Just instancing a Kmeans, defining X and choose some range of k will suffice to get a nice graph but you can improve it adding the time of execution, how neat is that?\nkmeans = KMeans(random_state=42)\n\nskplt.cluster.plot_elbow_curve(kmeans,\n                                X = drawn_data[['x', 'y']], # Remember that we only need these two columns, the other is the class we've just drawn\n                                title = 'Elbow method | First test',\n                                cluster_ranges=range(1, 10), # Do not overthink, just try!\n                                show_cluster_time=True, # First cool feature, you get the execution time\n                                figsize=(10,10))\nplt.show()\n",
      "execution_count": null,
      "outputs": [
        {
          "data": {
            "text/plain": "<Figure size 720x720 with 2 Axes>",
            "image/png": "[encoded data removed]"
          },
          "metadata": {
            "needs_background": "light"
          },
          "output_type": "display_data"
        }
      ]
    },
    {
      "cell_type": "code",
      "metadata": {
        "tags": [],
        "cell_id": "00012-0f375024-7931-4a32-9272-8e3f47201bdd",
        "deepnote_to_be_reexecuted": false,
        "source_hash": "bfe46906",
        "execution_millis": 45,
        "execution_start": 1619364941908,
        "deepnote_cell_type": "code"
      },
      "source": "# Now we cluster as usual, I've choose 4 just for fun sake, for what we've draw there's no possibility of learning the \"D\" cluster(the one sprayed all over the canvas)\ncool_kmeans = KMeans(4, random_state=42)\n\ncool_kmeans.fit(drawn_data[['x', 'y']])",
      "execution_count": null,
      "outputs": [
        {
          "output_type": "execute_result",
          "execution_count": 5,
          "data": {
            "text/plain": "KMeans(n_clusters=4, random_state=42)"
          },
          "metadata": {}
        }
      ]
    },
    {
      "cell_type": "code",
      "metadata": {
        "tags": [],
        "cell_id": "00014-fa0c411c-14cd-4b30-8968-5dae18bb1fcd",
        "deepnote_to_be_reexecuted": false,
        "source_hash": "98812467",
        "execution_millis": 539,
        "execution_start": 1619364941965,
        "deepnote_cell_type": "code"
      },
      "source": "# Here we look at a side by side comparison of the real labels and the result. As expected, Kmeans fail with the chaotic cluster.\nfig, (ax1, ax2) = plt.subplots(ncols=2, sharey=True, figsize=(20,10))\n\nsns.scatterplot(data=drawn_data, x='x', y='y', hue=\"z\", ax=ax1, palette='tab10').set_title('Real Labels')\n\nsns.scatterplot(data=drawn_data, x='x', y='y', hue=cool_kmeans.labels_, ax=ax2, palette='tab10').set_title('Kmeans Labels')\n\nfig.show()",
      "execution_count": null,
      "outputs": [
        {
          "data": {
            "text/plain": "<Figure size 1440x720 with 2 Axes>",
            "image/png": "[encoded data removed]"
          },
          "metadata": {
            "needs_background": "light"
          },
          "output_type": "display_data"
        }
      ]
    },
    {
      "cell_type": "code",
      "metadata": {
        "tags": [],
        "cell_id": "00015-10cb030a-6775-4a53-ab16-b0a4726d989f",
        "deepnote_to_be_reexecuted": false,
        "source_hash": "23642a36",
        "execution_millis": 236,
        "execution_start": 1619366153895,
        "deepnote_cell_type": "code"
      },
      "source": "# Back with our library we easily check silhouette score\nskplt.metrics.plot_silhouette(drawn_data[[\"x\", \"y\"]],\n                                cool_kmeans.labels_,\n                                title='Silhouette per cluster',\n                                figsize=(12,8))\nplt.show()",
      "execution_count": null,
      "outputs": [
        {
          "data": {
            "text/plain": "<Figure size 864x576 with 1 Axes>",
            "image/png": "[encoded data removed]"
          },
          "metadata": {
            "needs_background": "light"
          },
          "output_type": "display_data"
        }
      ]
    },
    {
      "cell_type": "markdown",
      "source": "#### Conclusions:\n0. The draw data It's increible simple and yet amazing. Even if you don't use it for machine learning (thing you could do to test algorithms over the same dataset!) It's great for __trying visualizations or learn metrics/statistics__ in a visual way in python or using via web in any BI tool.\n1. Standarize plots might not look like the most urgent thing to do yet there's a good chance of __saving time__ (that's allways critical)\n2. The high level API It's cool to let new learners __focus on relevant things__ like understanding algorithms or metrics.",
      "metadata": {
        "tags": [],
        "cell_id": "00014-b1039d05-6633-4ace-8e62-c2532d76a7b7",
        "deepnote_cell_type": "markdown"
      }
    },
    {
      "cell_type": "markdown",
      "source": "## 2. Dimensionality reduction with UMap",
      "metadata": {
        "tags": [],
        "cell_id": "00031-373ac1c3-9e2c-4845-bd6a-979e4b3ab0df",
        "deepnote_cell_type": "markdown"
      }
    },
    {
      "cell_type": "markdown",
      "source": "Perhaps you have a dataset with real and categorical features or just many numeric features and you keep getting some awful clusters. You know that you should apply a dimensionality reduction technique and look in the Sklearn toolbox to find PCA or SVD, but you prefer to go rogue and look beyond.\n\nThat's when Umap apears. an awesome technique suitable for small datasets (in my experience is better with less than 100.000 instances) because the time it takes to compute. To deeply undertands it and learns how It compares to other techniques check the [umap docs.](https://umap-learn.readthedocs.io/en/latest/index.html)\n\n\nNow we're gonna use a very raw dataset, meaning that there's no feature engineering neither intelligence preprocessing, just scalling, Umap and check metrics to compare the original vs embeded results 👩‍🔬",
      "metadata": {
        "tags": [],
        "cell_id": "00022-1e051db6-4b44-4f53-9b44-29c17c520850",
        "deepnote_cell_type": "markdown"
      }
    },
    {
      "cell_type": "code",
      "metadata": {
        "tags": [],
        "cell_id": "00016-bb0a51c8-5b29-4b09-a2f8-e2ca7c488748",
        "deepnote_to_be_reexecuted": false,
        "source_hash": "588d0fcf",
        "execution_millis": 18963,
        "execution_start": 1619365617005,
        "deepnote_cell_type": "code"
      },
      "source": "import pandas as pd\nfrom sklearn.preprocessing import StandardScaler\nimport umap",
      "execution_count": null,
      "outputs": []
    },
    {
      "cell_type": "code",
      "metadata": {
        "tags": [],
        "cell_id": "00033-08ad547e-2893-4e1a-bc9f-44d7fe2da513",
        "deepnote_to_be_reexecuted": false,
        "source_hash": "b58967e0",
        "execution_millis": 321,
        "execution_start": 1619365635971,
        "deepnote_cell_type": "code"
      },
      "source": "# We're reading it from an online source and then show the data for you to explore It.\nAI = pd.read_csv('https://raw.githubusercontent.com/jbrownlee/Datasets/master/adult-all.csv')\nAI",
      "execution_count": null,
      "outputs": [
        {
          "output_type": "execute_result",
          "execution_count": 19,
          "data": {
            "application/vnd.deepnote.dataframe.v2+json": {
              "row_count": 48841,
              "column_count": 15,
              "columns": [
                {
                  "name": "39",
                  "dtype": "int64",
                  "stats": {
                    "unique_count": 74,
                    "nan_count": 0,
                    "min": "17",
                    "max": "90",
                    "histogram": [
                      {
                        "bin_start": 17,
                        "bin_end": 24.3,
                        "count": 8432
                      },
                      {
                        "bin_start": 24.3,
                        "bin_end": 31.6,
                        "count": 8686
                      },
                      {
                        "bin_start": 31.6,
                        "bin_end": 38.9,
                        "count": 9120
                      },
                      {
                        "bin_start": 38.9,
                        "bin_end": 46.2,
                        "count": 9156
                      },
                      {
                        "bin_start": 46.2,
                        "bin_end": 53.5,
                        "count": 5965
                      },
                      {
                        "bin_start": 53.5,
                        "bin_end": 60.8,
                        "count": 3876
                      },
                      {
                        "bin_start": 60.8,
                        "bin_end": 68.1,
                        "count": 2456
                      },
                      {
                        "bin_start": 68.1,
                        "bin_end": 75.4,
                        "count": 777
                      },
                      {
                        "bin_start": 75.4,
                        "bin_end": 82.7,
                        "count": 277
                      },
                      {
                        "bin_start": 82.7,
                        "bin_end": 90,
                        "count": 96
                      }
                    ]
                  }
                },
                {
                  "name": "State-gov",
                  "dtype": "object",
                  "stats": {
                    "unique_count": 9,
                    "nan_count": 0,
                    "categories": [
                      {
                        "name": "Private",
                        "count": 33906
                      },
                      {
                        "name": "Self-emp-not-inc",
                        "count": 3862
                      },
                      {
                        "name": "7 others",
                        "count": 11073
                      }
                    ]
                  }
                },
                {
                  "name": "77516",
                  "dtype": "int64"
                },
                {
                  "name": "Bachelors",
                  "dtype": "object"
                },
                {
                  "name": "13",
                  "dtype": "int64"
                },
                {
                  "name": "Never-married",
                  "dtype": "object"
                },
                {
                  "name": "Adm-clerical",
                  "dtype": "object"
                },
                {
                  "name": "Not-in-family",
                  "dtype": "object"
                },
                {
                  "name": "White",
                  "dtype": "object"
                },
                {
                  "name": "Male",
                  "dtype": "object"
                },
                {
                  "name": "2174",
                  "dtype": "int64"
                },
                {
                  "name": "0",
                  "dtype": "int64"
                },
                {
                  "name": "40",
                  "dtype": "int64"
                },
                {
                  "name": "United-States",
                  "dtype": "object"
                },
                {
                  "name": "<=50K",
                  "dtype": "object"
                },
                {
                  "name": "_deepnote_index_column",
                  "dtype": "int64"
                }
              ],
              "rows_top": [
                {
                  "0": 0,
                  "13": 13,
                  "39": 50,
                  "40": 13,
                  "2174": 0,
                  "77516": 83311,
                  "State-gov": "Self-emp-not-inc",
                  "Bachelors": "Bachelors",
                  "Never-married": "Married-civ-spouse",
                  "Adm-clerical": "Exec-managerial",
                  "Not-in-family": "Husband",
                  "White": "White",
                  "Male": "Male",
                  "United-States": "United-States",
                  "<=50K": "<=50K",
                  "_deepnote_index_column": 0
                },
                {
                  "0": 0,
                  "13": 9,
                  "39": 38,
                  "40": 40,
                  "2174": 0,
                  "77516": 215646,
                  "State-gov": "Private",
                  "Bachelors": "HS-grad",
                  "Never-married": "Divorced",
                  "Adm-clerical": "Handlers-cleaners",
                  "Not-in-family": "Not-in-family",
                  "White": "White",
                  "Male": "Male",
                  "United-States": "United-States",
                  "<=50K": "<=50K",
                  "_deepnote_index_column": 1
                },
                {
                  "0": 0,
                  "13": 7,
                  "39": 53,
                  "40": 40,
                  "2174": 0,
                  "77516": 234721,
                  "State-gov": "Private",
                  "Bachelors": "11th",
                  "Never-married": "Married-civ-spouse",
                  "Adm-clerical": "Handlers-cleaners",
                  "Not-in-family": "Husband",
                  "White": "Black",
                  "Male": "Male",
                  "United-States": "United-States",
                  "<=50K": "<=50K",
                  "_deepnote_index_column": 2
                },
                {
                  "0": 0,
                  "13": 13,
                  "39": 28,
                  "40": 40,
                  "2174": 0,
                  "77516": 338409,
                  "State-gov": "Private",
                  "Bachelors": "Bachelors",
                  "Never-married": "Married-civ-spouse",
                  "Adm-clerical": "Prof-specialty",
                  "Not-in-family": "Wife",
                  "White": "Black",
                  "Male": "Female",
                  "United-States": "Cuba",
                  "<=50K": "<=50K",
                  "_deepnote_index_column": 3
                },
                {
                  "0": 0,
                  "13": 14,
                  "39": 37,
                  "40": 40,
                  "2174": 0,
                  "77516": 284582,
                  "State-gov": "Private",
                  "Bachelors": "Masters",
                  "Never-married": "Married-civ-spouse",
                  "Adm-clerical": "Exec-managerial",
                  "Not-in-family": "Wife",
                  "White": "White",
                  "Male": "Female",
                  "United-States": "United-States",
                  "<=50K": "<=50K",
                  "_deepnote_index_column": 4
                },
                {
                  "0": 0,
                  "13": 5,
                  "39": 49,
                  "40": 16,
                  "2174": 0,
                  "77516": 160187,
                  "State-gov": "Private",
                  "Bachelors": "9th",
                  "Never-married": "Married-spouse-absent",
                  "Adm-clerical": "Other-service",
                  "Not-in-family": "Not-in-family",
                  "White": "Black",
                  "Male": "Female",
                  "United-States": "Jamaica",
                  "<=50K": "<=50K",
                  "_deepnote_index_column": 5
                },
                {
                  "0": 0,
                  "13": 9,
                  "39": 52,
                  "40": 45,
                  "2174": 0,
                  "77516": 209642,
                  "State-gov": "Self-emp-not-inc",
                  "Bachelors": "HS-grad",
                  "Never-married": "Married-civ-spouse",
                  "Adm-clerical": "Exec-managerial",
                  "Not-in-family": "Husband",
                  "White": "White",
                  "Male": "Male",
                  "United-States": "United-States",
                  "<=50K": ">50K",
                  "_deepnote_index_column": 6
                },
                {
                  "0": 0,
                  "13": 14,
                  "39": 31,
                  "40": 50,
                  "2174": 14084,
                  "77516": 45781,
                  "State-gov": "Private",
                  "Bachelors": "Masters",
                  "Never-married": "Never-married",
                  "Adm-clerical": "Prof-specialty",
                  "Not-in-family": "Not-in-family",
                  "White": "White",
                  "Male": "Female",
                  "United-States": "United-States",
                  "<=50K": ">50K",
                  "_deepnote_index_column": 7
                },
                {
                  "0": 0,
                  "13": 13,
                  "39": 42,
                  "40": 40,
                  "2174": 5178,
                  "77516": 159449,
                  "State-gov": "Private",
                  "Bachelors": "Bachelors",
                  "Never-married": "Married-civ-spouse",
                  "Adm-clerical": "Exec-managerial",
                  "Not-in-family": "Husband",
                  "White": "White",
                  "Male": "Male",
                  "United-States": "United-States",
                  "<=50K": ">50K",
                  "_deepnote_index_column": 8
                },
                {
                  "0": 0,
                  "13": 10,
                  "39": 37,
                  "40": 80,
                  "2174": 0,
                  "77516": 280464,
                  "State-gov": "Private",
                  "Bachelors": "Some-college",
                  "Never-married": "Married-civ-spouse",
                  "Adm-clerical": "Exec-managerial",
                  "Not-in-family": "Husband",
                  "White": "Black",
                  "Male": "Male",
                  "United-States": "United-States",
                  "<=50K": ">50K",
                  "_deepnote_index_column": 9
                },
                {
                  "0": 0,
                  "13": 13,
                  "39": 30,
                  "40": 40,
                  "2174": 0,
                  "77516": 141297,
                  "State-gov": "State-gov",
                  "Bachelors": "Bachelors",
                  "Never-married": "Married-civ-spouse",
                  "Adm-clerical": "Prof-specialty",
                  "Not-in-family": "Husband",
                  "White": "Asian-Pac-Islander",
                  "Male": "Male",
                  "United-States": "India",
                  "<=50K": ">50K",
                  "_deepnote_index_column": 10
                },
                {
                  "0": 0,
                  "13": 13,
                  "39": 23,
                  "40": 30,
                  "2174": 0,
                  "77516": 122272,
                  "State-gov": "Private",
                  "Bachelors": "Bachelors",
                  "Never-married": "Never-married",
                  "Adm-clerical": "Adm-clerical",
                  "Not-in-family": "Own-child",
                  "White": "White",
                  "Male": "Female",
                  "United-States": "United-States",
                  "<=50K": "<=50K",
                  "_deepnote_index_column": 11
                },
                {
                  "0": 0,
                  "13": 12,
                  "39": 32,
                  "40": 50,
                  "2174": 0,
                  "77516": 205019,
                  "State-gov": "Private",
                  "Bachelors": "Assoc-acdm",
                  "Never-married": "Never-married",
                  "Adm-clerical": "Sales",
                  "Not-in-family": "Not-in-family",
                  "White": "Black",
                  "Male": "Male",
                  "United-States": "United-States",
                  "<=50K": "<=50K",
                  "_deepnote_index_column": 12
                },
                {
                  "0": 0,
                  "13": 11,
                  "39": 40,
                  "40": 40,
                  "2174": 0,
                  "77516": 121772,
                  "State-gov": "Private",
                  "Bachelors": "Assoc-voc",
                  "Never-married": "Married-civ-spouse",
                  "Adm-clerical": "Craft-repair",
                  "Not-in-family": "Husband",
                  "White": "Asian-Pac-Islander",
                  "Male": "Male",
                  "United-States": "?",
                  "<=50K": ">50K",
                  "_deepnote_index_column": 13
                },
                {
                  "0": 0,
                  "13": 4,
                  "39": 34,
                  "40": 45,
                  "2174": 0,
                  "77516": 245487,
                  "State-gov": "Private",
                  "Bachelors": "7th-8th",
                  "Never-married": "Married-civ-spouse",
                  "Adm-clerical": "Transport-moving",
                  "Not-in-family": "Husband",
                  "White": "Amer-Indian-Eskimo",
                  "Male": "Male",
                  "United-States": "Mexico",
                  "<=50K": "<=50K",
                  "_deepnote_index_column": 14
                },
                {
                  "0": 0,
                  "13": 9,
                  "39": 25,
                  "40": 35,
                  "2174": 0,
                  "77516": 176756,
                  "State-gov": "Self-emp-not-inc",
                  "Bachelors": "HS-grad",
                  "Never-married": "Never-married",
                  "Adm-clerical": "Farming-fishing",
                  "Not-in-family": "Own-child",
                  "White": "White",
                  "Male": "Male",
                  "United-States": "United-States",
                  "<=50K": "<=50K",
                  "_deepnote_index_column": 15
                },
                {
                  "0": 0,
                  "13": 9,
                  "39": 32,
                  "40": 40,
                  "2174": 0,
                  "77516": 186824,
                  "State-gov": "Private",
                  "Bachelors": "HS-grad",
                  "Never-married": "Never-married",
                  "Adm-clerical": "Machine-op-inspct",
                  "Not-in-family": "Unmarried",
                  "White": "White",
                  "Male": "Male",
                  "United-States": "United-States",
                  "<=50K": "<=50K",
                  "_deepnote_index_column": 16
                },
                {
                  "0": 0,
                  "13": 7,
                  "39": 38,
                  "40": 50,
                  "2174": 0,
                  "77516": 28887,
                  "State-gov": "Private",
                  "Bachelors": "11th",
                  "Never-married": "Married-civ-spouse",
                  "Adm-clerical": "Sales",
                  "Not-in-family": "Husband",
                  "White": "White",
                  "Male": "Male",
                  "United-States": "United-States",
                  "<=50K": "<=50K",
                  "_deepnote_index_column": 17
                },
                {
                  "0": 0,
                  "13": 14,
                  "39": 43,
                  "40": 45,
                  "2174": 0,
                  "77516": 292175,
                  "State-gov": "Self-emp-not-inc",
                  "Bachelors": "Masters",
                  "Never-married": "Divorced",
                  "Adm-clerical": "Exec-managerial",
                  "Not-in-family": "Unmarried",
                  "White": "White",
                  "Male": "Female",
                  "United-States": "United-States",
                  "<=50K": ">50K",
                  "_deepnote_index_column": 18
                },
                {
                  "0": 0,
                  "13": 16,
                  "39": 40,
                  "40": 60,
                  "2174": 0,
                  "77516": 193524,
                  "State-gov": "Private",
                  "Bachelors": "Doctorate",
                  "Never-married": "Married-civ-spouse",
                  "Adm-clerical": "Prof-specialty",
                  "Not-in-family": "Husband",
                  "White": "White",
                  "Male": "Male",
                  "United-States": "United-States",
                  "<=50K": ">50K",
                  "_deepnote_index_column": 19
                },
                {
                  "0": 0,
                  "13": 9,
                  "39": 54,
                  "40": 20,
                  "2174": 0,
                  "77516": 302146,
                  "State-gov": "Private",
                  "Bachelors": "HS-grad",
                  "Never-married": "Separated",
                  "Adm-clerical": "Other-service",
                  "Not-in-family": "Unmarried",
                  "White": "Black",
                  "Male": "Female",
                  "United-States": "United-States",
                  "<=50K": "<=50K",
                  "_deepnote_index_column": 20
                },
                {
                  "0": 0,
                  "13": 5,
                  "39": 35,
                  "40": 40,
                  "2174": 0,
                  "77516": 76845,
                  "State-gov": "Federal-gov",
                  "Bachelors": "9th",
                  "Never-married": "Married-civ-spouse",
                  "Adm-clerical": "Farming-fishing",
                  "Not-in-family": "Husband",
                  "White": "Black",
                  "Male": "Male",
                  "United-States": "United-States",
                  "<=50K": "<=50K",
                  "_deepnote_index_column": 21
                },
                {
                  "0": 2042,
                  "13": 7,
                  "39": 43,
                  "40": 40,
                  "2174": 0,
                  "77516": 117037,
                  "State-gov": "Private",
                  "Bachelors": "11th",
                  "Never-married": "Married-civ-spouse",
                  "Adm-clerical": "Transport-moving",
                  "Not-in-family": "Husband",
                  "White": "White",
                  "Male": "Male",
                  "United-States": "United-States",
                  "<=50K": "<=50K",
                  "_deepnote_index_column": 22
                },
                {
                  "0": 0,
                  "13": 9,
                  "39": 59,
                  "40": 40,
                  "2174": 0,
                  "77516": 109015,
                  "State-gov": "Private",
                  "Bachelors": "HS-grad",
                  "Never-married": "Divorced",
                  "Adm-clerical": "Tech-support",
                  "Not-in-family": "Unmarried",
                  "White": "White",
                  "Male": "Female",
                  "United-States": "United-States",
                  "<=50K": "<=50K",
                  "_deepnote_index_column": 23
                },
                {
                  "0": 0,
                  "13": 13,
                  "39": 56,
                  "40": 40,
                  "2174": 0,
                  "77516": 216851,
                  "State-gov": "Local-gov",
                  "Bachelors": "Bachelors",
                  "Never-married": "Married-civ-spouse",
                  "Adm-clerical": "Tech-support",
                  "Not-in-family": "Husband",
                  "White": "White",
                  "Male": "Male",
                  "United-States": "United-States",
                  "<=50K": ">50K",
                  "_deepnote_index_column": 24
                },
                {
                  "0": 0,
                  "13": 9,
                  "39": 19,
                  "40": 40,
                  "2174": 0,
                  "77516": 168294,
                  "State-gov": "Private",
                  "Bachelors": "HS-grad",
                  "Never-married": "Never-married",
                  "Adm-clerical": "Craft-repair",
                  "Not-in-family": "Own-child",
                  "White": "White",
                  "Male": "Male",
                  "United-States": "United-States",
                  "<=50K": "<=50K",
                  "_deepnote_index_column": 25
                },
                {
                  "0": 0,
                  "13": 10,
                  "39": 54,
                  "40": 60,
                  "2174": 0,
                  "77516": 180211,
                  "State-gov": "?",
                  "Bachelors": "Some-college",
                  "Never-married": "Married-civ-spouse",
                  "Adm-clerical": "?",
                  "Not-in-family": "Husband",
                  "White": "Asian-Pac-Islander",
                  "Male": "Male",
                  "United-States": "South",
                  "<=50K": ">50K",
                  "_deepnote_index_column": 26
                },
                {
                  "0": 0,
                  "13": 9,
                  "39": 39,
                  "40": 80,
                  "2174": 0,
                  "77516": 367260,
                  "State-gov": "Private",
                  "Bachelors": "HS-grad",
                  "Never-married": "Divorced",
                  "Adm-clerical": "Exec-managerial",
                  "Not-in-family": "Not-in-family",
                  "White": "White",
                  "Male": "Male",
                  "United-States": "United-States",
                  "<=50K": "<=50K",
                  "_deepnote_index_column": 27
                },
                {
                  "0": 0,
                  "13": 9,
                  "39": 49,
                  "40": 40,
                  "2174": 0,
                  "77516": 193366,
                  "State-gov": "Private",
                  "Bachelors": "HS-grad",
                  "Never-married": "Married-civ-spouse",
                  "Adm-clerical": "Craft-repair",
                  "Not-in-family": "Husband",
                  "White": "White",
                  "Male": "Male",
                  "United-States": "United-States",
                  "<=50K": "<=50K",
                  "_deepnote_index_column": 28
                },
                {
                  "0": 0,
                  "13": 12,
                  "39": 23,
                  "40": 52,
                  "2174": 0,
                  "77516": 190709,
                  "State-gov": "Local-gov",
                  "Bachelors": "Assoc-acdm",
                  "Never-married": "Never-married",
                  "Adm-clerical": "Protective-serv",
                  "Not-in-family": "Not-in-family",
                  "White": "White",
                  "Male": "Male",
                  "United-States": "United-States",
                  "<=50K": "<=50K",
                  "_deepnote_index_column": 29
                },
                {
                  "0": 0,
                  "13": 10,
                  "39": 20,
                  "40": 44,
                  "2174": 0,
                  "77516": 266015,
                  "State-gov": "Private",
                  "Bachelors": "Some-college",
                  "Never-married": "Never-married",
                  "Adm-clerical": "Sales",
                  "Not-in-family": "Own-child",
                  "White": "Black",
                  "Male": "Male",
                  "United-States": "United-States",
                  "<=50K": "<=50K",
                  "_deepnote_index_column": 30
                },
                {
                  "0": 1408,
                  "13": 13,
                  "39": 45,
                  "40": 40,
                  "2174": 0,
                  "77516": 386940,
                  "State-gov": "Private",
                  "Bachelors": "Bachelors",
                  "Never-married": "Divorced",
                  "Adm-clerical": "Exec-managerial",
                  "Not-in-family": "Own-child",
                  "White": "White",
                  "Male": "Male",
                  "United-States": "United-States",
                  "<=50K": "<=50K",
                  "_deepnote_index_column": 31
                },
                {
                  "0": 0,
                  "13": 10,
                  "39": 30,
                  "40": 40,
                  "2174": 0,
                  "77516": 59951,
                  "State-gov": "Federal-gov",
                  "Bachelors": "Some-college",
                  "Never-married": "Married-civ-spouse",
                  "Adm-clerical": "Adm-clerical",
                  "Not-in-family": "Own-child",
                  "White": "White",
                  "Male": "Male",
                  "United-States": "United-States",
                  "<=50K": "<=50K",
                  "_deepnote_index_column": 32
                }
              ],
              "rows_bottom": [
                {
                  "0": 0,
                  "13": 9,
                  "39": 25,
                  "40": 40,
                  "2174": 0,
                  "77516": 242136,
                  "State-gov": "Private",
                  "Bachelors": "HS-grad",
                  "Never-married": "Divorced",
                  "Adm-clerical": "Machine-op-inspct",
                  "Not-in-family": "Not-in-family",
                  "White": "Black",
                  "Male": "Male",
                  "United-States": "United-States",
                  "<=50K": "<=50K",
                  "_deepnote_index_column": 48808
                },
                {
                  "0": 0,
                  "13": 9,
                  "39": 31,
                  "40": 40,
                  "2174": 0,
                  "77516": 112115,
                  "State-gov": "Private",
                  "Bachelors": "HS-grad",
                  "Never-married": "Never-married",
                  "Adm-clerical": "Machine-op-inspct",
                  "Not-in-family": "Not-in-family",
                  "White": "White",
                  "Male": "Male",
                  "United-States": "United-States",
                  "<=50K": "<=50K",
                  "_deepnote_index_column": 48809
                },
                {
                  "0": 0,
                  "13": 9,
                  "39": 49,
                  "40": 40,
                  "2174": 0,
                  "77516": 77132,
                  "State-gov": "Self-emp-inc",
                  "Bachelors": "HS-grad",
                  "Never-married": "Married-civ-spouse",
                  "Adm-clerical": "Exec-managerial",
                  "Not-in-family": "Husband",
                  "White": "White",
                  "Male": "Male",
                  "United-States": "Canada",
                  "<=50K": ">50K",
                  "_deepnote_index_column": 48810
                },
                {
                  "0": 0,
                  "13": 11,
                  "39": 81,
                  "40": 20,
                  "2174": 2936,
                  "77516": 26711,
                  "State-gov": "?",
                  "Bachelors": "Assoc-voc",
                  "Never-married": "Married-civ-spouse",
                  "Adm-clerical": "?",
                  "Not-in-family": "Husband",
                  "White": "White",
                  "Male": "Male",
                  "United-States": "United-States",
                  "<=50K": "<=50K",
                  "_deepnote_index_column": 48811
                },
                {
                  "0": 0,
                  "13": 11,
                  "39": 60,
                  "40": 40,
                  "2174": 7688,
                  "77516": 117909,
                  "State-gov": "Private",
                  "Bachelors": "Assoc-voc",
                  "Never-married": "Married-civ-spouse",
                  "Adm-clerical": "Prof-specialty",
                  "Not-in-family": "Husband",
                  "White": "White",
                  "Male": "Male",
                  "United-States": "United-States",
                  "<=50K": ">50K",
                  "_deepnote_index_column": 48812
                },
                {
                  "0": 1669,
                  "13": 13,
                  "39": 39,
                  "40": 40,
                  "2174": 0,
                  "77516": 229647,
                  "State-gov": "Private",
                  "Bachelors": "Bachelors",
                  "Never-married": "Never-married",
                  "Adm-clerical": "Tech-support",
                  "Not-in-family": "Not-in-family",
                  "White": "White",
                  "Male": "Female",
                  "United-States": "United-States",
                  "<=50K": "<=50K",
                  "_deepnote_index_column": 48813
                },
                {
                  "0": 0,
                  "13": 14,
                  "39": 38,
                  "40": 50,
                  "2174": 0,
                  "77516": 149347,
                  "State-gov": "Private",
                  "Bachelors": "Masters",
                  "Never-married": "Married-civ-spouse",
                  "Adm-clerical": "Prof-specialty",
                  "Not-in-family": "Husband",
                  "White": "White",
                  "Male": "Male",
                  "United-States": "United-States",
                  "<=50K": ">50K",
                  "_deepnote_index_column": 48814
                },
                {
                  "0": 1902,
                  "13": 14,
                  "39": 43,
                  "40": 50,
                  "2174": 0,
                  "77516": 23157,
                  "State-gov": "Local-gov",
                  "Bachelors": "Masters",
                  "Never-married": "Married-civ-spouse",
                  "Adm-clerical": "Exec-managerial",
                  "Not-in-family": "Husband",
                  "White": "White",
                  "Male": "Male",
                  "United-States": "United-States",
                  "<=50K": ">50K",
                  "_deepnote_index_column": 48815
                },
                {
                  "0": 0,
                  "13": 9,
                  "39": 23,
                  "40": 40,
                  "2174": 0,
                  "77516": 93977,
                  "State-gov": "Private",
                  "Bachelors": "HS-grad",
                  "Never-married": "Never-married",
                  "Adm-clerical": "Machine-op-inspct",
                  "Not-in-family": "Own-child",
                  "White": "White",
                  "Male": "Male",
                  "United-States": "United-States",
                  "<=50K": "<=50K",
                  "_deepnote_index_column": 48816
                },
                {
                  "0": 0,
                  "13": 10,
                  "39": 73,
                  "40": 40,
                  "2174": 0,
                  "77516": 159691,
                  "State-gov": "Self-emp-inc",
                  "Bachelors": "Some-college",
                  "Never-married": "Divorced",
                  "Adm-clerical": "Exec-managerial",
                  "Not-in-family": "Not-in-family",
                  "White": "White",
                  "Male": "Female",
                  "United-States": "United-States",
                  "<=50K": "<=50K",
                  "_deepnote_index_column": 48817
                },
                {
                  "0": 0,
                  "13": 10,
                  "39": 35,
                  "40": 40,
                  "2174": 0,
                  "77516": 176967,
                  "State-gov": "Private",
                  "Bachelors": "Some-college",
                  "Never-married": "Married-civ-spouse",
                  "Adm-clerical": "Protective-serv",
                  "Not-in-family": "Husband",
                  "White": "White",
                  "Male": "Male",
                  "United-States": "United-States",
                  "<=50K": "<=50K",
                  "_deepnote_index_column": 48818
                },
                {
                  "0": 0,
                  "13": 9,
                  "39": 66,
                  "40": 8,
                  "2174": 0,
                  "77516": 344436,
                  "State-gov": "Private",
                  "Bachelors": "HS-grad",
                  "Never-married": "Widowed",
                  "Adm-clerical": "Sales",
                  "Not-in-family": "Other-relative",
                  "White": "White",
                  "Male": "Female",
                  "United-States": "United-States",
                  "<=50K": "<=50K",
                  "_deepnote_index_column": 48819
                },
                {
                  "0": 0,
                  "13": 10,
                  "39": 27,
                  "40": 45,
                  "2174": 0,
                  "77516": 430340,
                  "State-gov": "Private",
                  "Bachelors": "Some-college",
                  "Never-married": "Never-married",
                  "Adm-clerical": "Sales",
                  "Not-in-family": "Not-in-family",
                  "White": "White",
                  "Male": "Female",
                  "United-States": "United-States",
                  "<=50K": "<=50K",
                  "_deepnote_index_column": 48820
                },
                {
                  "0": 0,
                  "13": 15,
                  "39": 40,
                  "40": 55,
                  "2174": 15024,
                  "77516": 202168,
                  "State-gov": "Private",
                  "Bachelors": "Prof-school",
                  "Never-married": "Married-civ-spouse",
                  "Adm-clerical": "Prof-specialty",
                  "Not-in-family": "Husband",
                  "White": "White",
                  "Male": "Male",
                  "United-States": "United-States",
                  "<=50K": ">50K",
                  "_deepnote_index_column": 48821
                },
                {
                  "0": 0,
                  "13": 9,
                  "39": 51,
                  "40": 40,
                  "2174": 0,
                  "77516": 82720,
                  "State-gov": "Private",
                  "Bachelors": "HS-grad",
                  "Never-married": "Married-civ-spouse",
                  "Adm-clerical": "Craft-repair",
                  "Not-in-family": "Husband",
                  "White": "White",
                  "Male": "Male",
                  "United-States": "United-States",
                  "<=50K": "<=50K",
                  "_deepnote_index_column": 48822
                },
                {
                  "0": 0,
                  "13": 10,
                  "39": 22,
                  "40": 40,
                  "2174": 0,
                  "77516": 269623,
                  "State-gov": "Private",
                  "Bachelors": "Some-college",
                  "Never-married": "Never-married",
                  "Adm-clerical": "Craft-repair",
                  "Not-in-family": "Own-child",
                  "White": "White",
                  "Male": "Male",
                  "United-States": "United-States",
                  "<=50K": "<=50K",
                  "_deepnote_index_column": 48823
                },
                {
                  "0": 0,
                  "13": 9,
                  "39": 64,
                  "40": 32,
                  "2174": 0,
                  "77516": 136405,
                  "State-gov": "Self-emp-not-inc",
                  "Bachelors": "HS-grad",
                  "Never-married": "Widowed",
                  "Adm-clerical": "Farming-fishing",
                  "Not-in-family": "Not-in-family",
                  "White": "White",
                  "Male": "Male",
                  "United-States": "United-States",
                  "<=50K": "<=50K",
                  "_deepnote_index_column": 48824
                },
                {
                  "0": 0,
                  "13": 14,
                  "39": 50,
                  "40": 40,
                  "2174": 0,
                  "77516": 139347,
                  "State-gov": "Local-gov",
                  "Bachelors": "Masters",
                  "Never-married": "Married-civ-spouse",
                  "Adm-clerical": "Prof-specialty",
                  "Not-in-family": "Wife",
                  "White": "White",
                  "Male": "Female",
                  "United-States": "?",
                  "<=50K": ">50K",
                  "_deepnote_index_column": 48825
                },
                {
                  "0": 0,
                  "13": 9,
                  "39": 55,
                  "40": 32,
                  "2174": 0,
                  "77516": 224655,
                  "State-gov": "Private",
                  "Bachelors": "HS-grad",
                  "Never-married": "Separated",
                  "Adm-clerical": "Priv-house-serv",
                  "Not-in-family": "Not-in-family",
                  "White": "White",
                  "Male": "Female",
                  "United-States": "United-States",
                  "<=50K": "<=50K",
                  "_deepnote_index_column": 48826
                },
                {
                  "0": 0,
                  "13": 11,
                  "39": 38,
                  "40": 40,
                  "2174": 0,
                  "77516": 247547,
                  "State-gov": "Private",
                  "Bachelors": "Assoc-voc",
                  "Never-married": "Never-married",
                  "Adm-clerical": "Adm-clerical",
                  "Not-in-family": "Unmarried",
                  "White": "Black",
                  "Male": "Female",
                  "United-States": "United-States",
                  "<=50K": "<=50K",
                  "_deepnote_index_column": 48827
                },
                {
                  "0": 0,
                  "13": 12,
                  "39": 58,
                  "40": 36,
                  "2174": 0,
                  "77516": 292710,
                  "State-gov": "Private",
                  "Bachelors": "Assoc-acdm",
                  "Never-married": "Divorced",
                  "Adm-clerical": "Prof-specialty",
                  "Not-in-family": "Not-in-family",
                  "White": "White",
                  "Male": "Male",
                  "United-States": "United-States",
                  "<=50K": "<=50K",
                  "_deepnote_index_column": 48828
                },
                {
                  "0": 0,
                  "13": 9,
                  "39": 32,
                  "40": 40,
                  "2174": 0,
                  "77516": 173449,
                  "State-gov": "Private",
                  "Bachelors": "HS-grad",
                  "Never-married": "Married-civ-spouse",
                  "Adm-clerical": "Handlers-cleaners",
                  "Not-in-family": "Husband",
                  "White": "White",
                  "Male": "Male",
                  "United-States": "United-States",
                  "<=50K": "<=50K",
                  "_deepnote_index_column": 48829
                },
                {
                  "0": 0,
                  "13": 9,
                  "39": 48,
                  "40": 40,
                  "2174": 0,
                  "77516": 285570,
                  "State-gov": "Private",
                  "Bachelors": "HS-grad",
                  "Never-married": "Married-civ-spouse",
                  "Adm-clerical": "Adm-clerical",
                  "Not-in-family": "Husband",
                  "White": "White",
                  "Male": "Male",
                  "United-States": "United-States",
                  "<=50K": "<=50K",
                  "_deepnote_index_column": 48830
                },
                {
                  "0": 0,
                  "13": 9,
                  "39": 61,
                  "40": 48,
                  "2174": 0,
                  "77516": 89686,
                  "State-gov": "Private",
                  "Bachelors": "HS-grad",
                  "Never-married": "Married-civ-spouse",
                  "Adm-clerical": "Sales",
                  "Not-in-family": "Husband",
                  "White": "White",
                  "Male": "Male",
                  "United-States": "United-States",
                  "<=50K": "<=50K",
                  "_deepnote_index_column": 48831
                },
                {
                  "0": 0,
                  "13": 9,
                  "39": 31,
                  "40": 40,
                  "2174": 0,
                  "77516": 440129,
                  "State-gov": "Private",
                  "Bachelors": "HS-grad",
                  "Never-married": "Married-civ-spouse",
                  "Adm-clerical": "Craft-repair",
                  "Not-in-family": "Husband",
                  "White": "White",
                  "Male": "Male",
                  "United-States": "United-States",
                  "<=50K": "<=50K",
                  "_deepnote_index_column": 48832
                },
                {
                  "0": 0,
                  "13": 9,
                  "39": 25,
                  "40": 40,
                  "2174": 0,
                  "77516": 350977,
                  "State-gov": "Private",
                  "Bachelors": "HS-grad",
                  "Never-married": "Never-married",
                  "Adm-clerical": "Other-service",
                  "Not-in-family": "Own-child",
                  "White": "White",
                  "Male": "Female",
                  "United-States": "United-States",
                  "<=50K": "<=50K",
                  "_deepnote_index_column": 48833
                },
                {
                  "0": 0,
                  "13": 14,
                  "39": 48,
                  "40": 40,
                  "2174": 0,
                  "77516": 349230,
                  "State-gov": "Local-gov",
                  "Bachelors": "Masters",
                  "Never-married": "Divorced",
                  "Adm-clerical": "Other-service",
                  "Not-in-family": "Not-in-family",
                  "White": "White",
                  "Male": "Male",
                  "United-States": "United-States",
                  "<=50K": "<=50K",
                  "_deepnote_index_column": 48834
                },
                {
                  "0": 0,
                  "13": 13,
                  "39": 33,
                  "40": 40,
                  "2174": 0,
                  "77516": 245211,
                  "State-gov": "Private",
                  "Bachelors": "Bachelors",
                  "Never-married": "Never-married",
                  "Adm-clerical": "Prof-specialty",
                  "Not-in-family": "Own-child",
                  "White": "White",
                  "Male": "Male",
                  "United-States": "United-States",
                  "<=50K": "<=50K",
                  "_deepnote_index_column": 48835
                },
                {
                  "0": 0,
                  "13": 13,
                  "39": 39,
                  "40": 36,
                  "2174": 0,
                  "77516": 215419,
                  "State-gov": "Private",
                  "Bachelors": "Bachelors",
                  "Never-married": "Divorced",
                  "Adm-clerical": "Prof-specialty",
                  "Not-in-family": "Not-in-family",
                  "White": "White",
                  "Male": "Female",
                  "United-States": "United-States",
                  "<=50K": "<=50K",
                  "_deepnote_index_column": 48836
                },
                {
                  "0": 0,
                  "13": 9,
                  "39": 64,
                  "40": 40,
                  "2174": 0,
                  "77516": 321403,
                  "State-gov": "?",
                  "Bachelors": "HS-grad",
                  "Never-married": "Widowed",
                  "Adm-clerical": "?",
                  "Not-in-family": "Other-relative",
                  "White": "Black",
                  "Male": "Male",
                  "United-States": "United-States",
                  "<=50K": "<=50K",
                  "_deepnote_index_column": 48837
                },
                {
                  "0": 0,
                  "13": 13,
                  "39": 38,
                  "40": 50,
                  "2174": 0,
                  "77516": 374983,
                  "State-gov": "Private",
                  "Bachelors": "Bachelors",
                  "Never-married": "Married-civ-spouse",
                  "Adm-clerical": "Prof-specialty",
                  "Not-in-family": "Husband",
                  "White": "White",
                  "Male": "Male",
                  "United-States": "United-States",
                  "<=50K": "<=50K",
                  "_deepnote_index_column": 48838
                },
                {
                  "0": 0,
                  "13": 13,
                  "39": 44,
                  "40": 40,
                  "2174": 5455,
                  "77516": 83891,
                  "State-gov": "Private",
                  "Bachelors": "Bachelors",
                  "Never-married": "Divorced",
                  "Adm-clerical": "Adm-clerical",
                  "Not-in-family": "Own-child",
                  "White": "Asian-Pac-Islander",
                  "Male": "Male",
                  "United-States": "United-States",
                  "<=50K": "<=50K",
                  "_deepnote_index_column": 48839
                },
                {
                  "0": 0,
                  "13": 13,
                  "39": 35,
                  "40": 60,
                  "2174": 0,
                  "77516": 182148,
                  "State-gov": "Self-emp-inc",
                  "Bachelors": "Bachelors",
                  "Never-married": "Married-civ-spouse",
                  "Adm-clerical": "Exec-managerial",
                  "Not-in-family": "Husband",
                  "White": "White",
                  "Male": "Male",
                  "United-States": "United-States",
                  "<=50K": ">50K",
                  "_deepnote_index_column": 48840
                }
              ]
            },
            "text/plain": "       39         State-gov   77516  Bachelors  13       Never-married  \\\n0      50  Self-emp-not-inc   83311  Bachelors  13  Married-civ-spouse   \n1      38           Private  215646    HS-grad   9            Divorced   \n2      53           Private  234721       11th   7  Married-civ-spouse   \n3      28           Private  338409  Bachelors  13  Married-civ-spouse   \n4      37           Private  284582    Masters  14  Married-civ-spouse   \n...    ..               ...     ...        ...  ..                 ...   \n48836  39           Private  215419  Bachelors  13            Divorced   \n48837  64                 ?  321403    HS-grad   9             Widowed   \n48838  38           Private  374983  Bachelors  13  Married-civ-spouse   \n48839  44           Private   83891  Bachelors  13            Divorced   \n48840  35      Self-emp-inc  182148  Bachelors  13  Married-civ-spouse   \n\n            Adm-clerical   Not-in-family               White    Male  2174  0  \\\n0        Exec-managerial         Husband               White    Male     0  0   \n1      Handlers-cleaners   Not-in-family               White    Male     0  0   \n2      Handlers-cleaners         Husband               Black    Male     0  0   \n3         Prof-specialty            Wife               Black  Female     0  0   \n4        Exec-managerial            Wife               White  Female     0  0   \n...                  ...             ...                 ...     ...   ... ..   \n48836     Prof-specialty   Not-in-family               White  Female     0  0   \n48837                  ?  Other-relative               Black    Male     0  0   \n48838     Prof-specialty         Husband               White    Male     0  0   \n48839       Adm-clerical       Own-child  Asian-Pac-Islander    Male  5455  0   \n48840    Exec-managerial         Husband               White    Male     0  0   \n\n       40  United-States  <=50K  \n0      13  United-States  <=50K  \n1      40  United-States  <=50K  \n2      40  United-States  <=50K  \n3      40           Cuba  <=50K  \n4      40  United-States  <=50K  \n...    ..            ...    ...  \n48836  36  United-States  <=50K  \n48837  40  United-States  <=50K  \n48838  50  United-States  <=50K  \n48839  40  United-States  <=50K  \n48840  60  United-States   >50K  \n\n[48841 rows x 15 columns]",
            "text/html": "<div>\n<style scoped>\n    .dataframe tbody tr th:only-of-type {\n        vertical-align: middle;\n    }\n\n    .dataframe tbody tr th {\n        vertical-align: top;\n    }\n\n    .dataframe thead th {\n        text-align: right;\n    }\n</style>\n<table border=\"1\" class=\"dataframe\">\n  <thead>\n    <tr style=\"text-align: right;\">\n      <th></th>\n      <th>39</th>\n      <th>State-gov</th>\n      <th>77516</th>\n      <th>Bachelors</th>\n      <th>13</th>\n      <th>Never-married</th>\n      <th>Adm-clerical</th>\n      <th>Not-in-family</th>\n      <th>White</th>\n      <th>Male</th>\n      <th>2174</th>\n      <th>0</th>\n      <th>40</th>\n      <th>United-States</th>\n      <th>&lt;=50K</th>\n    </tr>\n  </thead>\n  <tbody>\n    <tr>\n      <th>0</th>\n      <td>50</td>\n      <td>Self-emp-not-inc</td>\n      <td>83311</td>\n      <td>Bachelors</td>\n      <td>13</td>\n      <td>Married-civ-spouse</td>\n      <td>Exec-managerial</td>\n      <td>Husband</td>\n      <td>White</td>\n      <td>Male</td>\n      <td>0</td>\n      <td>0</td>\n      <td>13</td>\n      <td>United-States</td>\n      <td>&lt;=50K</td>\n    </tr>\n    <tr>\n      <th>1</th>\n      <td>38</td>\n      <td>Private</td>\n      <td>215646</td>\n      <td>HS-grad</td>\n      <td>9</td>\n      <td>Divorced</td>\n      <td>Handlers-cleaners</td>\n      <td>Not-in-family</td>\n      <td>White</td>\n      <td>Male</td>\n      <td>0</td>\n      <td>0</td>\n      <td>40</td>\n      <td>United-States</td>\n      <td>&lt;=50K</td>\n    </tr>\n    <tr>\n      <th>2</th>\n      <td>53</td>\n      <td>Private</td>\n      <td>234721</td>\n      <td>11th</td>\n      <td>7</td>\n      <td>Married-civ-spouse</td>\n      <td>Handlers-cleaners</td>\n      <td>Husband</td>\n      <td>Black</td>\n      <td>Male</td>\n      <td>0</td>\n      <td>0</td>\n      <td>40</td>\n      <td>United-States</td>\n      <td>&lt;=50K</td>\n    </tr>\n    <tr>\n      <th>3</th>\n      <td>28</td>\n      <td>Private</td>\n      <td>338409</td>\n      <td>Bachelors</td>\n      <td>13</td>\n      <td>Married-civ-spouse</td>\n      <td>Prof-specialty</td>\n      <td>Wife</td>\n      <td>Black</td>\n      <td>Female</td>\n      <td>0</td>\n      <td>0</td>\n      <td>40</td>\n      <td>Cuba</td>\n      <td>&lt;=50K</td>\n    </tr>\n    <tr>\n      <th>4</th>\n      <td>37</td>\n      <td>Private</td>\n      <td>284582</td>\n      <td>Masters</td>\n      <td>14</td>\n      <td>Married-civ-spouse</td>\n      <td>Exec-managerial</td>\n      <td>Wife</td>\n      <td>White</td>\n      <td>Female</td>\n      <td>0</td>\n      <td>0</td>\n      <td>40</td>\n      <td>United-States</td>\n      <td>&lt;=50K</td>\n    </tr>\n    <tr>\n      <th>...</th>\n      <td>...</td>\n      <td>...</td>\n      <td>...</td>\n      <td>...</td>\n      <td>...</td>\n      <td>...</td>\n      <td>...</td>\n      <td>...</td>\n      <td>...</td>\n      <td>...</td>\n      <td>...</td>\n      <td>...</td>\n      <td>...</td>\n      <td>...</td>\n      <td>...</td>\n    </tr>\n    <tr>\n      <th>48836</th>\n      <td>39</td>\n      <td>Private</td>\n      <td>215419</td>\n      <td>Bachelors</td>\n      <td>13</td>\n      <td>Divorced</td>\n      <td>Prof-specialty</td>\n      <td>Not-in-family</td>\n      <td>White</td>\n      <td>Female</td>\n      <td>0</td>\n      <td>0</td>\n      <td>36</td>\n      <td>United-States</td>\n      <td>&lt;=50K</td>\n    </tr>\n    <tr>\n      <th>48837</th>\n      <td>64</td>\n      <td>?</td>\n      <td>321403</td>\n      <td>HS-grad</td>\n      <td>9</td>\n      <td>Widowed</td>\n      <td>?</td>\n      <td>Other-relative</td>\n      <td>Black</td>\n      <td>Male</td>\n      <td>0</td>\n      <td>0</td>\n      <td>40</td>\n      <td>United-States</td>\n      <td>&lt;=50K</td>\n    </tr>\n    <tr>\n      <th>48838</th>\n      <td>38</td>\n      <td>Private</td>\n      <td>374983</td>\n      <td>Bachelors</td>\n      <td>13</td>\n      <td>Married-civ-spouse</td>\n      <td>Prof-specialty</td>\n      <td>Husband</td>\n      <td>White</td>\n      <td>Male</td>\n      <td>0</td>\n      <td>0</td>\n      <td>50</td>\n      <td>United-States</td>\n      <td>&lt;=50K</td>\n    </tr>\n    <tr>\n      <th>48839</th>\n      <td>44</td>\n      <td>Private</td>\n      <td>83891</td>\n      <td>Bachelors</td>\n      <td>13</td>\n      <td>Divorced</td>\n      <td>Adm-clerical</td>\n      <td>Own-child</td>\n      <td>Asian-Pac-Islander</td>\n      <td>Male</td>\n      <td>5455</td>\n      <td>0</td>\n      <td>40</td>\n      <td>United-States</td>\n      <td>&lt;=50K</td>\n    </tr>\n    <tr>\n      <th>48840</th>\n      <td>35</td>\n      <td>Self-emp-inc</td>\n      <td>182148</td>\n      <td>Bachelors</td>\n      <td>13</td>\n      <td>Married-civ-spouse</td>\n      <td>Exec-managerial</td>\n      <td>Husband</td>\n      <td>White</td>\n      <td>Male</td>\n      <td>0</td>\n      <td>0</td>\n      <td>60</td>\n      <td>United-States</td>\n      <td>&gt;50K</td>\n    </tr>\n  </tbody>\n</table>\n<p>48841 rows × 15 columns</p>\n</div>"
          },
          "metadata": {}
        }
      ]
    },
    {
      "cell_type": "code",
      "metadata": {
        "tags": [],
        "cell_id": "00020-302207d9-e35f-4b3f-860a-4530002114a4",
        "deepnote_to_be_reexecuted": false,
        "source_hash": "571ab482",
        "execution_millis": 137,
        "execution_start": 1619365636289,
        "deepnote_cell_type": "code"
      },
      "source": "# Awfull preprocessing example, just trust the process!\nAI_dummified = pd.get_dummies(AI)\nAI_dummified # Now we have a 110 features dataset vs an original total of 15 features, pretty wild!",
      "execution_count": null,
      "outputs": [
        {
          "output_type": "execute_result",
          "execution_count": 20,
          "data": {
            "application/vnd.deepnote.dataframe.v2+json": {
              "row_count": 48841,
              "column_count": 110,
              "columns": [
                {
                  "name": "39",
                  "dtype": "int64",
                  "stats": {
                    "unique_count": 74,
                    "nan_count": 0,
                    "min": "17",
                    "max": "90",
                    "histogram": [
                      {
                        "bin_start": 17,
                        "bin_end": 24.3,
                        "count": 8432
                      },
                      {
                        "bin_start": 24.3,
                        "bin_end": 31.6,
                        "count": 8686
                      },
                      {
                        "bin_start": 31.6,
                        "bin_end": 38.9,
                        "count": 9120
                      },
                      {
                        "bin_start": 38.9,
                        "bin_end": 46.2,
                        "count": 9156
                      },
                      {
                        "bin_start": 46.2,
                        "bin_end": 53.5,
                        "count": 5965
                      },
                      {
                        "bin_start": 53.5,
                        "bin_end": 60.8,
                        "count": 3876
                      },
                      {
                        "bin_start": 60.8,
                        "bin_end": 68.1,
                        "count": 2456
                      },
                      {
                        "bin_start": 68.1,
                        "bin_end": 75.4,
                        "count": 777
                      },
                      {
                        "bin_start": 75.4,
                        "bin_end": 82.7,
                        "count": 277
                      },
                      {
                        "bin_start": 82.7,
                        "bin_end": 90,
                        "count": 96
                      }
                    ]
                  }
                },
                {
                  "name": "77516",
                  "dtype": "int64",
                  "stats": {
                    "unique_count": 28522,
                    "nan_count": 0,
                    "min": "12285",
                    "max": "1490400",
                    "histogram": [
                      {
                        "bin_start": 12285,
                        "bin_end": 160096.5,
                        "count": 19938
                      },
                      {
                        "bin_start": 160096.5,
                        "bin_end": 307908,
                        "count": 22790
                      },
                      {
                        "bin_start": 307908,
                        "bin_end": 455719.5,
                        "count": 5225
                      },
                      {
                        "bin_start": 455719.5,
                        "bin_end": 603531,
                        "count": 673
                      },
                      {
                        "bin_start": 603531,
                        "bin_end": 751342.5,
                        "count": 151
                      },
                      {
                        "bin_start": 751342.5,
                        "bin_end": 899154,
                        "count": 35
                      },
                      {
                        "bin_start": 899154,
                        "bin_end": 1046965.5,
                        "count": 15
                      },
                      {
                        "bin_start": 1046965.5,
                        "bin_end": 1194777,
                        "count": 7
                      },
                      {
                        "bin_start": 1194777,
                        "bin_end": 1342588.5,
                        "count": 3
                      },
                      {
                        "bin_start": 1342588.5,
                        "bin_end": 1490400,
                        "count": 4
                      }
                    ]
                  }
                },
                {
                  "name": "13",
                  "dtype": "int64"
                },
                {
                  "name": "2174",
                  "dtype": "int64"
                },
                {
                  "name": "0",
                  "dtype": "int64"
                },
                {
                  "name": "40",
                  "dtype": "int64"
                },
                {
                  "name": "State-gov_?",
                  "dtype": "uint8"
                },
                {
                  "name": "State-gov_Federal-gov",
                  "dtype": "uint8"
                },
                {
                  "name": "State-gov_Local-gov",
                  "dtype": "uint8"
                },
                {
                  "name": "State-gov_Never-worked",
                  "dtype": "uint8"
                },
                {
                  "name": "State-gov_Private",
                  "dtype": "uint8"
                },
                {
                  "name": "State-gov_Self-emp-inc",
                  "dtype": "uint8"
                },
                {
                  "name": "State-gov_Self-emp-not-inc",
                  "dtype": "uint8"
                },
                {
                  "name": "State-gov_State-gov",
                  "dtype": "uint8"
                },
                {
                  "name": "State-gov_Without-pay",
                  "dtype": "uint8"
                },
                {
                  "name": "Bachelors_10th",
                  "dtype": "uint8"
                },
                {
                  "name": "Bachelors_11th",
                  "dtype": "uint8"
                },
                {
                  "name": "Bachelors_12th",
                  "dtype": "uint8"
                },
                {
                  "name": "Bachelors_1st-4th",
                  "dtype": "uint8"
                },
                {
                  "name": "Bachelors_5th-6th",
                  "dtype": "uint8"
                },
                {
                  "name": "Bachelors_7th-8th",
                  "dtype": "uint8"
                },
                {
                  "name": "Bachelors_9th",
                  "dtype": "uint8"
                },
                {
                  "name": "Bachelors_Assoc-acdm",
                  "dtype": "uint8"
                },
                {
                  "name": "Bachelors_Assoc-voc",
                  "dtype": "uint8"
                },
                {
                  "name": "Bachelors_Bachelors",
                  "dtype": "uint8"
                },
                {
                  "name": "Bachelors_Doctorate",
                  "dtype": "uint8"
                },
                {
                  "name": "Bachelors_HS-grad",
                  "dtype": "uint8"
                },
                {
                  "name": "Bachelors_Masters",
                  "dtype": "uint8"
                },
                {
                  "name": "Bachelors_Preschool",
                  "dtype": "uint8"
                },
                {
                  "name": "Bachelors_Prof-school",
                  "dtype": "uint8"
                },
                {
                  "name": "Bachelors_Some-college",
                  "dtype": "uint8"
                },
                {
                  "name": "Never-married_Divorced",
                  "dtype": "uint8"
                },
                {
                  "name": "Never-married_Married-AF-spouse",
                  "dtype": "uint8"
                },
                {
                  "name": "Never-married_Married-civ-spouse",
                  "dtype": "uint8"
                },
                {
                  "name": "Never-married_Married-spouse-absent",
                  "dtype": "uint8"
                },
                {
                  "name": "Never-married_Never-married",
                  "dtype": "uint8"
                },
                {
                  "name": "Never-married_Separated",
                  "dtype": "uint8"
                },
                {
                  "name": "Never-married_Widowed",
                  "dtype": "uint8"
                },
                {
                  "name": "Adm-clerical_?",
                  "dtype": "uint8"
                },
                {
                  "name": "Adm-clerical_Adm-clerical",
                  "dtype": "uint8"
                },
                {
                  "name": "Adm-clerical_Armed-Forces",
                  "dtype": "uint8"
                },
                {
                  "name": "Adm-clerical_Craft-repair",
                  "dtype": "uint8"
                },
                {
                  "name": "Adm-clerical_Exec-managerial",
                  "dtype": "uint8"
                },
                {
                  "name": "Adm-clerical_Farming-fishing",
                  "dtype": "uint8"
                },
                {
                  "name": "Adm-clerical_Handlers-cleaners",
                  "dtype": "uint8"
                },
                {
                  "name": "Adm-clerical_Machine-op-inspct",
                  "dtype": "uint8"
                },
                {
                  "name": "Adm-clerical_Other-service",
                  "dtype": "uint8"
                },
                {
                  "name": "Adm-clerical_Priv-house-serv",
                  "dtype": "uint8"
                },
                {
                  "name": "Adm-clerical_Prof-specialty",
                  "dtype": "uint8"
                },
                {
                  "name": "Adm-clerical_Protective-serv",
                  "dtype": "uint8"
                },
                {
                  "name": "Adm-clerical_Sales",
                  "dtype": "uint8"
                },
                {
                  "name": "Adm-clerical_Tech-support",
                  "dtype": "uint8"
                },
                {
                  "name": "Adm-clerical_Transport-moving",
                  "dtype": "uint8"
                },
                {
                  "name": "Not-in-family_Husband",
                  "dtype": "uint8"
                },
                {
                  "name": "Not-in-family_Not-in-family",
                  "dtype": "uint8"
                },
                {
                  "name": "Not-in-family_Other-relative",
                  "dtype": "uint8"
                },
                {
                  "name": "Not-in-family_Own-child",
                  "dtype": "uint8"
                },
                {
                  "name": "Not-in-family_Unmarried",
                  "dtype": "uint8"
                },
                {
                  "name": "Not-in-family_Wife",
                  "dtype": "uint8"
                },
                {
                  "name": "White_Amer-Indian-Eskimo",
                  "dtype": "uint8"
                },
                {
                  "name": "White_Asian-Pac-Islander",
                  "dtype": "uint8"
                },
                {
                  "name": "White_Black",
                  "dtype": "uint8"
                },
                {
                  "name": "White_Other",
                  "dtype": "uint8"
                },
                {
                  "name": "White_White",
                  "dtype": "uint8"
                },
                {
                  "name": "Male_Female",
                  "dtype": "uint8"
                },
                {
                  "name": "Male_Male",
                  "dtype": "uint8"
                },
                {
                  "name": "United-States_?",
                  "dtype": "uint8"
                },
                {
                  "name": "United-States_Cambodia",
                  "dtype": "uint8"
                },
                {
                  "name": "United-States_Canada",
                  "dtype": "uint8"
                },
                {
                  "name": "United-States_China",
                  "dtype": "uint8"
                },
                {
                  "name": "United-States_Columbia",
                  "dtype": "uint8"
                },
                {
                  "name": "United-States_Cuba",
                  "dtype": "uint8"
                },
                {
                  "name": "United-States_Dominican-Republic",
                  "dtype": "uint8"
                },
                {
                  "name": "United-States_Ecuador",
                  "dtype": "uint8"
                },
                {
                  "name": "United-States_El-Salvador",
                  "dtype": "uint8"
                },
                {
                  "name": "United-States_England",
                  "dtype": "uint8"
                },
                {
                  "name": "United-States_France",
                  "dtype": "uint8"
                },
                {
                  "name": "United-States_Germany",
                  "dtype": "uint8"
                },
                {
                  "name": "United-States_Greece",
                  "dtype": "uint8"
                },
                {
                  "name": "United-States_Guatemala",
                  "dtype": "uint8"
                },
                {
                  "name": "United-States_Haiti",
                  "dtype": "uint8"
                },
                {
                  "name": "United-States_Holand-Netherlands",
                  "dtype": "uint8"
                },
                {
                  "name": "United-States_Honduras",
                  "dtype": "uint8"
                },
                {
                  "name": "United-States_Hong",
                  "dtype": "uint8"
                },
                {
                  "name": "United-States_Hungary",
                  "dtype": "uint8"
                },
                {
                  "name": "United-States_India",
                  "dtype": "uint8"
                },
                {
                  "name": "United-States_Iran",
                  "dtype": "uint8"
                },
                {
                  "name": "United-States_Ireland",
                  "dtype": "uint8"
                },
                {
                  "name": "United-States_Italy",
                  "dtype": "uint8"
                },
                {
                  "name": "United-States_Jamaica",
                  "dtype": "uint8"
                },
                {
                  "name": "United-States_Japan",
                  "dtype": "uint8"
                },
                {
                  "name": "United-States_Laos",
                  "dtype": "uint8"
                },
                {
                  "name": "United-States_Mexico",
                  "dtype": "uint8"
                },
                {
                  "name": "United-States_Nicaragua",
                  "dtype": "uint8"
                },
                {
                  "name": "United-States_Outlying-US(Guam-USVI-etc)",
                  "dtype": "uint8"
                },
                {
                  "name": "United-States_Peru",
                  "dtype": "uint8"
                },
                {
                  "name": "United-States_Philippines",
                  "dtype": "uint8"
                },
                {
                  "name": "United-States_Poland",
                  "dtype": "uint8"
                },
                {
                  "name": "United-States_Portugal",
                  "dtype": "uint8"
                },
                {
                  "name": "United-States_Puerto-Rico",
                  "dtype": "uint8"
                },
                {
                  "name": "United-States_Scotland",
                  "dtype": "uint8"
                },
                {
                  "name": "United-States_South",
                  "dtype": "uint8"
                },
                {
                  "name": "United-States_Taiwan",
                  "dtype": "uint8"
                },
                {
                  "name": "United-States_Thailand",
                  "dtype": "uint8"
                },
                {
                  "name": "United-States_Trinadad&Tobago",
                  "dtype": "uint8"
                },
                {
                  "name": "United-States_United-States",
                  "dtype": "uint8"
                },
                {
                  "name": "United-States_Vietnam",
                  "dtype": "uint8"
                },
                {
                  "name": "United-States_Yugoslavia",
                  "dtype": "uint8"
                },
                {
                  "name": "<=50K_<=50K",
                  "dtype": "uint8"
                },
                {
                  "name": "<=50K_>50K",
                  "dtype": "uint8"
                },
                {
                  "name": "_deepnote_index_column",
                  "dtype": "int64"
                }
              ],
              "rows_top": [
                {
                  "0": 0,
                  "13": 13,
                  "39": 50,
                  "40": 13,
                  "2174": 0,
                  "77516": 83311,
                  "State-gov_?": 0,
                  "State-gov_Federal-gov": 0,
                  "State-gov_Local-gov": 0,
                  "State-gov_Never-worked": 0,
                  "State-gov_Private": 0,
                  "State-gov_Self-emp-inc": 0,
                  "State-gov_Self-emp-not-inc": 1,
                  "State-gov_State-gov": 0,
                  "State-gov_Without-pay": 0,
                  "Bachelors_10th": 0,
                  "Bachelors_11th": 0,
                  "Bachelors_12th": 0,
                  "Bachelors_1st-4th": 0,
                  "Bachelors_5th-6th": 0,
                  "Bachelors_7th-8th": 0,
                  "Bachelors_9th": 0,
                  "Bachelors_Assoc-acdm": 0,
                  "Bachelors_Assoc-voc": 0,
                  "Bachelors_Bachelors": 1,
                  "Bachelors_Doctorate": 0,
                  "Bachelors_HS-grad": 0,
                  "Bachelors_Masters": 0,
                  "Bachelors_Preschool": 0,
                  "Bachelors_Prof-school": 0,
                  "Bachelors_Some-college": 0,
                  "Never-married_Divorced": 0,
                  "Never-married_Married-AF-spouse": 0,
                  "Never-married_Married-civ-spouse": 1,
                  "Never-married_Married-spouse-absent": 0,
                  "Never-married_Never-married": 0,
                  "Never-married_Separated": 0,
                  "Never-married_Widowed": 0,
                  "Adm-clerical_?": 0,
                  "Adm-clerical_Adm-clerical": 0,
                  "Adm-clerical_Armed-Forces": 0,
                  "Adm-clerical_Craft-repair": 0,
                  "Adm-clerical_Exec-managerial": 1,
                  "Adm-clerical_Farming-fishing": 0,
                  "Adm-clerical_Handlers-cleaners": 0,
                  "Adm-clerical_Machine-op-inspct": 0,
                  "Adm-clerical_Other-service": 0,
                  "Adm-clerical_Priv-house-serv": 0,
                  "Adm-clerical_Prof-specialty": 0,
                  "Adm-clerical_Protective-serv": 0,
                  "Adm-clerical_Sales": 0,
                  "Adm-clerical_Tech-support": 0,
                  "Adm-clerical_Transport-moving": 0,
                  "Not-in-family_Husband": 1,
                  "Not-in-family_Not-in-family": 0,
                  "Not-in-family_Other-relative": 0,
                  "Not-in-family_Own-child": 0,
                  "Not-in-family_Unmarried": 0,
                  "Not-in-family_Wife": 0,
                  "White_Amer-Indian-Eskimo": 0,
                  "White_Asian-Pac-Islander": 0,
                  "White_Black": 0,
                  "White_Other": 0,
                  "White_White": 1,
                  "Male_Female": 0,
                  "Male_Male": 1,
                  "United-States_?": 0,
                  "United-States_Cambodia": 0,
                  "United-States_Canada": 0,
                  "United-States_China": 0,
                  "United-States_Columbia": 0,
                  "United-States_Cuba": 0,
                  "United-States_Dominican-Republic": 0,
                  "United-States_Ecuador": 0,
                  "United-States_El-Salvador": 0,
                  "United-States_England": 0,
                  "United-States_France": 0,
                  "United-States_Germany": 0,
                  "United-States_Greece": 0,
                  "United-States_Guatemala": 0,
                  "United-States_Haiti": 0,
                  "United-States_Holand-Netherlands": 0,
                  "United-States_Honduras": 0,
                  "United-States_Hong": 0,
                  "United-States_Hungary": 0,
                  "United-States_India": 0,
                  "United-States_Iran": 0,
                  "United-States_Ireland": 0,
                  "United-States_Italy": 0,
                  "United-States_Jamaica": 0,
                  "United-States_Japan": 0,
                  "United-States_Laos": 0,
                  "United-States_Mexico": 0,
                  "United-States_Nicaragua": 0,
                  "United-States_Outlying-US(Guam-USVI-etc)": 0,
                  "United-States_Peru": 0,
                  "United-States_Philippines": 0,
                  "United-States_Poland": 0,
                  "United-States_Portugal": 0,
                  "United-States_Puerto-Rico": 0,
                  "United-States_Scotland": 0,
                  "United-States_South": 0,
                  "United-States_Taiwan": 0,
                  "United-States_Thailand": 0,
                  "United-States_Trinadad&Tobago": 0,
                  "United-States_United-States": 1,
                  "United-States_Vietnam": 0,
                  "United-States_Yugoslavia": 0,
                  "<=50K_<=50K": 1,
                  "<=50K_>50K": 0,
                  "_deepnote_index_column": 0
                },
                {
                  "0": 0,
                  "13": 9,
                  "39": 38,
                  "40": 40,
                  "2174": 0,
                  "77516": 215646,
                  "State-gov_?": 0,
                  "State-gov_Federal-gov": 0,
                  "State-gov_Local-gov": 0,
                  "State-gov_Never-worked": 0,
                  "State-gov_Private": 1,
                  "State-gov_Self-emp-inc": 0,
                  "State-gov_Self-emp-not-inc": 0,
                  "State-gov_State-gov": 0,
                  "State-gov_Without-pay": 0,
                  "Bachelors_10th": 0,
                  "Bachelors_11th": 0,
                  "Bachelors_12th": 0,
                  "Bachelors_1st-4th": 0,
                  "Bachelors_5th-6th": 0,
                  "Bachelors_7th-8th": 0,
                  "Bachelors_9th": 0,
                  "Bachelors_Assoc-acdm": 0,
                  "Bachelors_Assoc-voc": 0,
                  "Bachelors_Bachelors": 0,
                  "Bachelors_Doctorate": 0,
                  "Bachelors_HS-grad": 1,
                  "Bachelors_Masters": 0,
                  "Bachelors_Preschool": 0,
                  "Bachelors_Prof-school": 0,
                  "Bachelors_Some-college": 0,
                  "Never-married_Divorced": 1,
                  "Never-married_Married-AF-spouse": 0,
                  "Never-married_Married-civ-spouse": 0,
                  "Never-married_Married-spouse-absent": 0,
                  "Never-married_Never-married": 0,
                  "Never-married_Separated": 0,
                  "Never-married_Widowed": 0,
                  "Adm-clerical_?": 0,
                  "Adm-clerical_Adm-clerical": 0,
                  "Adm-clerical_Armed-Forces": 0,
                  "Adm-clerical_Craft-repair": 0,
                  "Adm-clerical_Exec-managerial": 0,
                  "Adm-clerical_Farming-fishing": 0,
                  "Adm-clerical_Handlers-cleaners": 1,
                  "Adm-clerical_Machine-op-inspct": 0,
                  "Adm-clerical_Other-service": 0,
                  "Adm-clerical_Priv-house-serv": 0,
                  "Adm-clerical_Prof-specialty": 0,
                  "Adm-clerical_Protective-serv": 0,
                  "Adm-clerical_Sales": 0,
                  "Adm-clerical_Tech-support": 0,
                  "Adm-clerical_Transport-moving": 0,
                  "Not-in-family_Husband": 0,
                  "Not-in-family_Not-in-family": 1,
                  "Not-in-family_Other-relative": 0,
                  "Not-in-family_Own-child": 0,
                  "Not-in-family_Unmarried": 0,
                  "Not-in-family_Wife": 0,
                  "White_Amer-Indian-Eskimo": 0,
                  "White_Asian-Pac-Islander": 0,
                  "White_Black": 0,
                  "White_Other": 0,
                  "White_White": 1,
                  "Male_Female": 0,
                  "Male_Male": 1,
                  "United-States_?": 0,
                  "United-States_Cambodia": 0,
                  "United-States_Canada": 0,
                  "United-States_China": 0,
                  "United-States_Columbia": 0,
                  "United-States_Cuba": 0,
                  "United-States_Dominican-Republic": 0,
                  "United-States_Ecuador": 0,
                  "United-States_El-Salvador": 0,
                  "United-States_England": 0,
                  "United-States_France": 0,
                  "United-States_Germany": 0,
                  "United-States_Greece": 0,
                  "United-States_Guatemala": 0,
                  "United-States_Haiti": 0,
                  "United-States_Holand-Netherlands": 0,
                  "United-States_Honduras": 0,
                  "United-States_Hong": 0,
                  "United-States_Hungary": 0,
                  "United-States_India": 0,
                  "United-States_Iran": 0,
                  "United-States_Ireland": 0,
                  "United-States_Italy": 0,
                  "United-States_Jamaica": 0,
                  "United-States_Japan": 0,
                  "United-States_Laos": 0,
                  "United-States_Mexico": 0,
                  "United-States_Nicaragua": 0,
                  "United-States_Outlying-US(Guam-USVI-etc)": 0,
                  "United-States_Peru": 0,
                  "United-States_Philippines": 0,
                  "United-States_Poland": 0,
                  "United-States_Portugal": 0,
                  "United-States_Puerto-Rico": 0,
                  "United-States_Scotland": 0,
                  "United-States_South": 0,
                  "United-States_Taiwan": 0,
                  "United-States_Thailand": 0,
                  "United-States_Trinadad&Tobago": 0,
                  "United-States_United-States": 1,
                  "United-States_Vietnam": 0,
                  "United-States_Yugoslavia": 0,
                  "<=50K_<=50K": 1,
                  "<=50K_>50K": 0,
                  "_deepnote_index_column": 1
                },
                {
                  "0": 0,
                  "13": 7,
                  "39": 53,
                  "40": 40,
                  "2174": 0,
                  "77516": 234721,
                  "State-gov_?": 0,
                  "State-gov_Federal-gov": 0,
                  "State-gov_Local-gov": 0,
                  "State-gov_Never-worked": 0,
                  "State-gov_Private": 1,
                  "State-gov_Self-emp-inc": 0,
                  "State-gov_Self-emp-not-inc": 0,
                  "State-gov_State-gov": 0,
                  "State-gov_Without-pay": 0,
                  "Bachelors_10th": 0,
                  "Bachelors_11th": 1,
                  "Bachelors_12th": 0,
                  "Bachelors_1st-4th": 0,
                  "Bachelors_5th-6th": 0,
                  "Bachelors_7th-8th": 0,
                  "Bachelors_9th": 0,
                  "Bachelors_Assoc-acdm": 0,
                  "Bachelors_Assoc-voc": 0,
                  "Bachelors_Bachelors": 0,
                  "Bachelors_Doctorate": 0,
                  "Bachelors_HS-grad": 0,
                  "Bachelors_Masters": 0,
                  "Bachelors_Preschool": 0,
                  "Bachelors_Prof-school": 0,
                  "Bachelors_Some-college": 0,
                  "Never-married_Divorced": 0,
                  "Never-married_Married-AF-spouse": 0,
                  "Never-married_Married-civ-spouse": 1,
                  "Never-married_Married-spouse-absent": 0,
                  "Never-married_Never-married": 0,
                  "Never-married_Separated": 0,
                  "Never-married_Widowed": 0,
                  "Adm-clerical_?": 0,
                  "Adm-clerical_Adm-clerical": 0,
                  "Adm-clerical_Armed-Forces": 0,
                  "Adm-clerical_Craft-repair": 0,
                  "Adm-clerical_Exec-managerial": 0,
                  "Adm-clerical_Farming-fishing": 0,
                  "Adm-clerical_Handlers-cleaners": 1,
                  "Adm-clerical_Machine-op-inspct": 0,
                  "Adm-clerical_Other-service": 0,
                  "Adm-clerical_Priv-house-serv": 0,
                  "Adm-clerical_Prof-specialty": 0,
                  "Adm-clerical_Protective-serv": 0,
                  "Adm-clerical_Sales": 0,
                  "Adm-clerical_Tech-support": 0,
                  "Adm-clerical_Transport-moving": 0,
                  "Not-in-family_Husband": 1,
                  "Not-in-family_Not-in-family": 0,
                  "Not-in-family_Other-relative": 0,
                  "Not-in-family_Own-child": 0,
                  "Not-in-family_Unmarried": 0,
                  "Not-in-family_Wife": 0,
                  "White_Amer-Indian-Eskimo": 0,
                  "White_Asian-Pac-Islander": 0,
                  "White_Black": 1,
                  "White_Other": 0,
                  "White_White": 0,
                  "Male_Female": 0,
                  "Male_Male": 1,
                  "United-States_?": 0,
                  "United-States_Cambodia": 0,
                  "United-States_Canada": 0,
                  "United-States_China": 0,
                  "United-States_Columbia": 0,
                  "United-States_Cuba": 0,
                  "United-States_Dominican-Republic": 0,
                  "United-States_Ecuador": 0,
                  "United-States_El-Salvador": 0,
                  "United-States_England": 0,
                  "United-States_France": 0,
                  "United-States_Germany": 0,
                  "United-States_Greece": 0,
                  "United-States_Guatemala": 0,
                  "United-States_Haiti": 0,
                  "United-States_Holand-Netherlands": 0,
                  "United-States_Honduras": 0,
                  "United-States_Hong": 0,
                  "United-States_Hungary": 0,
                  "United-States_India": 0,
                  "United-States_Iran": 0,
                  "United-States_Ireland": 0,
                  "United-States_Italy": 0,
                  "United-States_Jamaica": 0,
                  "United-States_Japan": 0,
                  "United-States_Laos": 0,
                  "United-States_Mexico": 0,
                  "United-States_Nicaragua": 0,
                  "United-States_Outlying-US(Guam-USVI-etc)": 0,
                  "United-States_Peru": 0,
                  "United-States_Philippines": 0,
                  "United-States_Poland": 0,
                  "United-States_Portugal": 0,
                  "United-States_Puerto-Rico": 0,
                  "United-States_Scotland": 0,
                  "United-States_South": 0,
                  "United-States_Taiwan": 0,
                  "United-States_Thailand": 0,
                  "United-States_Trinadad&Tobago": 0,
                  "United-States_United-States": 1,
                  "United-States_Vietnam": 0,
                  "United-States_Yugoslavia": 0,
                  "<=50K_<=50K": 1,
                  "<=50K_>50K": 0,
                  "_deepnote_index_column": 2
                },
                {
                  "0": 0,
                  "13": 13,
                  "39": 28,
                  "40": 40,
                  "2174": 0,
                  "77516": 338409,
                  "State-gov_?": 0,
                  "State-gov_Federal-gov": 0,
                  "State-gov_Local-gov": 0,
                  "State-gov_Never-worked": 0,
                  "State-gov_Private": 1,
                  "State-gov_Self-emp-inc": 0,
                  "State-gov_Self-emp-not-inc": 0,
                  "State-gov_State-gov": 0,
                  "State-gov_Without-pay": 0,
                  "Bachelors_10th": 0,
                  "Bachelors_11th": 0,
                  "Bachelors_12th": 0,
                  "Bachelors_1st-4th": 0,
                  "Bachelors_5th-6th": 0,
                  "Bachelors_7th-8th": 0,
                  "Bachelors_9th": 0,
                  "Bachelors_Assoc-acdm": 0,
                  "Bachelors_Assoc-voc": 0,
                  "Bachelors_Bachelors": 1,
                  "Bachelors_Doctorate": 0,
                  "Bachelors_HS-grad": 0,
                  "Bachelors_Masters": 0,
                  "Bachelors_Preschool": 0,
                  "Bachelors_Prof-school": 0,
                  "Bachelors_Some-college": 0,
                  "Never-married_Divorced": 0,
                  "Never-married_Married-AF-spouse": 0,
                  "Never-married_Married-civ-spouse": 1,
                  "Never-married_Married-spouse-absent": 0,
                  "Never-married_Never-married": 0,
                  "Never-married_Separated": 0,
                  "Never-married_Widowed": 0,
                  "Adm-clerical_?": 0,
                  "Adm-clerical_Adm-clerical": 0,
                  "Adm-clerical_Armed-Forces": 0,
                  "Adm-clerical_Craft-repair": 0,
                  "Adm-clerical_Exec-managerial": 0,
                  "Adm-clerical_Farming-fishing": 0,
                  "Adm-clerical_Handlers-cleaners": 0,
                  "Adm-clerical_Machine-op-inspct": 0,
                  "Adm-clerical_Other-service": 0,
                  "Adm-clerical_Priv-house-serv": 0,
                  "Adm-clerical_Prof-specialty": 1,
                  "Adm-clerical_Protective-serv": 0,
                  "Adm-clerical_Sales": 0,
                  "Adm-clerical_Tech-support": 0,
                  "Adm-clerical_Transport-moving": 0,
                  "Not-in-family_Husband": 0,
                  "Not-in-family_Not-in-family": 0,
                  "Not-in-family_Other-relative": 0,
                  "Not-in-family_Own-child": 0,
                  "Not-in-family_Unmarried": 0,
                  "Not-in-family_Wife": 1,
                  "White_Amer-Indian-Eskimo": 0,
                  "White_Asian-Pac-Islander": 0,
                  "White_Black": 1,
                  "White_Other": 0,
                  "White_White": 0,
                  "Male_Female": 1,
                  "Male_Male": 0,
                  "United-States_?": 0,
                  "United-States_Cambodia": 0,
                  "United-States_Canada": 0,
                  "United-States_China": 0,
                  "United-States_Columbia": 0,
                  "United-States_Cuba": 1,
                  "United-States_Dominican-Republic": 0,
                  "United-States_Ecuador": 0,
                  "United-States_El-Salvador": 0,
                  "United-States_England": 0,
                  "United-States_France": 0,
                  "United-States_Germany": 0,
                  "United-States_Greece": 0,
                  "United-States_Guatemala": 0,
                  "United-States_Haiti": 0,
                  "United-States_Holand-Netherlands": 0,
                  "United-States_Honduras": 0,
                  "United-States_Hong": 0,
                  "United-States_Hungary": 0,
                  "United-States_India": 0,
                  "United-States_Iran": 0,
                  "United-States_Ireland": 0,
                  "United-States_Italy": 0,
                  "United-States_Jamaica": 0,
                  "United-States_Japan": 0,
                  "United-States_Laos": 0,
                  "United-States_Mexico": 0,
                  "United-States_Nicaragua": 0,
                  "United-States_Outlying-US(Guam-USVI-etc)": 0,
                  "United-States_Peru": 0,
                  "United-States_Philippines": 0,
                  "United-States_Poland": 0,
                  "United-States_Portugal": 0,
                  "United-States_Puerto-Rico": 0,
                  "United-States_Scotland": 0,
                  "United-States_South": 0,
                  "United-States_Taiwan": 0,
                  "United-States_Thailand": 0,
                  "United-States_Trinadad&Tobago": 0,
                  "United-States_United-States": 0,
                  "United-States_Vietnam": 0,
                  "United-States_Yugoslavia": 0,
                  "<=50K_<=50K": 1,
                  "<=50K_>50K": 0,
                  "_deepnote_index_column": 3
                }
              ],
              "rows_bottom": [
                {
                  "0": 0,
                  "13": 13,
                  "39": 39,
                  "40": 36,
                  "2174": 0,
                  "77516": 215419,
                  "State-gov_?": 0,
                  "State-gov_Federal-gov": 0,
                  "State-gov_Local-gov": 0,
                  "State-gov_Never-worked": 0,
                  "State-gov_Private": 1,
                  "State-gov_Self-emp-inc": 0,
                  "State-gov_Self-emp-not-inc": 0,
                  "State-gov_State-gov": 0,
                  "State-gov_Without-pay": 0,
                  "Bachelors_10th": 0,
                  "Bachelors_11th": 0,
                  "Bachelors_12th": 0,
                  "Bachelors_1st-4th": 0,
                  "Bachelors_5th-6th": 0,
                  "Bachelors_7th-8th": 0,
                  "Bachelors_9th": 0,
                  "Bachelors_Assoc-acdm": 0,
                  "Bachelors_Assoc-voc": 0,
                  "Bachelors_Bachelors": 1,
                  "Bachelors_Doctorate": 0,
                  "Bachelors_HS-grad": 0,
                  "Bachelors_Masters": 0,
                  "Bachelors_Preschool": 0,
                  "Bachelors_Prof-school": 0,
                  "Bachelors_Some-college": 0,
                  "Never-married_Divorced": 1,
                  "Never-married_Married-AF-spouse": 0,
                  "Never-married_Married-civ-spouse": 0,
                  "Never-married_Married-spouse-absent": 0,
                  "Never-married_Never-married": 0,
                  "Never-married_Separated": 0,
                  "Never-married_Widowed": 0,
                  "Adm-clerical_?": 0,
                  "Adm-clerical_Adm-clerical": 0,
                  "Adm-clerical_Armed-Forces": 0,
                  "Adm-clerical_Craft-repair": 0,
                  "Adm-clerical_Exec-managerial": 0,
                  "Adm-clerical_Farming-fishing": 0,
                  "Adm-clerical_Handlers-cleaners": 0,
                  "Adm-clerical_Machine-op-inspct": 0,
                  "Adm-clerical_Other-service": 0,
                  "Adm-clerical_Priv-house-serv": 0,
                  "Adm-clerical_Prof-specialty": 1,
                  "Adm-clerical_Protective-serv": 0,
                  "Adm-clerical_Sales": 0,
                  "Adm-clerical_Tech-support": 0,
                  "Adm-clerical_Transport-moving": 0,
                  "Not-in-family_Husband": 0,
                  "Not-in-family_Not-in-family": 1,
                  "Not-in-family_Other-relative": 0,
                  "Not-in-family_Own-child": 0,
                  "Not-in-family_Unmarried": 0,
                  "Not-in-family_Wife": 0,
                  "White_Amer-Indian-Eskimo": 0,
                  "White_Asian-Pac-Islander": 0,
                  "White_Black": 0,
                  "White_Other": 0,
                  "White_White": 1,
                  "Male_Female": 1,
                  "Male_Male": 0,
                  "United-States_?": 0,
                  "United-States_Cambodia": 0,
                  "United-States_Canada": 0,
                  "United-States_China": 0,
                  "United-States_Columbia": 0,
                  "United-States_Cuba": 0,
                  "United-States_Dominican-Republic": 0,
                  "United-States_Ecuador": 0,
                  "United-States_El-Salvador": 0,
                  "United-States_England": 0,
                  "United-States_France": 0,
                  "United-States_Germany": 0,
                  "United-States_Greece": 0,
                  "United-States_Guatemala": 0,
                  "United-States_Haiti": 0,
                  "United-States_Holand-Netherlands": 0,
                  "United-States_Honduras": 0,
                  "United-States_Hong": 0,
                  "United-States_Hungary": 0,
                  "United-States_India": 0,
                  "United-States_Iran": 0,
                  "United-States_Ireland": 0,
                  "United-States_Italy": 0,
                  "United-States_Jamaica": 0,
                  "United-States_Japan": 0,
                  "United-States_Laos": 0,
                  "United-States_Mexico": 0,
                  "United-States_Nicaragua": 0,
                  "United-States_Outlying-US(Guam-USVI-etc)": 0,
                  "United-States_Peru": 0,
                  "United-States_Philippines": 0,
                  "United-States_Poland": 0,
                  "United-States_Portugal": 0,
                  "United-States_Puerto-Rico": 0,
                  "United-States_Scotland": 0,
                  "United-States_South": 0,
                  "United-States_Taiwan": 0,
                  "United-States_Thailand": 0,
                  "United-States_Trinadad&Tobago": 0,
                  "United-States_United-States": 1,
                  "United-States_Vietnam": 0,
                  "United-States_Yugoslavia": 0,
                  "<=50K_<=50K": 1,
                  "<=50K_>50K": 0,
                  "_deepnote_index_column": 48836
                },
                {
                  "0": 0,
                  "13": 9,
                  "39": 64,
                  "40": 40,
                  "2174": 0,
                  "77516": 321403,
                  "State-gov_?": 1,
                  "State-gov_Federal-gov": 0,
                  "State-gov_Local-gov": 0,
                  "State-gov_Never-worked": 0,
                  "State-gov_Private": 0,
                  "State-gov_Self-emp-inc": 0,
                  "State-gov_Self-emp-not-inc": 0,
                  "State-gov_State-gov": 0,
                  "State-gov_Without-pay": 0,
                  "Bachelors_10th": 0,
                  "Bachelors_11th": 0,
                  "Bachelors_12th": 0,
                  "Bachelors_1st-4th": 0,
                  "Bachelors_5th-6th": 0,
                  "Bachelors_7th-8th": 0,
                  "Bachelors_9th": 0,
                  "Bachelors_Assoc-acdm": 0,
                  "Bachelors_Assoc-voc": 0,
                  "Bachelors_Bachelors": 0,
                  "Bachelors_Doctorate": 0,
                  "Bachelors_HS-grad": 1,
                  "Bachelors_Masters": 0,
                  "Bachelors_Preschool": 0,
                  "Bachelors_Prof-school": 0,
                  "Bachelors_Some-college": 0,
                  "Never-married_Divorced": 0,
                  "Never-married_Married-AF-spouse": 0,
                  "Never-married_Married-civ-spouse": 0,
                  "Never-married_Married-spouse-absent": 0,
                  "Never-married_Never-married": 0,
                  "Never-married_Separated": 0,
                  "Never-married_Widowed": 1,
                  "Adm-clerical_?": 1,
                  "Adm-clerical_Adm-clerical": 0,
                  "Adm-clerical_Armed-Forces": 0,
                  "Adm-clerical_Craft-repair": 0,
                  "Adm-clerical_Exec-managerial": 0,
                  "Adm-clerical_Farming-fishing": 0,
                  "Adm-clerical_Handlers-cleaners": 0,
                  "Adm-clerical_Machine-op-inspct": 0,
                  "Adm-clerical_Other-service": 0,
                  "Adm-clerical_Priv-house-serv": 0,
                  "Adm-clerical_Prof-specialty": 0,
                  "Adm-clerical_Protective-serv": 0,
                  "Adm-clerical_Sales": 0,
                  "Adm-clerical_Tech-support": 0,
                  "Adm-clerical_Transport-moving": 0,
                  "Not-in-family_Husband": 0,
                  "Not-in-family_Not-in-family": 0,
                  "Not-in-family_Other-relative": 1,
                  "Not-in-family_Own-child": 0,
                  "Not-in-family_Unmarried": 0,
                  "Not-in-family_Wife": 0,
                  "White_Amer-Indian-Eskimo": 0,
                  "White_Asian-Pac-Islander": 0,
                  "White_Black": 1,
                  "White_Other": 0,
                  "White_White": 0,
                  "Male_Female": 0,
                  "Male_Male": 1,
                  "United-States_?": 0,
                  "United-States_Cambodia": 0,
                  "United-States_Canada": 0,
                  "United-States_China": 0,
                  "United-States_Columbia": 0,
                  "United-States_Cuba": 0,
                  "United-States_Dominican-Republic": 0,
                  "United-States_Ecuador": 0,
                  "United-States_El-Salvador": 0,
                  "United-States_England": 0,
                  "United-States_France": 0,
                  "United-States_Germany": 0,
                  "United-States_Greece": 0,
                  "United-States_Guatemala": 0,
                  "United-States_Haiti": 0,
                  "United-States_Holand-Netherlands": 0,
                  "United-States_Honduras": 0,
                  "United-States_Hong": 0,
                  "United-States_Hungary": 0,
                  "United-States_India": 0,
                  "United-States_Iran": 0,
                  "United-States_Ireland": 0,
                  "United-States_Italy": 0,
                  "United-States_Jamaica": 0,
                  "United-States_Japan": 0,
                  "United-States_Laos": 0,
                  "United-States_Mexico": 0,
                  "United-States_Nicaragua": 0,
                  "United-States_Outlying-US(Guam-USVI-etc)": 0,
                  "United-States_Peru": 0,
                  "United-States_Philippines": 0,
                  "United-States_Poland": 0,
                  "United-States_Portugal": 0,
                  "United-States_Puerto-Rico": 0,
                  "United-States_Scotland": 0,
                  "United-States_South": 0,
                  "United-States_Taiwan": 0,
                  "United-States_Thailand": 0,
                  "United-States_Trinadad&Tobago": 0,
                  "United-States_United-States": 1,
                  "United-States_Vietnam": 0,
                  "United-States_Yugoslavia": 0,
                  "<=50K_<=50K": 1,
                  "<=50K_>50K": 0,
                  "_deepnote_index_column": 48837
                },
                {
                  "0": 0,
                  "13": 13,
                  "39": 38,
                  "40": 50,
                  "2174": 0,
                  "77516": 374983,
                  "State-gov_?": 0,
                  "State-gov_Federal-gov": 0,
                  "State-gov_Local-gov": 0,
                  "State-gov_Never-worked": 0,
                  "State-gov_Private": 1,
                  "State-gov_Self-emp-inc": 0,
                  "State-gov_Self-emp-not-inc": 0,
                  "State-gov_State-gov": 0,
                  "State-gov_Without-pay": 0,
                  "Bachelors_10th": 0,
                  "Bachelors_11th": 0,
                  "Bachelors_12th": 0,
                  "Bachelors_1st-4th": 0,
                  "Bachelors_5th-6th": 0,
                  "Bachelors_7th-8th": 0,
                  "Bachelors_9th": 0,
                  "Bachelors_Assoc-acdm": 0,
                  "Bachelors_Assoc-voc": 0,
                  "Bachelors_Bachelors": 1,
                  "Bachelors_Doctorate": 0,
                  "Bachelors_HS-grad": 0,
                  "Bachelors_Masters": 0,
                  "Bachelors_Preschool": 0,
                  "Bachelors_Prof-school": 0,
                  "Bachelors_Some-college": 0,
                  "Never-married_Divorced": 0,
                  "Never-married_Married-AF-spouse": 0,
                  "Never-married_Married-civ-spouse": 1,
                  "Never-married_Married-spouse-absent": 0,
                  "Never-married_Never-married": 0,
                  "Never-married_Separated": 0,
                  "Never-married_Widowed": 0,
                  "Adm-clerical_?": 0,
                  "Adm-clerical_Adm-clerical": 0,
                  "Adm-clerical_Armed-Forces": 0,
                  "Adm-clerical_Craft-repair": 0,
                  "Adm-clerical_Exec-managerial": 0,
                  "Adm-clerical_Farming-fishing": 0,
                  "Adm-clerical_Handlers-cleaners": 0,
                  "Adm-clerical_Machine-op-inspct": 0,
                  "Adm-clerical_Other-service": 0,
                  "Adm-clerical_Priv-house-serv": 0,
                  "Adm-clerical_Prof-specialty": 1,
                  "Adm-clerical_Protective-serv": 0,
                  "Adm-clerical_Sales": 0,
                  "Adm-clerical_Tech-support": 0,
                  "Adm-clerical_Transport-moving": 0,
                  "Not-in-family_Husband": 1,
                  "Not-in-family_Not-in-family": 0,
                  "Not-in-family_Other-relative": 0,
                  "Not-in-family_Own-child": 0,
                  "Not-in-family_Unmarried": 0,
                  "Not-in-family_Wife": 0,
                  "White_Amer-Indian-Eskimo": 0,
                  "White_Asian-Pac-Islander": 0,
                  "White_Black": 0,
                  "White_Other": 0,
                  "White_White": 1,
                  "Male_Female": 0,
                  "Male_Male": 1,
                  "United-States_?": 0,
                  "United-States_Cambodia": 0,
                  "United-States_Canada": 0,
                  "United-States_China": 0,
                  "United-States_Columbia": 0,
                  "United-States_Cuba": 0,
                  "United-States_Dominican-Republic": 0,
                  "United-States_Ecuador": 0,
                  "United-States_El-Salvador": 0,
                  "United-States_England": 0,
                  "United-States_France": 0,
                  "United-States_Germany": 0,
                  "United-States_Greece": 0,
                  "United-States_Guatemala": 0,
                  "United-States_Haiti": 0,
                  "United-States_Holand-Netherlands": 0,
                  "United-States_Honduras": 0,
                  "United-States_Hong": 0,
                  "United-States_Hungary": 0,
                  "United-States_India": 0,
                  "United-States_Iran": 0,
                  "United-States_Ireland": 0,
                  "United-States_Italy": 0,
                  "United-States_Jamaica": 0,
                  "United-States_Japan": 0,
                  "United-States_Laos": 0,
                  "United-States_Mexico": 0,
                  "United-States_Nicaragua": 0,
                  "United-States_Outlying-US(Guam-USVI-etc)": 0,
                  "United-States_Peru": 0,
                  "United-States_Philippines": 0,
                  "United-States_Poland": 0,
                  "United-States_Portugal": 0,
                  "United-States_Puerto-Rico": 0,
                  "United-States_Scotland": 0,
                  "United-States_South": 0,
                  "United-States_Taiwan": 0,
                  "United-States_Thailand": 0,
                  "United-States_Trinadad&Tobago": 0,
                  "United-States_United-States": 1,
                  "United-States_Vietnam": 0,
                  "United-States_Yugoslavia": 0,
                  "<=50K_<=50K": 1,
                  "<=50K_>50K": 0,
                  "_deepnote_index_column": 48838
                },
                {
                  "0": 0,
                  "13": 13,
                  "39": 44,
                  "40": 40,
                  "2174": 5455,
                  "77516": 83891,
                  "State-gov_?": 0,
                  "State-gov_Federal-gov": 0,
                  "State-gov_Local-gov": 0,
                  "State-gov_Never-worked": 0,
                  "State-gov_Private": 1,
                  "State-gov_Self-emp-inc": 0,
                  "State-gov_Self-emp-not-inc": 0,
                  "State-gov_State-gov": 0,
                  "State-gov_Without-pay": 0,
                  "Bachelors_10th": 0,
                  "Bachelors_11th": 0,
                  "Bachelors_12th": 0,
                  "Bachelors_1st-4th": 0,
                  "Bachelors_5th-6th": 0,
                  "Bachelors_7th-8th": 0,
                  "Bachelors_9th": 0,
                  "Bachelors_Assoc-acdm": 0,
                  "Bachelors_Assoc-voc": 0,
                  "Bachelors_Bachelors": 1,
                  "Bachelors_Doctorate": 0,
                  "Bachelors_HS-grad": 0,
                  "Bachelors_Masters": 0,
                  "Bachelors_Preschool": 0,
                  "Bachelors_Prof-school": 0,
                  "Bachelors_Some-college": 0,
                  "Never-married_Divorced": 1,
                  "Never-married_Married-AF-spouse": 0,
                  "Never-married_Married-civ-spouse": 0,
                  "Never-married_Married-spouse-absent": 0,
                  "Never-married_Never-married": 0,
                  "Never-married_Separated": 0,
                  "Never-married_Widowed": 0,
                  "Adm-clerical_?": 0,
                  "Adm-clerical_Adm-clerical": 1,
                  "Adm-clerical_Armed-Forces": 0,
                  "Adm-clerical_Craft-repair": 0,
                  "Adm-clerical_Exec-managerial": 0,
                  "Adm-clerical_Farming-fishing": 0,
                  "Adm-clerical_Handlers-cleaners": 0,
                  "Adm-clerical_Machine-op-inspct": 0,
                  "Adm-clerical_Other-service": 0,
                  "Adm-clerical_Priv-house-serv": 0,
                  "Adm-clerical_Prof-specialty": 0,
                  "Adm-clerical_Protective-serv": 0,
                  "Adm-clerical_Sales": 0,
                  "Adm-clerical_Tech-support": 0,
                  "Adm-clerical_Transport-moving": 0,
                  "Not-in-family_Husband": 0,
                  "Not-in-family_Not-in-family": 0,
                  "Not-in-family_Other-relative": 0,
                  "Not-in-family_Own-child": 1,
                  "Not-in-family_Unmarried": 0,
                  "Not-in-family_Wife": 0,
                  "White_Amer-Indian-Eskimo": 0,
                  "White_Asian-Pac-Islander": 1,
                  "White_Black": 0,
                  "White_Other": 0,
                  "White_White": 0,
                  "Male_Female": 0,
                  "Male_Male": 1,
                  "United-States_?": 0,
                  "United-States_Cambodia": 0,
                  "United-States_Canada": 0,
                  "United-States_China": 0,
                  "United-States_Columbia": 0,
                  "United-States_Cuba": 0,
                  "United-States_Dominican-Republic": 0,
                  "United-States_Ecuador": 0,
                  "United-States_El-Salvador": 0,
                  "United-States_England": 0,
                  "United-States_France": 0,
                  "United-States_Germany": 0,
                  "United-States_Greece": 0,
                  "United-States_Guatemala": 0,
                  "United-States_Haiti": 0,
                  "United-States_Holand-Netherlands": 0,
                  "United-States_Honduras": 0,
                  "United-States_Hong": 0,
                  "United-States_Hungary": 0,
                  "United-States_India": 0,
                  "United-States_Iran": 0,
                  "United-States_Ireland": 0,
                  "United-States_Italy": 0,
                  "United-States_Jamaica": 0,
                  "United-States_Japan": 0,
                  "United-States_Laos": 0,
                  "United-States_Mexico": 0,
                  "United-States_Nicaragua": 0,
                  "United-States_Outlying-US(Guam-USVI-etc)": 0,
                  "United-States_Peru": 0,
                  "United-States_Philippines": 0,
                  "United-States_Poland": 0,
                  "United-States_Portugal": 0,
                  "United-States_Puerto-Rico": 0,
                  "United-States_Scotland": 0,
                  "United-States_South": 0,
                  "United-States_Taiwan": 0,
                  "United-States_Thailand": 0,
                  "United-States_Trinadad&Tobago": 0,
                  "United-States_United-States": 1,
                  "United-States_Vietnam": 0,
                  "United-States_Yugoslavia": 0,
                  "<=50K_<=50K": 1,
                  "<=50K_>50K": 0,
                  "_deepnote_index_column": 48839
                },
                {
                  "0": 0,
                  "13": 13,
                  "39": 35,
                  "40": 60,
                  "2174": 0,
                  "77516": 182148,
                  "State-gov_?": 0,
                  "State-gov_Federal-gov": 0,
                  "State-gov_Local-gov": 0,
                  "State-gov_Never-worked": 0,
                  "State-gov_Private": 0,
                  "State-gov_Self-emp-inc": 1,
                  "State-gov_Self-emp-not-inc": 0,
                  "State-gov_State-gov": 0,
                  "State-gov_Without-pay": 0,
                  "Bachelors_10th": 0,
                  "Bachelors_11th": 0,
                  "Bachelors_12th": 0,
                  "Bachelors_1st-4th": 0,
                  "Bachelors_5th-6th": 0,
                  "Bachelors_7th-8th": 0,
                  "Bachelors_9th": 0,
                  "Bachelors_Assoc-acdm": 0,
                  "Bachelors_Assoc-voc": 0,
                  "Bachelors_Bachelors": 1,
                  "Bachelors_Doctorate": 0,
                  "Bachelors_HS-grad": 0,
                  "Bachelors_Masters": 0,
                  "Bachelors_Preschool": 0,
                  "Bachelors_Prof-school": 0,
                  "Bachelors_Some-college": 0,
                  "Never-married_Divorced": 0,
                  "Never-married_Married-AF-spouse": 0,
                  "Never-married_Married-civ-spouse": 1,
                  "Never-married_Married-spouse-absent": 0,
                  "Never-married_Never-married": 0,
                  "Never-married_Separated": 0,
                  "Never-married_Widowed": 0,
                  "Adm-clerical_?": 0,
                  "Adm-clerical_Adm-clerical": 0,
                  "Adm-clerical_Armed-Forces": 0,
                  "Adm-clerical_Craft-repair": 0,
                  "Adm-clerical_Exec-managerial": 1,
                  "Adm-clerical_Farming-fishing": 0,
                  "Adm-clerical_Handlers-cleaners": 0,
                  "Adm-clerical_Machine-op-inspct": 0,
                  "Adm-clerical_Other-service": 0,
                  "Adm-clerical_Priv-house-serv": 0,
                  "Adm-clerical_Prof-specialty": 0,
                  "Adm-clerical_Protective-serv": 0,
                  "Adm-clerical_Sales": 0,
                  "Adm-clerical_Tech-support": 0,
                  "Adm-clerical_Transport-moving": 0,
                  "Not-in-family_Husband": 1,
                  "Not-in-family_Not-in-family": 0,
                  "Not-in-family_Other-relative": 0,
                  "Not-in-family_Own-child": 0,
                  "Not-in-family_Unmarried": 0,
                  "Not-in-family_Wife": 0,
                  "White_Amer-Indian-Eskimo": 0,
                  "White_Asian-Pac-Islander": 0,
                  "White_Black": 0,
                  "White_Other": 0,
                  "White_White": 1,
                  "Male_Female": 0,
                  "Male_Male": 1,
                  "United-States_?": 0,
                  "United-States_Cambodia": 0,
                  "United-States_Canada": 0,
                  "United-States_China": 0,
                  "United-States_Columbia": 0,
                  "United-States_Cuba": 0,
                  "United-States_Dominican-Republic": 0,
                  "United-States_Ecuador": 0,
                  "United-States_El-Salvador": 0,
                  "United-States_England": 0,
                  "United-States_France": 0,
                  "United-States_Germany": 0,
                  "United-States_Greece": 0,
                  "United-States_Guatemala": 0,
                  "United-States_Haiti": 0,
                  "United-States_Holand-Netherlands": 0,
                  "United-States_Honduras": 0,
                  "United-States_Hong": 0,
                  "United-States_Hungary": 0,
                  "United-States_India": 0,
                  "United-States_Iran": 0,
                  "United-States_Ireland": 0,
                  "United-States_Italy": 0,
                  "United-States_Jamaica": 0,
                  "United-States_Japan": 0,
                  "United-States_Laos": 0,
                  "United-States_Mexico": 0,
                  "United-States_Nicaragua": 0,
                  "United-States_Outlying-US(Guam-USVI-etc)": 0,
                  "United-States_Peru": 0,
                  "United-States_Philippines": 0,
                  "United-States_Poland": 0,
                  "United-States_Portugal": 0,
                  "United-States_Puerto-Rico": 0,
                  "United-States_Scotland": 0,
                  "United-States_South": 0,
                  "United-States_Taiwan": 0,
                  "United-States_Thailand": 0,
                  "United-States_Trinadad&Tobago": 0,
                  "United-States_United-States": 1,
                  "United-States_Vietnam": 0,
                  "United-States_Yugoslavia": 0,
                  "<=50K_<=50K": 0,
                  "<=50K_>50K": 1,
                  "_deepnote_index_column": 48840
                }
              ]
            },
            "text/plain": "       39   77516  13  2174  0  40  State-gov_?  State-gov_Federal-gov  \\\n0      50   83311  13     0  0  13            0                      0   \n1      38  215646   9     0  0  40            0                      0   \n2      53  234721   7     0  0  40            0                      0   \n3      28  338409  13     0  0  40            0                      0   \n4      37  284582  14     0  0  40            0                      0   \n...    ..     ...  ..   ... ..  ..          ...                    ...   \n48836  39  215419  13     0  0  36            0                      0   \n48837  64  321403   9     0  0  40            1                      0   \n48838  38  374983  13     0  0  50            0                      0   \n48839  44   83891  13  5455  0  40            0                      0   \n48840  35  182148  13     0  0  60            0                      0   \n\n       State-gov_Local-gov  State-gov_Never-worked  ...  \\\n0                        0                       0  ...   \n1                        0                       0  ...   \n2                        0                       0  ...   \n3                        0                       0  ...   \n4                        0                       0  ...   \n...                    ...                     ...  ...   \n48836                    0                       0  ...   \n48837                    0                       0  ...   \n48838                    0                       0  ...   \n48839                    0                       0  ...   \n48840                    0                       0  ...   \n\n       United-States_Scotland  United-States_South  United-States_Taiwan  \\\n0                           0                    0                     0   \n1                           0                    0                     0   \n2                           0                    0                     0   \n3                           0                    0                     0   \n4                           0                    0                     0   \n...                       ...                  ...                   ...   \n48836                       0                    0                     0   \n48837                       0                    0                     0   \n48838                       0                    0                     0   \n48839                       0                    0                     0   \n48840                       0                    0                     0   \n\n       United-States_Thailand  United-States_Trinadad&Tobago  \\\n0                           0                              0   \n1                           0                              0   \n2                           0                              0   \n3                           0                              0   \n4                           0                              0   \n...                       ...                            ...   \n48836                       0                              0   \n48837                       0                              0   \n48838                       0                              0   \n48839                       0                              0   \n48840                       0                              0   \n\n       United-States_United-States  United-States_Vietnam  \\\n0                                1                      0   \n1                                1                      0   \n2                                1                      0   \n3                                0                      0   \n4                                1                      0   \n...                            ...                    ...   \n48836                            1                      0   \n48837                            1                      0   \n48838                            1                      0   \n48839                            1                      0   \n48840                            1                      0   \n\n       United-States_Yugoslavia  <=50K_<=50K  <=50K_>50K  \n0                             0            1           0  \n1                             0            1           0  \n2                             0            1           0  \n3                             0            1           0  \n4                             0            1           0  \n...                         ...          ...         ...  \n48836                         0            1           0  \n48837                         0            1           0  \n48838                         0            1           0  \n48839                         0            1           0  \n48840                         0            0           1  \n\n[48841 rows x 110 columns]",
            "text/html": "<div>\n<style scoped>\n    .dataframe tbody tr th:only-of-type {\n        vertical-align: middle;\n    }\n\n    .dataframe tbody tr th {\n        vertical-align: top;\n    }\n\n    .dataframe thead th {\n        text-align: right;\n    }\n</style>\n<table border=\"1\" class=\"dataframe\">\n  <thead>\n    <tr style=\"text-align: right;\">\n      <th></th>\n      <th>39</th>\n      <th>77516</th>\n      <th>13</th>\n      <th>2174</th>\n      <th>0</th>\n      <th>40</th>\n      <th>State-gov_?</th>\n      <th>State-gov_Federal-gov</th>\n      <th>State-gov_Local-gov</th>\n      <th>State-gov_Never-worked</th>\n      <th>...</th>\n      <th>United-States_Scotland</th>\n      <th>United-States_South</th>\n      <th>United-States_Taiwan</th>\n      <th>United-States_Thailand</th>\n      <th>United-States_Trinadad&amp;Tobago</th>\n      <th>United-States_United-States</th>\n      <th>United-States_Vietnam</th>\n      <th>United-States_Yugoslavia</th>\n      <th>&lt;=50K_&lt;=50K</th>\n      <th>&lt;=50K_&gt;50K</th>\n    </tr>\n  </thead>\n  <tbody>\n    <tr>\n      <th>0</th>\n      <td>50</td>\n      <td>83311</td>\n      <td>13</td>\n      <td>0</td>\n      <td>0</td>\n      <td>13</td>\n      <td>0</td>\n      <td>0</td>\n      <td>0</td>\n      <td>0</td>\n      <td>...</td>\n      <td>0</td>\n      <td>0</td>\n      <td>0</td>\n      <td>0</td>\n      <td>0</td>\n      <td>1</td>\n      <td>0</td>\n      <td>0</td>\n      <td>1</td>\n      <td>0</td>\n    </tr>\n    <tr>\n      <th>1</th>\n      <td>38</td>\n      <td>215646</td>\n      <td>9</td>\n      <td>0</td>\n      <td>0</td>\n      <td>40</td>\n      <td>0</td>\n      <td>0</td>\n      <td>0</td>\n      <td>0</td>\n      <td>...</td>\n      <td>0</td>\n      <td>0</td>\n      <td>0</td>\n      <td>0</td>\n      <td>0</td>\n      <td>1</td>\n      <td>0</td>\n      <td>0</td>\n      <td>1</td>\n      <td>0</td>\n    </tr>\n    <tr>\n      <th>2</th>\n      <td>53</td>\n      <td>234721</td>\n      <td>7</td>\n      <td>0</td>\n      <td>0</td>\n      <td>40</td>\n      <td>0</td>\n      <td>0</td>\n      <td>0</td>\n      <td>0</td>\n      <td>...</td>\n      <td>0</td>\n      <td>0</td>\n      <td>0</td>\n      <td>0</td>\n      <td>0</td>\n      <td>1</td>\n      <td>0</td>\n      <td>0</td>\n      <td>1</td>\n      <td>0</td>\n    </tr>\n    <tr>\n      <th>3</th>\n      <td>28</td>\n      <td>338409</td>\n      <td>13</td>\n      <td>0</td>\n      <td>0</td>\n      <td>40</td>\n      <td>0</td>\n      <td>0</td>\n      <td>0</td>\n      <td>0</td>\n      <td>...</td>\n      <td>0</td>\n      <td>0</td>\n      <td>0</td>\n      <td>0</td>\n      <td>0</td>\n      <td>0</td>\n      <td>0</td>\n      <td>0</td>\n      <td>1</td>\n      <td>0</td>\n    </tr>\n    <tr>\n      <th>4</th>\n      <td>37</td>\n      <td>284582</td>\n      <td>14</td>\n      <td>0</td>\n      <td>0</td>\n      <td>40</td>\n      <td>0</td>\n      <td>0</td>\n      <td>0</td>\n      <td>0</td>\n      <td>...</td>\n      <td>0</td>\n      <td>0</td>\n      <td>0</td>\n      <td>0</td>\n      <td>0</td>\n      <td>1</td>\n      <td>0</td>\n      <td>0</td>\n      <td>1</td>\n      <td>0</td>\n    </tr>\n    <tr>\n      <th>...</th>\n      <td>...</td>\n      <td>...</td>\n      <td>...</td>\n      <td>...</td>\n      <td>...</td>\n      <td>...</td>\n      <td>...</td>\n      <td>...</td>\n      <td>...</td>\n      <td>...</td>\n      <td>...</td>\n      <td>...</td>\n      <td>...</td>\n      <td>...</td>\n      <td>...</td>\n      <td>...</td>\n      <td>...</td>\n      <td>...</td>\n      <td>...</td>\n      <td>...</td>\n      <td>...</td>\n    </tr>\n    <tr>\n      <th>48836</th>\n      <td>39</td>\n      <td>215419</td>\n      <td>13</td>\n      <td>0</td>\n      <td>0</td>\n      <td>36</td>\n      <td>0</td>\n      <td>0</td>\n      <td>0</td>\n      <td>0</td>\n      <td>...</td>\n      <td>0</td>\n      <td>0</td>\n      <td>0</td>\n      <td>0</td>\n      <td>0</td>\n      <td>1</td>\n      <td>0</td>\n      <td>0</td>\n      <td>1</td>\n      <td>0</td>\n    </tr>\n    <tr>\n      <th>48837</th>\n      <td>64</td>\n      <td>321403</td>\n      <td>9</td>\n      <td>0</td>\n      <td>0</td>\n      <td>40</td>\n      <td>1</td>\n      <td>0</td>\n      <td>0</td>\n      <td>0</td>\n      <td>...</td>\n      <td>0</td>\n      <td>0</td>\n      <td>0</td>\n      <td>0</td>\n      <td>0</td>\n      <td>1</td>\n      <td>0</td>\n      <td>0</td>\n      <td>1</td>\n      <td>0</td>\n    </tr>\n    <tr>\n      <th>48838</th>\n      <td>38</td>\n      <td>374983</td>\n      <td>13</td>\n      <td>0</td>\n      <td>0</td>\n      <td>50</td>\n      <td>0</td>\n      <td>0</td>\n      <td>0</td>\n      <td>0</td>\n      <td>...</td>\n      <td>0</td>\n      <td>0</td>\n      <td>0</td>\n      <td>0</td>\n      <td>0</td>\n      <td>1</td>\n      <td>0</td>\n      <td>0</td>\n      <td>1</td>\n      <td>0</td>\n    </tr>\n    <tr>\n      <th>48839</th>\n      <td>44</td>\n      <td>83891</td>\n      <td>13</td>\n      <td>5455</td>\n      <td>0</td>\n      <td>40</td>\n      <td>0</td>\n      <td>0</td>\n      <td>0</td>\n      <td>0</td>\n      <td>...</td>\n      <td>0</td>\n      <td>0</td>\n      <td>0</td>\n      <td>0</td>\n      <td>0</td>\n      <td>1</td>\n      <td>0</td>\n      <td>0</td>\n      <td>1</td>\n      <td>0</td>\n    </tr>\n    <tr>\n      <th>48840</th>\n      <td>35</td>\n      <td>182148</td>\n      <td>13</td>\n      <td>0</td>\n      <td>0</td>\n      <td>60</td>\n      <td>0</td>\n      <td>0</td>\n      <td>0</td>\n      <td>0</td>\n      <td>...</td>\n      <td>0</td>\n      <td>0</td>\n      <td>0</td>\n      <td>0</td>\n      <td>0</td>\n      <td>1</td>\n      <td>0</td>\n      <td>0</td>\n      <td>0</td>\n      <td>1</td>\n    </tr>\n  </tbody>\n</table>\n<p>48841 rows × 110 columns</p>\n</div>"
          },
          "metadata": {}
        }
      ]
    },
    {
      "cell_type": "code",
      "metadata": {
        "tags": [],
        "cell_id": "00037-e33f1dd5-95bb-4385-8095-b4ca22269ff1",
        "deepnote_to_be_reexecuted": false,
        "source_hash": "93baeca7",
        "execution_millis": 160,
        "execution_start": 1619365636422,
        "deepnote_cell_type": "code"
      },
      "source": "# Now some scalling\nscaled_AI_dummified = StandardScaler().fit_transform(AI_dummified)",
      "execution_count": null,
      "outputs": []
    },
    {
      "cell_type": "code",
      "metadata": {
        "tags": [],
        "cell_id": "00036-ae9049bf-e2de-49dd-b770-4e82f9f5a05d",
        "deepnote_to_be_reexecuted": false,
        "source_hash": "ddc1ba3a",
        "execution_millis": 38553,
        "execution_start": 1619366191168,
        "deepnote_cell_type": "code"
      },
      "source": "# Truth time!\nkmeans = KMeans(random_state=42)\nskplt.cluster.plot_elbow_curve(kmeans,\n                                X = scaled_AI_dummified,\n                                title='Elbow method | Adult dataset dummified',\n                                cluster_ranges=range(1, 10),\n                                show_cluster_time=True,\n                                figsize=(10,10))\nplt.show()",
      "execution_count": null,
      "outputs": [
        {
          "data": {
            "text/plain": "<Figure size 720x720 with 2 Axes>",
            "image/png": "[encoded data removed]"
          },
          "metadata": {
            "needs_background": "light"
          },
          "output_type": "display_data"
        }
      ]
    },
    {
      "cell_type": "markdown",
      "source": "Now we're going to make Umap work on the scaled dataset, run elbow method and then compare results",
      "metadata": {
        "tags": [],
        "cell_id": "00021-e60b9b8f-f51d-47f5-8893-2e4fb43f1a0a",
        "deepnote_cell_type": "markdown"
      }
    },
    {
      "cell_type": "code",
      "metadata": {
        "tags": [],
        "cell_id": "00037-66924c9e-aead-45c2-bd31-9456a68da802",
        "deepnote_to_be_reexecuted": false,
        "source_hash": "543f34d7",
        "execution_millis": 72662,
        "execution_start": 1619366229785,
        "deepnote_cell_type": "code"
      },
      "source": "# You can check the docs for proper use, but a vanilla one might be usefull to understand the impact and make a first impression\nreducer = umap.UMAP() # Instanciate vainilla Umap\nembedding = reducer.fit_transform(scaled_AI_dummified) # make the transformation\nprint(embedding) # Check that we get an array of two features",
      "execution_count": null,
      "outputs": [
        {
          "name": "stderr",
          "text": "/shared-libs/python3.7/py/lib/python3.7/site-packages/sklearn/manifold/_spectral_embedding.py:245: UserWarning: Graph is not fully connected, spectral embedding may not work as expected.\n  warnings.warn(\"Graph is not fully connected, spectral embedding\"\n[[  5.0279236  14.809678 ]\n [  2.8079588 -11.938696 ]\n [  9.510496   11.114416 ]\n ...\n [ 13.073996   -1.911268 ]\n [  2.280577    3.7408798]\n [ -1.0213417   4.686391 ]]\n",
          "output_type": "stream"
        }
      ]
    },
    {
      "cell_type": "code",
      "metadata": {
        "tags": [],
        "cell_id": "00041-c6d942e0-6f83-4361-945b-6a9053d7b580",
        "deepnote_to_be_reexecuted": false,
        "source_hash": "a47cf77e",
        "execution_millis": 6504,
        "execution_start": 1619366302446,
        "deepnote_cell_type": "code"
      },
      "source": "# Back with \nkmeans_umap = KMeans(random_state=42)\nskplt.cluster.plot_elbow_curve(kmeans_umap,\n                                X = embedding,\n                                title='Elbow method | Adult dataset dummified with Umap',\n                                cluster_ranges=range(1, 10),\n                                show_cluster_time=True,\n                                figsize= (10, 10))\nplt.show()",
      "execution_count": null,
      "outputs": [
        {
          "data": {
            "text/plain": "<Figure size 720x720 with 2 Axes>",
            "image/png": "[encoded data removed]"
          },
          "metadata": {
            "needs_background": "light"
          },
          "output_type": "display_data"
        }
      ]
    },
    {
      "cell_type": "markdown",
      "source": "On plain sight we can see that the SSE has nicely droped, good start!",
      "metadata": {
        "tags": [],
        "cell_id": "00024-c2f96b80-1213-4aac-a12d-2060bdeecffb",
        "deepnote_cell_type": "markdown"
      }
    },
    {
      "cell_type": "code",
      "metadata": {
        "tags": [],
        "cell_id": "00042-17755af6-51eb-4536-baf0-81aa25823bd8",
        "deepnote_to_be_reexecuted": false,
        "source_hash": "f7d4582b",
        "execution_millis": 97935,
        "execution_start": 1619368489433,
        "deepnote_cell_type": "code"
      },
      "source": "# We're going to try to get our 4 clusters\nkmeans_adult = KMeans(n_clusters=4, random_state=42)\n\nkmeans_adult.fit(scaled_AI_dummified)\n\nskplt.metrics.plot_silhouette(scaled_AI_dummified,\n                                kmeans_adult.labels_,\n                                title='Silhouette score per cluster | Adult dataset dummified',\n                                figsize=(12,8))\nplt.show()",
      "execution_count": null,
      "outputs": [
        {
          "data": {
            "text/plain": "<Figure size 720x720 with 1 Axes>",
            "image/png": "[encoded data removed]"
          },
          "metadata": {
            "needs_background": "light"
          },
          "output_type": "display_data"
        }
      ]
    },
    {
      "cell_type": "code",
      "metadata": {
        "tags": [],
        "cell_id": "00045-b52c44ba-d73d-40fc-9164-0c92a082c310",
        "deepnote_to_be_reexecuted": false,
        "source_hash": "98ef6279",
        "execution_millis": 103335,
        "execution_start": 1619368604909,
        "deepnote_cell_type": "code"
      },
      "source": "# We're going to try to get our 4 clusters\nkmeans_adult_umap = KMeans(n_clusters=4, random_state=42)\n\nkmeans_adult_umap.fit(embedding)\n\nskplt.metrics.plot_silhouette(embedding,\n                                kmeans_adult_umap.labels_,\n                                title='Silhouette score per cluster | Adult dataset dummified with Umap',\n                                figsize=(12,8))\nplt.show()",
      "execution_count": null,
      "outputs": [
        {
          "data": {
            "text/plain": "<Figure size 720x720 with 1 Axes>",
            "image/png": "[encoded data removed]"
          },
          "metadata": {
            "needs_background": "light"
          },
          "output_type": "display_data"
        }
      ]
    },
    {
      "cell_type": "markdown",
      "source": "#### Conclusions:\n0. Nice __alternative__ to PCA or SVD, there no silver bullet! use with caution!\n1. When you have many instances (more than 100.000 in my experience) It might not be suitable in __compute time terms.__\n",
      "metadata": {
        "tags": [],
        "cell_id": "00027-f554be4f-8a69-4981-b229-6fbd9f1661ff",
        "deepnote_cell_type": "markdown"
      }
    },
    {
      "cell_type": "markdown",
      "source": "## Interpretation of clusters with Skope Rules",
      "metadata": {
        "tags": [],
        "cell_id": "00032-53b93e4c-0f32-4c63-9f01-918cf4493353",
        "deepnote_cell_type": "markdown"
      }
    },
    {
      "cell_type": "markdown",
      "source": "Interpretability It's perhaps the philospher's stone in machine learning. We all want to __understand, validate and extract knowledge__ from these(sometimes) almost eery precise algorithms. The thing is perhaps more needed when you don't have labels and have good metrics implying that _the algorithm has discovered things_ that you can't corroborate with a ground truth.\n\nSo, here we are, getting (aparently) awesome results and needing to distill them to human/business lenguage. One alternative It's comparing the statistics from each cluster and try to get insights from there. Another one is recurring to [Skope Rules](https://github.com/scikit-learn-contrib/skope-rules) and rock the hell out of those insights. 👨‍💻\n\nThe main idea is create a 1 vs all class concept for each cluster (i.e.: cluster n It's our first candidate, so we make all It's instances our positive class and assign the negative one to all the others) and then learn rules to split these classes with a classifier. All these steps are inscribing this technique as a _surrogate model_ interpretability one, meaning that we're creating a model over the results of another one but this new model has some degree of interpretability. Specifically this library shines because It delivers rules that are easily interpretable by humans.\n\nThere's some fine tuning over the process of creating rules that we're not gonna cover, read the docs! 🧬",
      "metadata": {
        "tags": [],
        "cell_id": "00030-7fe92044-7bd0-4aa0-a8d8-98d78f8c86cb",
        "deepnote_cell_type": "markdown"
      }
    },
    {
      "cell_type": "code",
      "metadata": {
        "tags": [],
        "cell_id": "00034-dea4070c-ab4a-4dab-8964-8068ea760372",
        "deepnote_to_be_reexecuted": false,
        "source_hash": "d2bc761",
        "execution_start": 1619373853064,
        "execution_millis": 51,
        "deepnote_cell_type": "code"
      },
      "source": "import six\nimport sys\nsys.modules['sklearn.externals.six'] = six\nfrom skrules import SkopeRules\nfrom sklearn.model_selection import train_test_split",
      "execution_count": null,
      "outputs": []
    },
    {
      "cell_type": "markdown",
      "source": "Buckle up! It's a long loop",
      "metadata": {
        "tags": [],
        "cell_id": "00032-583b9c67-4b7a-4687-9e62-dd64d6a41141",
        "deepnote_cell_type": "markdown"
      }
    },
    {
      "cell_type": "code",
      "metadata": {
        "tags": [],
        "cell_id": "00036-f98bdb56-1ad7-4454-9351-77023c65ad49",
        "deepnote_to_be_reexecuted": false,
        "source_hash": "45fe986b",
        "execution_millis": 1348,
        "execution_start": 1619374299873,
        "deepnote_cell_type": "code"
      },
      "source": "\nfor i_cluster in range(4): # As we said, one classifier for each cluster\n    X = drawn_data[['x', 'y']] # The data\n    y = (cool_kmeans.labels_==i_cluster)*1 # The labels that we're going to use\n    \n    X_train, X_test, y_train, y_test = train_test_split(X, y, random_state=42, stratify= y)  # We split the data stratified by the cluster and we could even cross validate but not today\n    \n    skope_rules_clf = SkopeRules(feature_names=drawn_data[['x', 'y']].columns, # To get the rule in understable terms we could rename them but not today\n                                    random_state=42)\n\n    skope_rules_clf.fit(X_train, y_train) # We fit the rules creator\n    \n    print('Cluster '+str(i_cluster)+':') # To order results we're printing a \"header\"\n    \n    print(skope_rules_clf.rules_[0][0]) # The data structure It's a little messy to just print it so we're accesing the first rule here\n    \n    print('Precision {:.2f}'.format(skope_rules_clf.rules_[0][1][0])) # And here we're accesing the Precision for the first rule\n    \n    skplt.metrics.plot_confusion_matrix(y_test, skope_rules_clf.predict(X_test)) # Look who's back! Scikit plot!\n\n    plt.show()",
      "execution_count": null,
      "outputs": [
        {
          "name": "stdout",
          "text": "Cluster 0:\nx > 394.18170166015625 and y <= 336.0565185546875\nPrecision 1.00\n",
          "output_type": "stream"
        },
        {
          "data": {
            "text/plain": "<Figure size 432x288 with 2 Axes>",
            "image/png": "[encoded data removed]"
          },
          "metadata": {
            "needs_background": "light"
          },
          "output_type": "display_data"
        },
        {
          "name": "stdout",
          "text": "Cluster 1:\nx <= 370.08984375 and y > 274.6092987060547\nPrecision 1.00\n",
          "output_type": "stream"
        },
        {
          "data": {
            "text/plain": "<Figure size 432x288 with 2 Axes>",
            "image/png": "[encoded data removed]"
          },
          "metadata": {
            "needs_background": "light"
          },
          "output_type": "display_data"
        },
        {
          "name": "stdout",
          "text": "Cluster 2:\nx <= 400.8885955810547 and y <= 273.58441162109375\nPrecision 1.00\n",
          "output_type": "stream"
        },
        {
          "data": {
            "text/plain": "<Figure size 432x288 with 2 Axes>",
            "image/png": "[encoded data removed]"
          },
          "metadata": {
            "needs_background": "light"
          },
          "output_type": "display_data"
        },
        {
          "name": "stdout",
          "text": "Cluster 3:\nx > 393.2020568847656 and y > 413.2594451904297\nPrecision 1.00\n",
          "output_type": "stream"
        },
        {
          "data": {
            "text/plain": "<Figure size 432x288 with 2 Axes>",
            "image/png": "[encoded data removed]"
          },
          "metadata": {
            "needs_background": "light"
          },
          "output_type": "display_data"
        }
      ]
    },
    {
      "cell_type": "markdown",
      "source": "#### Conclusions:\n0. Simplifies in an elegant way (the 1 vs all class classification with trees) a complex analysis\n1. It might show better results with some tuning, It's important to keep in mind the __human/business sense of these rules__ (are they relevant? do they make sense?)\n2. It's __not totally ready for non-technical users__ because you should interpret the precision and recall regarding each rule\n",
      "metadata": {
        "tags": [],
        "cell_id": "00033-35f6837a-e556-4fe2-9bdd-9f11e1b00201",
        "deepnote_cell_type": "markdown"
      }
    },
    {
      "cell_type": "markdown",
      "source": "## For times when the dataset keeps growing and your resources stay the same you call Faiss 🧪\n\nThere's a decent chance that at some point you run a cluster over a gigantic dataset for the hardware available. Even considering the speed of Kmeans (It's FAST, without a doubt) you'll be waiting from minutes to hours to get a result. As you probably know the speed It's not about saving time just because we want to, It's mainly based on the premise that running multiple experiments It's good for the final model. If you try 50 diferents approaches you'll have more chances of nailling it than trying just 1 of them and hope for the best.\n\nSo if you are with a massive but not as massive dataset that you need big data guns you really should give it a shot with [Faiss](https://github.com/facebookresearch/faiss). This library has many tricks to be increible fast computing so even with the CPU version shows a dramatic improvement over the times of Kmeans, picture it with GPU!!\n\nWe're running a small experiment ⏱ to test the time and results in the same dataset. You'll see that we don't compute Silhouette for the entire datast but for a sample, this is because Silhouette it's expensive so we'll trust these results. Also we'll be using Adjusted mutual information score, a metric that evaluates the overlaping of instances in the labels. This metric It's zero when the groups do not overlap at all and It's one when the labeling It's correct. An important point It's that the labels can be named different (for example in our drawn data we had clusters with letters and kmeans returns numbers), so we can check the similarity in the labels generated by each algorithm.",
      "metadata": {
        "tags": [],
        "cell_id": "00035-956c5185-4ad1-447e-8a91-db47131cba3e",
        "deepnote_cell_type": "markdown"
      }
    },
    {
      "cell_type": "markdown",
      "source": "### 2nd bonus: Dockerfile to run Faiss-CPU in Deepnote\nOkay, now we're going to make yet another proper use of Deepnote's features and we'll use a Dockerfile to install Anaconda (needed to proper install Faiss). A Dockerfile allows you to use a totally diferent environment and It's really usefull to ensure that libraries and dependencies are properly installed and that they won't raise errors (well, that's wishful thinking perhaps) when you have a productive model.\n\nTo change the Dockerfile you just need the Dockerfile or the code and then just set the options to aim to the file. Just look the gif:\n![alt text](/pics/Dockerfile.gif)",
      "metadata": {
        "tags": [],
        "cell_id": "00037-dd5e0602-a185-44ab-b520-b4483a0fa602",
        "deepnote_cell_type": "markdown"
      }
    },
    {
      "cell_type": "code",
      "metadata": {
        "tags": [],
        "cell_id": "00038-418022a8-2850-40cd-8f5a-b028565927ee",
        "deepnote_to_be_reexecuted": false,
        "source_hash": "e8c03ff",
        "execution_millis": 2,
        "execution_start": 1619392504993,
        "deepnote_cell_type": "code"
      },
      "source": "import faiss\nimport numpy as np\nfrom sklearn.datasets import make_blobs\nfrom sklearn.metrics import silhouette_score, adjusted_mutual_info_score\nfrom sklearn.cluster import KMeans",
      "execution_count": null,
      "outputs": []
    },
    {
      "cell_type": "code",
      "metadata": {
        "tags": [],
        "cell_id": "00060-930f96a9-40be-4a3a-971d-14d2fe1a05fc",
        "deepnote_to_be_reexecuted": false,
        "source_hash": "9784a7ac",
        "execution_millis": 643,
        "execution_start": 1619390191809,
        "deepnote_cell_type": "code"
      },
      "source": "# This is to solve a semi-bug that slow Faiss down in a dramatic way, you can read more in https://github.com/facebookresearch/faiss/issues/53\n!OMP_WAIT_POLICY=PASSIVE",
      "execution_count": null,
      "outputs": []
    },
    {
      "cell_type": "code",
      "metadata": {
        "tags": [],
        "cell_id": "00039-76b87445-6816-426b-8d62-656d367b6000",
        "deepnote_to_be_reexecuted": false,
        "source_hash": "1dd94ef8",
        "execution_millis": 3,
        "execution_start": 1619390194152,
        "deepnote_cell_type": "code"
      },
      "source": "class FaissKMeans:\n    def __init__(self, n_clusters=4, n_init=1000, max_iter=300, random_state=42):\n        self.n_clusters = n_clusters\n        self.n_init = n_init\n        self.max_iter = max_iter\n        self.seed = random_state\n        self.kmeans = None\n        self.cluster_centers_ = None\n        self.inertia_ = None\n\n    def fit(self, X):\n        self.kmeans = faiss.Kmeans(d=X.shape[1],\n                                   k=self.n_clusters,\n                                   niter=self.max_iter,\n                                   nredo=self.n_init,\n                                   seed=self.seed)\n        self.kmeans.train(X.astype(np.float32))\n        self.cluster_centers_ = self.kmeans.centroids\n        self.inertia_ = self.kmeans.obj[-1]\n        self.labels_ = self.kmeans.index.search(X.astype(np.float32), 1)[1].reshape(-1,)\n\n    def predict(self, X):\n        return self.kmeans.index.search(X.astype(np.float32), 1)[1]",
      "execution_count": null,
      "outputs": []
    },
    {
      "cell_type": "code",
      "metadata": {
        "tags": [],
        "cell_id": "00040-2646e294-9905-41ba-8888-70091d6d11d1",
        "deepnote_to_be_reexecuted": false,
        "source_hash": "de68ea65",
        "execution_millis": 3686,
        "execution_start": 1619390196407,
        "deepnote_cell_type": "code"
      },
      "source": "X, y = make_blobs(n_samples=2000000, centers=8, n_features=30,\n                  random_state=42)",
      "execution_count": null,
      "outputs": []
    },
    {
      "cell_type": "code",
      "metadata": {
        "tags": [],
        "cell_id": "00041-123cd592-c7c6-46b8-b5cd-81e29101341f",
        "deepnote_to_be_reexecuted": false,
        "source_hash": "e120974a",
        "execution_millis": 47061,
        "execution_start": 1619390200098,
        "deepnote_cell_type": "code"
      },
      "source": "%%time\nff = FaissKMeans()\nff.fit(X)",
      "execution_count": null,
      "outputs": [
        {
          "name": "stdout",
          "text": "CPU times: user 1min 9s, sys: 468 ms, total: 1min 9s\nWall time: 47 s\n",
          "output_type": "stream"
        }
      ]
    },
    {
      "cell_type": "code",
      "metadata": {
        "tags": [],
        "cell_id": "00043-dd3c36bf-bdba-4c3c-9589-f19839224435",
        "deepnote_to_be_reexecuted": false,
        "source_hash": "fcbe8618",
        "execution_millis": 18240,
        "execution_start": 1619392657139,
        "deepnote_cell_type": "code"
      },
      "source": "%%time\nprint('Silhouette Score with 40.000 samples: {:.3f}'.format(silhouette_score(X, ff.labels_, sample_size=40000, random_state=42)))\nprint('Adjusted Mutual Information Score: {:.3f}'.format(adjusted_mutual_info_score(ff.labels_, y)))",
      "execution_count": null,
      "outputs": [
        {
          "name": "stdout",
          "text": "Silhouette Score with 40.000 samples: 0.456\nAdjusted Mutual Information Score: 0.737\nCPU times: user 15.9 s, sys: 2.34 s, total: 18.2 s\nWall time: 18.2 s\n",
          "output_type": "stream"
        }
      ]
    },
    {
      "cell_type": "code",
      "metadata": {
        "tags": [],
        "cell_id": "00044-71aa3697-5033-4868-bb42-4e588d4a8767",
        "deepnote_to_be_reexecuted": false,
        "source_hash": "8efd65a8",
        "execution_millis": 1597590,
        "execution_start": 1619390268290,
        "deepnote_cell_type": "code"
      },
      "source": "%%time\nkm = KMeans(random_state=42, n_clusters=4, n_init=1000, max_iter=300)\nkm.fit(X)",
      "execution_count": null,
      "outputs": [
        {
          "name": "stdout",
          "text": "CPU times: user 31min 46s, sys: 1min 22s, total: 33min 8s\nWall time: 26min 37s\n",
          "output_type": "stream"
        },
        {
          "output_type": "execute_result",
          "execution_count": 7,
          "data": {
            "text/plain": "KMeans(n_clusters=4, n_init=1000, random_state=42)"
          },
          "metadata": {}
        }
      ]
    },
    {
      "cell_type": "code",
      "metadata": {
        "tags": [],
        "cell_id": "00046-0da0f27f-5a95-4ef0-be96-fbd24bfd256c",
        "deepnote_to_be_reexecuted": false,
        "source_hash": "bcf67742",
        "execution_start": 1619392675385,
        "execution_millis": 18131,
        "deepnote_cell_type": "code"
      },
      "source": "%%time\nprint('Silhouette Score with 40.000 samples: {:.3f}'.format(silhouette_score(X, km.labels_, sample_size=40000, random_state=42)))\nprint('Adjusted Mutual Information Score: {:.3f}'.format(adjusted_mutual_info_score(km.labels_, y)))",
      "execution_count": null,
      "outputs": [
        {
          "name": "stdout",
          "text": "Silhouette Score with 40.000 samples: 0.456\nAdjusted Mutual Information Score: 0.737\nCPU times: user 15.7 s, sys: 2.38 s, total: 18.1 s\nWall time: 18.1 s\n",
          "output_type": "stream"
        }
      ]
    },
    {
      "cell_type": "markdown",
      "source": "Ok, so now we know that both algorithms deliver the same results in two metrics but we can check if the _labeling_ is exactly the same:",
      "metadata": {
        "tags": [],
        "cell_id": "00046-b0110e67-30bd-49b7-8ee7-5d62ff6d05f3",
        "deepnote_cell_type": "markdown"
      }
    },
    {
      "cell_type": "code",
      "metadata": {
        "tags": [],
        "cell_id": "00046-33da6500-3df5-4de9-b205-efdc12f1828e",
        "deepnote_to_be_reexecuted": false,
        "source_hash": "8301bff",
        "execution_millis": 1212,
        "execution_start": 1619393059702,
        "deepnote_cell_type": "code"
      },
      "source": "print('Adjusted Mutual Information Score: {:.3f}'.format(adjusted_mutual_info_score(km.labels_, ff.labels_)))",
      "execution_count": null,
      "outputs": [
        {
          "name": "stdout",
          "text": "Adjusted Mutual Information Score: 1.000\n",
          "output_type": "stream"
        }
      ]
    },
    {
      "cell_type": "markdown",
      "source": "Wow!! Now all the trouble installing Faiss makes sense!! It works exactly like we expected, playing and winning the clustering game to Kmeans itself.",
      "metadata": {
        "tags": [],
        "cell_id": "00048-26bb792f-2245-4549-8fb9-e0224a72c362",
        "deepnote_cell_type": "markdown"
      }
    },
    {
      "cell_type": "markdown",
      "source": "#### Conclusions:\n0. It's __truly faster__ running in the same hardware which is impressive (check the time!! 🥇 1 minute vs 31 to get the same labelling)\n1. The installation process was painfull for me, perhaps I'm not good dealing with these kind of problem but either way __It's not as simple as most libraries.__\n2. Without the referenced closed issue I wouldn't be able to run It properly, __kudos to the community!__",
      "metadata": {
        "tags": [],
        "cell_id": "00041-40da0072-e8bb-410d-b6d9-68140e64903a",
        "deepnote_cell_type": "markdown"
      }
    },
    {
      "cell_type": "markdown",
      "source": "## Demo-ing a webpage with Streamlit directly from Deepnote\nSo at this point we've made some preprocessing, ran some (many!) experiments and compare their results, perhaps even you uncovered some meaninful insights and characterized each cluster. Now's the time to showcase the final result to the world! You only need to show a demo that impress even the most skeptical decision maker.\n\nWell, sometimes showing a notebook (even a pretty one) is not the best option as It's rather difficult to imagine what you're seeing in another place (to a CRM, webpage, anywhere!). For those cases you can make a small demo in [Streamlit](https://streamlit.io/) and when you're working in a cloud notebook add some [Ngrok](https://ngrok.com/docs) to get the deal done. Full disclosure this code is the result of reading [this](https://community.deepnote.com/c/ask-anything/using-streamlit-in-deepnote) question and re-using the code. Kudos to the Deepnote community!",
      "metadata": {
        "tags": [],
        "cell_id": "00033-fc28f04b-60e4-4e49-bfbf-81b37a9ec6f1",
        "deepnote_cell_type": "markdown"
      }
    },
    {
      "cell_type": "code",
      "metadata": {
        "tags": [],
        "cell_id": "00077-a7dc5f3d-8169-4814-a2f8-8d736ed4a13d",
        "deepnote_to_be_reexecuted": false,
        "source_hash": "1061ad3a",
        "execution_millis": 1025,
        "execution_start": 1619396185854,
        "deepnote_cell_type": "code"
      },
      "source": "# We download Ngrok, check how It appears in the files!\n!wget https://bin.equinox.io/c/4VmDzA7iaHb/ngrok-stable-linux-amd64.zip",
      "execution_count": null,
      "outputs": [
        {
          "name": "stdout",
          "text": "--2021-04-26 00:16:26--  https://bin.equinox.io/c/4VmDzA7iaHb/ngrok-stable-linux-amd64.zip\nResolving bin.equinox.io (bin.equinox.io)... 34.225.127.47, 52.200.34.95, 54.236.206.131, ...\nConnecting to bin.equinox.io (bin.equinox.io)|34.225.127.47|:443... connected.\nHTTP request sent, awaiting response... 200 OK\nLength: 13828408 (13M) [application/octet-stream]\nSaving to: ‘ngrok-stable-linux-amd64.zip.2’\n\nngrok-stable-linux- 100%[===================>]  13.19M  56.7MB/s    in 0.2s    \n\n2021-04-26 00:16:26 (56.7 MB/s) - ‘ngrok-stable-linux-amd64.zip.2’ saved [13828408/13828408]\n\n",
          "output_type": "stream"
        }
      ]
    },
    {
      "cell_type": "code",
      "metadata": {
        "tags": [],
        "cell_id": "00051-3162f17a-111b-445d-9b4e-2bf8a9340fa7",
        "deepnote_to_be_reexecuted": false,
        "source_hash": "1acbd7ba",
        "execution_millis": 763,
        "execution_start": 1619474885619,
        "deepnote_cell_type": "code"
      },
      "source": "# Then unzip It\n!unzip -y ngrok-stable-linux-amd64.zip ",
      "execution_count": 7,
      "outputs": [
        {
          "name": "stdout",
          "text": "UnZip 6.00 of 20 April 2009, by Debian. Original by Info-ZIP.\r\n\r\nUsage: unzip [-Z] [-opts[modifiers]] file[.zip] [list] [-x xlist] [-d exdir]\r\n  Default action is to extract files in list, except those in xlist, to exdir;\r\n  file[.zip] may be a wildcard.  -Z => ZipInfo mode (\"unzip -Z\" for usage).\r\n\r\n  -p  extract files to pipe, no messages     -l  list files (short format)\r\n  -f  freshen existing files, create none    -t  test compressed archive data\r\n  -u  update files, create if necessary      -z  display archive comment only\r\n  -v  list verbosely/show version info       -T  timestamp archive to latest\r\n  -x  exclude files that follow (in xlist)   -d  extract files into exdir\r\nmodifiers:\r\n  -n  never overwrite existing files         -q  quiet mode (-qq => quieter)\r\n  -o  overwrite files WITHOUT prompting      -a  auto-convert any text files\r\n  -j  junk paths (do not make directories)   -aa treat ALL files as text\r\n  -U  use escapes for all non-ASCII Unicode  -UU ignore any Unicode fields\r\n  -C  match filenames case-insensitively     -L  make (some) names lowercase\r\n  -X  restore UID/GID info                   -V  retain VMS version numbers\r\n  -K  keep setuid/setgid/tacky permissions   -M  pipe through \"more\" pager\r\nSee \"unzip -hh\" or unzip.txt for more help.  Examples:\r\n  unzip data1 -x joe   => extract all files except joe from zipfile data1.zip\r\n  unzip -p foo | more  => send contents of foo.zip via pipe into program more\r\n  unzip -fo foo ReadMe => quietly replace existing ReadMe if archive file newer\r\n",
          "output_type": "stream"
        }
      ]
    },
    {
      "cell_type": "code",
      "metadata": {
        "tags": [],
        "cell_id": "00051-e9246111-8611-4ad4-9303-6c877d4b746a",
        "deepnote_to_be_reexecuted": false,
        "source_hash": "d1297a7d",
        "execution_millis": 3,
        "execution_start": 1619474890526,
        "deepnote_cell_type": "code"
      },
      "source": "import pickle # To serialize our model\nimport pandas as pd # ...\nfrom sklearn.cluster import KMeans # It won't miss a section for nothing in the world",
      "execution_count": 8,
      "outputs": []
    },
    {
      "cell_type": "markdown",
      "source": "This is our demo model, truly lean :P",
      "metadata": {
        "tags": [],
        "cell_id": "00053-15bd5ff1-ef44-4409-a71f-09a5e092a680",
        "deepnote_cell_type": "markdown"
      }
    },
    {
      "cell_type": "code",
      "metadata": {
        "tags": [],
        "cell_id": "00078-a20ce7f3-2ecd-4332-9908-2193eb4e934e",
        "deepnote_to_be_reexecuted": false,
        "source_hash": "a15108ea",
        "execution_millis": 35,
        "execution_start": 1619474892643,
        "deepnote_cell_type": "code"
      },
      "source": "dataset = pd.read_csv('data.csv') # We read the drawn data\n\nkm = KMeans(n_clusters = 4, random_state=42) # Let's cluster as It is\nkm.fit(dataset[['x', 'y']]) # Fitting to the data\n\npickle.dump(km, open('model.pkl','wb')) # We save the model (check the list of files!)",
      "execution_count": 9,
      "outputs": []
    },
    {
      "cell_type": "markdown",
      "source": "So, in order to show an app Streamlit ask that you create a .py file instead of running cells from a notebook. We can easily do this creating a file named _cluster_app.py_ and editing it or looking at the _magic_ 🧙‍♂️ below. Remember there are thousands of streamlit apps running around, take a look in their gallery or search in Github for examples to copy and edit.\n```\nimport streamlit as st # We list every library that we must import\nimport seaborn as sns\nimport pandas as pd\nimport pickle\nimport matplotlib.pyplot as plt\n\ndataset = pd.read_csv('data.csv') # For what I have in mind I'll need the data\nmodel = pickle.load(open('model.pkl', 'rb')) # We load the trained model\n\nst.write(\"\"\"\n# Let's cluster some numbers 😎 \n\"\"\") # This is the main title (check the image!)\n\nst.sidebar.header(\"User input's\") # This is the sidebar title\n\ndef user_input_features(): # We define functions to read the user inputs over the streamlit sliders controls and return them as a pandas dataframe\n    x_ = st.sidebar.slider('x value', 1, 1000, int(dataset['x'].mean())) # We establish the range 1-1000 for the inputs and set the default in the mean of the value in the train set\n    y_ = st.sidebar.slider('y value', 1, 1000, int(dataset['y'].mean())) # Same as above!\n    data = {'y': y_,\n            'x': x_,\n            'data_type': 'prediction'}\n            \n    features = pd.DataFrame(data, index=[0])\n    return features\n\n\ndf = user_input_features() # We retrieve the input using the function defined above and save it as \"df\"\n\nst.subheader('Your x & y values:') # This is the title of the next print (the df)\n\nst.write(df) # We print the data just to show the selected values in case the user closes the sidebar\n\n\ncluster_n = model.predict(df[['x', 'y']]) # We are saving the predicted label for the user input, you'll see why!\n\n\ntemp_df = pd.concat([dataset[['x', 'y']], df], axis= 0) # Now we put the input and the train dataset together\ntemp_df['cluster'] = model.predict(temp_df[['x', 'y']]) # Add a column named 'cluster'\ntemp_df.fillna('train', inplace=True) # This is to fill the \"data_type\" field and distinguish between training and user input instances\n\nst.subheader('# of cluster') # Just a title\n\nst.write(cluster_n ) # Now we do use the predicted cluster of the input we stored before\n\nst.write(temp_df) # We print the full dataset (check the interactivity, neat!)\n\nst.title(\"Scatterplot\") # Now we add a title for the scatterplot\n\nfig, ax = plt.subplots() # First define the scatterplot\nax =sns.scatterplot(data=temp_df,\n                    x=\"x\",\n                    y=\"y\",\n                    hue=\"cluster\", # Color by cluster\n                    style=\"data_type\", # To drawn different shapes\n                    size='data_type', # We're going to set some difference in the size also\n                    sizes={'prediction': 100, # You can just state the sizes in a dictionary\n                            'train': 20})\n\nax.legend(bbox_to_anchor=(1, 1), # This is to move the legends outside the plot\n           borderaxespad=1)\n\nst.pyplot(fig) # Finally, we render this scatterplot in streamlit ",
      "metadata": {
        "tags": [],
        "cell_id": "00054-e6643fdc-ed11-4101-bb92-a3dbcb108354",
        "deepnote_cell_type": "markdown"
      }
    },
    {
      "cell_type": "markdown",
      "source": "Check the GIF if you have doubts! ![alt text](/pics/streamlit.gif)",
      "metadata": {
        "tags": [],
        "cell_id": "00056-05191823-2c26-4ad2-a0ef-0d00785dd439",
        "deepnote_cell_type": "markdown"
      }
    },
    {
      "cell_type": "code",
      "source": "%%writefile cluster_app.py \n# With this magic you'll save the content of the cell into a file named \"cluster_app.py\"\n\nimport streamlit as st # We list every library that we must import\nimport seaborn as sns\nimport pandas as pd\nimport pickle\nimport matplotlib.pyplot as plt\n\ndataset = pd.read_csv('data.csv') # For what I have in mind I'll need the data\nmodel = pickle.load(open('model.pkl', 'rb')) # We load the trained model\n\nst.write(\"\"\"\n# Let's cluster some numbers 😎 \n\"\"\") # This is the main title (check the image!)\n\nst.sidebar.header(\"User input's\") # This is the sidebar title\n\ndef user_input_features(): # We define functions to read the user inputs over the streamlit sliders controls and return them as a pandas dataframe\n    x_ = st.sidebar.slider('x value', 1, 1000, int(dataset['x'].mean())) # We establish the range 1-1000 for the inputs and set the default in the mean of the value in the train set\n    y_ = st.sidebar.slider('y value', 1, 1000, int(dataset['y'].mean())) # Same as above!\n    data = {'y': y_,\n            'x': x_,\n            'data_type': 'prediction'}\n            \n    features = pd.DataFrame(data, index=[0])\n    return features\n\n\ndf = user_input_features() # We retrieve the input using the function defined above and save it as \"df\"\n\nst.subheader('Your x & y values:') # This is the title of the next print (the df)\n\nst.write(df) # We print the data just to show the selected values in case the user closes the sidebar\n\n\ncluster_n = model.predict(df[['x', 'y']]) # We are saving the predicted label for the user input, you'll see why!\n\n\ntemp_df = pd.concat([dataset[['x', 'y']], df], axis= 0) # Now we put the input and the train dataset together\ntemp_df['cluster'] = model.predict(temp_df[['x', 'y']]) # Add a column named 'cluster'\ntemp_df.fillna('train', inplace=True) # This is to fill the \"data_type\" field and distinguish between training and user input instances\n\nst.subheader('# of cluster') # Just a title\n\nst.write(cluster_n ) # Now we do use the predicted cluster of the input we stored before\n\nst.write(temp_df) # We print the full dataset (check the interactivity, neat!)\n\nst.title(\"Scatterplot\") # Now we add a title for the scatterplot\n\nfig, ax = plt.subplots() # First define the scatterplot\nax =sns.scatterplot(data=temp_df,\n                    x=\"x\",\n                    y=\"y\",\n                    hue=\"cluster\", # Color by cluster\n                    style=\"data_type\", # To drawn different shapes\n                    size='data_type', # We're going to set some difference in the size also\n                    sizes={'prediction': 100, # You can just state the sizes in a dictionary\n                            'train': 20})\n\nax.legend(bbox_to_anchor=(1, 1), # This is to move the legends outside the plot\n           borderaxespad=1)\n\nst.pyplot(fig) # Finally, we render this scatterplot in streamlit ",
      "metadata": {
        "tags": [],
        "cell_id": "00057-9c259b73-c67c-455e-9077-f6ebf03ed226",
        "deepnote_to_be_reexecuted": false,
        "source_hash": "fa8a8eba",
        "execution_millis": 21,
        "output_cleared": false,
        "execution_start": 1619475657233,
        "deepnote_cell_type": "code"
      },
      "outputs": [
        {
          "name": "stdout",
          "text": "Overwriting cluster_app.py\n",
          "output_type": "stream"
        }
      ],
      "execution_count": 19
    },
    {
      "cell_type": "code",
      "metadata": {
        "tags": [],
        "cell_id": "00083-cd16ff76-bb65-452b-a18c-01c34b5367ce",
        "deepnote_to_be_reexecuted": false,
        "source_hash": "60b1948e",
        "execution_millis": 50443,
        "output_cleared": false,
        "execution_start": 1619475668109,
        "deepnote_cell_type": "code"
      },
      "source": "get_ipython().system_raw('./ngrok http 8501 &') # This is the magic that makes posible to run a localhost in a cloud instance\n\n!curl -s http://localhost:4040/api/tunnels | python3 -c \\\n    'import sys, json; print(json.load(sys.stdin)[\"tunnels\"][0][\"public_url\"])'\n\n!streamlit run cluster_app.py",
      "execution_count": 20,
      "outputs": [
        {
          "name": "stdout",
          "text": "https://98c259af2de4.ngrok.io\n\u001b[0m\n\u001b[34m\u001b[1m  You can now view your Streamlit app in your browser.\u001b[0m\n\u001b[0m\n\u001b[34m  Network URL: \u001b[0m\u001b[1mhttp://172.3.37.56:8501\u001b[0m\n\u001b[34m  External URL: \u001b[0m\u001b[1mhttp://34.227.172.158:8501\u001b[0m\n\u001b[0m\n^C\n\u001b[34m  Stopping...\u001b[0m\n",
          "output_type": "stream"
        }
      ]
    },
    {
      "cell_type": "markdown",
      "source": "#### Conclusions:\n0. Every model deserves a chance of being properly show\n1. With little coding you can show something really cool and professional, just look until you find a nice template!\n2. Without sharing there's no chance of improvement, that's why I'm here!",
      "metadata": {
        "tags": [],
        "cell_id": "00058-b56308ac-73fb-4031-b42e-022922e2c694",
        "deepnote_cell_type": "markdown"
      }
    },
    {
      "cell_type": "markdown",
      "source": "# Final thoughs",
      "metadata": {
        "tags": [],
        "cell_id": "00058-c96e824b-9a47-4144-8d1f-16e5cf4955e5",
        "deepnote_cell_type": "markdown"
      }
    },
    {
      "cell_type": "markdown",
      "source": "<a style='text-decoration:none;line-height:16px;display:flex;color:#5B5B62;padding:10px;justify-content:end;' href='https://deepnote.com?utm_source=created-in-deepnote-cell&projectId=4f5efaa1-5bc4-4195-979e-865992eb0408' target=\"_blank\">\n<img alt='Created in deepnote.com' style='display:inline;max-height:16px;margin:0px;margin-right:7.5px;' src='data:image/svg+xml;base64,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' > </img>\nCreated in <span style='font-weight:600;margin-left:4px;'>Deepnote</span></a>",
      "metadata": {
        "tags": [],
        "created_in_deepnote_cell": true,
        "deepnote_cell_type": "markdown"
      }
    }
  ],
  "nbformat": 4,
  "nbformat_minor": 2,
  "metadata": {
    "orig_nbformat": 2,
    "deepnote": {
      "is_reactive": false
    },
    "deepnote_notebook_id": "a2959785-2bb3-4d3f-889f-75a8bf0ed31b",
    "deepnote_execution_queue": []
  }
}